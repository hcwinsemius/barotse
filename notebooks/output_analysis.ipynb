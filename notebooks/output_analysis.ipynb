{
 "cells": [
  {
   "cell_type": "markdown",
   "metadata": {},
   "source": [
    "## Investigate wflow outputs with xarray"
   ]
  },
  {
   "cell_type": "code",
   "execution_count": null,
   "metadata": {},
   "outputs": [],
   "source": [
    "%matplotlib inline\n",
    "import xarray as xr\n",
    "import matplotlib.pyplot as plt"
   ]
  },
  {
   "cell_type": "code",
   "execution_count": null,
   "metadata": {},
   "outputs": [],
   "source": [
    "fn = '/home/hcwinsemius/Barotse/zambezi_4km/all_outputs/outmaps.nc'\n",
    "fn = '/home/hcwinsemius/Barotse/zambezi_4km/all_outputs_Minf_Ksat10_SWC4_RootDepth_4/outmaps.nc'\n",
    "ds = xr.open_dataset(fn)\n",
    "ds"
   ]
  },
  {
   "cell_type": "code",
   "execution_count": null,
   "metadata": {},
   "outputs": [],
   "source": [
    "# plot some spatial sums\n",
    "import numpy as np\n",
    "f = plt.figure(figsize=(16,16))\n",
    "ssf = ds['ssf_riv'].sum(dim='time')\n",
    "qo = ds['qo_riv'].sum(dim='time')\n",
    "# Inwater = dss[-1]['Inwater'].sum(dim='time')\n",
    "qo = qo.where(qo+ssf>0)\n",
    "ssf = ssf.where(qo+ssf>0)\n",
    "ssf *= ssf>0\n",
    "qo *= qo>0\n",
    "# watbal *=watbal<1750\n",
    "# dss[-1]['wat'][25].plot()\n",
    "ax1 = plt.subplot(221)\n",
    "qo.plot(ax=ax1, cmap='viridis_r')\n",
    "\n",
    "ax2 = plt.subplot(222)\n",
    "ssf.plot(ax=ax2, cmap='viridis_r')\n",
    "\n",
    "ax3 = plt.subplot(223)\n",
    "(qo+ssf).plot(ax=ax3, cmap='viridis_r')\n",
    "\n",
    "ax4 = plt.subplot(224)\n",
    "ds['ex_ss'][53].plot(ax=ax4, cmap='Blues_r')\n",
    "# wb = watbal.mean(dim=('lat', 'lon'))\n",
    "# wb.plot()"
   ]
  },
  {
   "cell_type": "code",
   "execution_count": null,
   "metadata": {},
   "outputs": [],
   "source": [
    "import pcraster as pcr\n",
    "import numpy as np\n",
    "ldd = pcr.readmap('/home/hcwinsemius/Barotse/zambezi_4km/staticmaps/wflow_ldd.map')\n",
    "iw = ds['inw'].values\n",
    "\n",
    "swc = ds['SWC'].values\n",
    "swd = ds['SWD'].values\n",
    "ustore = ds['ustore'].values\n",
    "\n",
    "# iw.shape\n",
    "accu = [pcr.pcr2numpy(pcr.accuflux(ldd, pcr.numpy2pcr(pcr.Scalar, i, np.nan)), np.nan) for i in iw]\n",
    "\n",
    "ustorecap = [c-d-u for c, d, u in zip(swc, swd, ustore)]\n",
    "\n",
    "# add to Dataset\n",
    "ds['accu'] = (('time', 'lat', 'lon'), accu)\n",
    "ds['ustorecap'] = (('time', 'lat', 'lon'), ustorecap)\n",
    "\n",
    "# f = plt.figure(figsize=(16,16))\n",
    "\n"
   ]
  },
  {
   "cell_type": "code",
   "execution_count": null,
   "metadata": {},
   "outputs": [],
   "source": [
    "import hvplot.xarray\n",
    "# dss[-1]['zi'].hvplot.quadmesh('lon', 'lat', cmap='Blues_r', rasterize=True, dynamic=True, frame_width=550, frame_height=500, datashade=True, widget_type='scrubber', widget_location='bottom')\n",
    "# dss[-1]['zi'].hvplot.quadmesh('lon', 'lat', clim=(0, 7000), dynamic=True, frame_width=550, frame_height=500, cmap='Blues_r', widget_type='scrubber', widget_location='bottom', rasterize=True)\n",
    "# (dss[-1]['SWC']-dss[-1]['SWD']).hvplot.quadmesh('lon', 'lat', dynamic=True, frame_width=550, frame_height=500, cmap='Blues_r', widget_type='scrubber', widget_location='bottom', rasterize=True)\n",
    "ds['ex_ss'].hvplot.quadmesh('lon', 'lat', dynamic=True, frame_width=550, frame_height=500, cmap='Blues_r', widget_type='scrubber', widget_location='bottom', rasterize=True)\n"
   ]
  },
  {
   "cell_type": "code",
   "execution_count": null,
   "metadata": {},
   "outputs": [],
   "source": [
    "import hvplot.xarray\n",
    "# dss[-1]['zi'].hvplot.quadmesh('lon', 'lat', cmap='Blues_r', rasterize=True, dynamic=True, frame_width=550, frame_height=500, widget_type='scrubber', widget_location='bottom')\n",
    "ds['zi'].hvplot.quadmesh('lon', 'lat', clim=(0, 1500), dynamic=True, frame_width=550, frame_height=500, cmap='Blues_r', widget_type='scrubber', widget_location='bottom', rasterize=True)\n",
    "# dss[-1]['ustore'].hvplot.quadmesh('lon', 'lat', dynamic=True, frame_width=550, frame_height=500, cmap='Blues_r', widget_type='scrubber', widget_location='bottom', rasterize=True)\n"
   ]
  },
  {
   "cell_type": "code",
   "execution_count": null,
   "metadata": {},
   "outputs": [],
   "source": [
    "import hvplot.xarray\n",
    "\n",
    "dss[-1]['qo_riv'].hvplot.quadmesh('lon', 'lat', dynamic=True, frame_width=550, frame_height=500, cmap='Blues_r', widget_type='scrubber', widget_location='bottom', rasterize=True)\n"
   ]
  },
  {
   "cell_type": "code",
   "execution_count": null,
   "metadata": {},
   "outputs": [],
   "source": [
    "f = plt.figure(figsize=(16, 16))\n",
    "ax1 = plt.subplot(221)\n",
    "ax2 = plt.subplot(222)\n",
    "ax3 = plt.subplot(223)\n",
    "ax4 = plt.subplot(224)\n",
    "ax1.grid()\n",
    "ax2.grid()\n",
    "ax3.grid()\n",
    "ax4.grid()\n",
    "surf_area = 5e5 * 1e6 # (about 500,000 km2)\n",
    "\n",
    "conv_fact = 86400 * surf_area**-1 * 1e3\n",
    "\n",
    "zi = -ds['zi'].mean(dim=('lat', 'lon'))\n",
    "transfer = ds['trans'].mean(dim=('lat', 'lon'))\n",
    "ssf = ds['ssf_riv'].sum(dim=('lat', 'lon'))\n",
    "qo = ds['qo_riv'].sum(dim=('lat', 'lon'))\n",
    "inw = ds['inw'].sum(dim=('lat', 'lon'))\n",
    "surf_runoff = inw-ssf-qo\n",
    "tot = ssf + qo\n",
    "\n",
    "# make plots\n",
    "(zi).plot(ax=ax1, label='Groundwater level')\n",
    "ax1.set_ylabel('depth under surface [mm]')\n",
    "\n",
    "transfer.cumsum().plot(ax=ax2, label='Accumulated transfer from unsaturated to saturated zone')\n",
    "ax2.set_ylabel('Transfer [mm]')\n",
    "ax2.legend()\n",
    "\n",
    "qo.plot(ax=ax3, label='lateral excess outflow from soil')\n",
    "ssf.plot(ax=ax3, label='sub-surface lateral flow')\n",
    "surf_runoff.plot(ax=ax3, label='runoff from surface')\n",
    "ax3.set_ylabel('Lateral flux [m3/s]')\n",
    "ax3.legend()\n",
    "\n",
    "inw.plot(ax=ax4, label='Total lateral flow per timestep')\n",
    "ax4.set_ylabel('Lateral flux [m3/s]')\n",
    "ax4.legend()"
   ]
  },
  {
   "cell_type": "code",
   "execution_count": null,
   "metadata": {},
   "outputs": [],
   "source": [
    "# in mm\n",
    "f = plt.figure(figsize=(16, 10))\n",
    "ax1 = plt.subplot(121)\n",
    "ax2 = plt.subplot(122)\n",
    "# ax3 = plt.subplot(223)\n",
    "# ax4 = plt.subplot(224)\n",
    "ax1.grid()\n",
    "ax2.grid()\n",
    "# ax3.grid()\n",
    "# ax4.grid()\n",
    "surf_area = 3580 * 3688 # 5e5 * 1e6 # (about 500,000 km2)\n",
    "conv_fact = 86400 * surf_area**-1 * 1e3 # from m3/s to mm day-1\n",
    "# ds['swf'][100].plot()\n",
    "zi = -ds['zi'].mean(dim=('lat', 'lon'))\n",
    "ssf = ds['ssf_riv'].mean(dim=('lat', 'lon'))*conv_fact  # from m3 s-1 to mm per day\n",
    "qo = ds['qo_riv'].mean(dim=('lat', 'lon'))*conv_fact  # from m3 s-1 to mm per day\n",
    "ex_us = ds['ex_us'].mean(dim=('lat', 'lon'))\n",
    "ex_ss = ds['ex_ss'].mean(dim=('lat', 'lon'))\n",
    "inw = ds['inw'].mean(dim=('lat', 'lon'))*conv_fact\n",
    "P = ds['P'].mean(dim=('lat', 'lon'))\n",
    "AET = ds['AET'].mean(dim=('lat', 'lon'))\n",
    "# tot = ssf + qo\n",
    "(zi).plot(ax=ax1)\n",
    "plt.ylabel('depth under surface [mm]')\n",
    "ssf.cumsum().plot(ax=ax2, label='subsurface flow')\n",
    "qo.cumsum().plot(ax=ax2, label='land runoff')\n",
    "ex_us.cumsum().plot(ax=ax2, label='exfilt_us')\n",
    "ex_ss.cumsum().plot(ax=ax2, label='exfilt_ss')\n",
    "inw.cumsum().plot(ax=ax2, label='total runoff')\n",
    "P.cumsum().plot(ax=ax2, color='k', linestyle='-', label='Precip')\n",
    "AET.cumsum().plot(ax=ax2, color='k', linestyle='--', label='Evaporation')\n",
    "plt.ylabel('cumulative flux [mm]')\n",
    "plt.legend()\n"
   ]
  },
  {
   "cell_type": "code",
   "execution_count": null,
   "metadata": {},
   "outputs": [],
   "source": [
    "# lon = 23.2  # Lukulu\n",
    "# lat = -14.337 # Lukulu\n",
    "lon = 24.15 # Watopa\n",
    "lat = -13.584 # Watopa\n",
    "\n",
    "ac = ds['accu'].sel(lat=lat, lon=lon, method='nearest')\n",
    "ts = ds['run'].sel(lat=lat, lon=lon, method='nearest')\n",
    "ac.plot(label='instantaneous accumulated flow')\n",
    "ts.plot(label='Routed discharge')\n",
    "plt.ylabel('Discharge [m3/s]')\n",
    "plt.legend()\n",
    "plt.grid()\n"
   ]
  },
  {
   "cell_type": "code",
   "execution_count": null,
   "metadata": {},
   "outputs": [],
   "source": [
    "ts_month = ts.resample(time='MS').mean()\n",
    "ac_month = ac.resample(time='MS').mean()"
   ]
  },
  {
   "cell_type": "code",
   "execution_count": null,
   "metadata": {},
   "outputs": [],
   "source": [
    "ac_month.plot(label='Instantaneous accumulated flow')\n",
    "ts_month.plot(label='Routed discharge')\n",
    "plt.ylabel('Discharge [m3/s]')\n",
    "plt.legend()\n",
    "plt.grid()\n"
   ]
  }
 ],
 "metadata": {
  "kernelspec": {
   "display_name": "Python 3",
   "language": "python",
   "name": "python3"
  },
  "language_info": {
   "codemirror_mode": {
    "name": "ipython",
    "version": 3
   },
   "file_extension": ".py",
   "mimetype": "text/x-python",
   "name": "python",
   "nbconvert_exporter": "python",
   "pygments_lexer": "ipython3",
   "version": "3.6.10"
  }
 },
 "nbformat": 4,
 "nbformat_minor": 4
}
