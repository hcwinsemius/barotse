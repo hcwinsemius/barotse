{
 "cells": [
  {
   "cell_type": "code",
   "execution_count": 6,
   "metadata": {},
   "outputs": [],
   "source": [
    "import numpy as np\n",
    "import itertools\n",
    "import os"
   ]
  },
  {
   "cell_type": "markdown",
   "metadata": {},
   "source": [
    "We want to loop through all results. So we make a template filename for the output.nc maps. Then within the loop we fill in the template parts."
   ]
  },
  {
   "cell_type": "code",
   "execution_count": 9,
   "metadata": {},
   "outputs": [
    {
     "name": "stdout",
     "output_type": "stream",
     "text": [
      "/home/hcwinsemius/Barotse/zambezi_4km/all_outputs_001/outmaps.nc\n",
      "/home/hcwinsemius/Barotse/zambezi_4km/all_outputs_002/outmaps.nc\n",
      "/home/hcwinsemius/Barotse/zambezi_4km/all_outputs_003/outmaps.nc\n",
      "/home/hcwinsemius/Barotse/zambezi_4km/all_outputs_004/outmaps.nc\n",
      "/home/hcwinsemius/Barotse/zambezi_4km/all_outputs_005/outmaps.nc\n",
      "/home/hcwinsemius/Barotse/zambezi_4km/all_outputs_006/outmaps.nc\n",
      "/home/hcwinsemius/Barotse/zambezi_4km/all_outputs_007/outmaps.nc\n",
      "/home/hcwinsemius/Barotse/zambezi_4km/all_outputs_008/outmaps.nc\n",
      "/home/hcwinsemius/Barotse/zambezi_4km/all_outputs_009/outmaps.nc\n",
      "/home/hcwinsemius/Barotse/zambezi_4km/all_outputs_010/outmaps.nc\n",
      "/home/hcwinsemius/Barotse/zambezi_4km/all_outputs_011/outmaps.nc\n",
      "/home/hcwinsemius/Barotse/zambezi_4km/all_outputs_012/outmaps.nc\n",
      "/home/hcwinsemius/Barotse/zambezi_4km/all_outputs_013/outmaps.nc\n",
      "/home/hcwinsemius/Barotse/zambezi_4km/all_outputs_014/outmaps.nc\n",
      "/home/hcwinsemius/Barotse/zambezi_4km/all_outputs_015/outmaps.nc\n",
      "/home/hcwinsemius/Barotse/zambezi_4km/all_outputs_016/outmaps.nc\n",
      "/home/hcwinsemius/Barotse/zambezi_4km/all_outputs_017/outmaps.nc\n",
      "/home/hcwinsemius/Barotse/zambezi_4km/all_outputs_018/outmaps.nc\n",
      "/home/hcwinsemius/Barotse/zambezi_4km/all_outputs_019/outmaps.nc\n",
      "/home/hcwinsemius/Barotse/zambezi_4km/all_outputs_020/outmaps.nc\n",
      "/home/hcwinsemius/Barotse/zambezi_4km/all_outputs_021/outmaps.nc\n",
      "/home/hcwinsemius/Barotse/zambezi_4km/all_outputs_022/outmaps.nc\n",
      "/home/hcwinsemius/Barotse/zambezi_4km/all_outputs_023/outmaps.nc\n",
      "/home/hcwinsemius/Barotse/zambezi_4km/all_outputs_024/outmaps.nc\n",
      "/home/hcwinsemius/Barotse/zambezi_4km/all_outputs_025/outmaps.nc\n",
      "/home/hcwinsemius/Barotse/zambezi_4km/all_outputs_026/outmaps.nc\n",
      "/home/hcwinsemius/Barotse/zambezi_4km/all_outputs_027/outmaps.nc\n",
      "/home/hcwinsemius/Barotse/zambezi_4km/all_outputs_028/outmaps.nc\n",
      "/home/hcwinsemius/Barotse/zambezi_4km/all_outputs_029/outmaps.nc\n",
      "/home/hcwinsemius/Barotse/zambezi_4km/all_outputs_030/outmaps.nc\n",
      "/home/hcwinsemius/Barotse/zambezi_4km/all_outputs_031/outmaps.nc\n",
      "/home/hcwinsemius/Barotse/zambezi_4km/all_outputs_032/outmaps.nc\n",
      "/home/hcwinsemius/Barotse/zambezi_4km/all_outputs_033/outmaps.nc\n",
      "/home/hcwinsemius/Barotse/zambezi_4km/all_outputs_034/outmaps.nc\n",
      "/home/hcwinsemius/Barotse/zambezi_4km/all_outputs_035/outmaps.nc\n",
      "/home/hcwinsemius/Barotse/zambezi_4km/all_outputs_036/outmaps.nc\n",
      "/home/hcwinsemius/Barotse/zambezi_4km/all_outputs_037/outmaps.nc\n",
      "/home/hcwinsemius/Barotse/zambezi_4km/all_outputs_038/outmaps.nc\n",
      "/home/hcwinsemius/Barotse/zambezi_4km/all_outputs_039/outmaps.nc\n",
      "/home/hcwinsemius/Barotse/zambezi_4km/all_outputs_040/outmaps.nc\n",
      "/home/hcwinsemius/Barotse/zambezi_4km/all_outputs_041/outmaps.nc\n",
      "/home/hcwinsemius/Barotse/zambezi_4km/all_outputs_042/outmaps.nc\n",
      "/home/hcwinsemius/Barotse/zambezi_4km/all_outputs_043/outmaps.nc\n",
      "/home/hcwinsemius/Barotse/zambezi_4km/all_outputs_044/outmaps.nc\n",
      "/home/hcwinsemius/Barotse/zambezi_4km/all_outputs_045/outmaps.nc\n",
      "/home/hcwinsemius/Barotse/zambezi_4km/all_outputs_046/outmaps.nc\n",
      "/home/hcwinsemius/Barotse/zambezi_4km/all_outputs_047/outmaps.nc\n",
      "/home/hcwinsemius/Barotse/zambezi_4km/all_outputs_048/outmaps.nc\n",
      "/home/hcwinsemius/Barotse/zambezi_4km/all_outputs_049/outmaps.nc\n",
      "/home/hcwinsemius/Barotse/zambezi_4km/all_outputs_050/outmaps.nc\n",
      "/home/hcwinsemius/Barotse/zambezi_4km/all_outputs_051/outmaps.nc\n",
      "/home/hcwinsemius/Barotse/zambezi_4km/all_outputs_052/outmaps.nc\n",
      "/home/hcwinsemius/Barotse/zambezi_4km/all_outputs_053/outmaps.nc\n",
      "/home/hcwinsemius/Barotse/zambezi_4km/all_outputs_054/outmaps.nc\n",
      "/home/hcwinsemius/Barotse/zambezi_4km/all_outputs_055/outmaps.nc\n",
      "/home/hcwinsemius/Barotse/zambezi_4km/all_outputs_056/outmaps.nc\n",
      "/home/hcwinsemius/Barotse/zambezi_4km/all_outputs_057/outmaps.nc\n",
      "/home/hcwinsemius/Barotse/zambezi_4km/all_outputs_058/outmaps.nc\n",
      "/home/hcwinsemius/Barotse/zambezi_4km/all_outputs_059/outmaps.nc\n",
      "/home/hcwinsemius/Barotse/zambezi_4km/all_outputs_060/outmaps.nc\n",
      "/home/hcwinsemius/Barotse/zambezi_4km/all_outputs_061/outmaps.nc\n",
      "/home/hcwinsemius/Barotse/zambezi_4km/all_outputs_062/outmaps.nc\n",
      "/home/hcwinsemius/Barotse/zambezi_4km/all_outputs_063/outmaps.nc\n",
      "/home/hcwinsemius/Barotse/zambezi_4km/all_outputs_064/outmaps.nc\n"
     ]
    }
   ],
   "source": [
    "root_folder = '/home/hcwinsemius/Barotse/zambezi_4km'\n",
    "template = 'all_outputs_{:03d}/outmaps.nc'\n",
    "\n",
    "KsatVerList = range(1, 5)\n",
    "RootingDepthList = np.arange(1, 5)\n",
    "SoilThicknessList = range(1, 5)\n",
    "rmses = []\n",
    "mult_Ksat = []\n",
    "mult_root = []\n",
    "\n",
    "for n, (KsatVer, RootingDepth, SoilThickness) in enumerate(itertools.product(KsatVerList,\n",
    "                                                                                 RootingDepthList,\n",
    "                                                                                 SoilThicknessList,\n",
    "                                                                                )):\n",
    "    path = os.path.join(root_folder, template.format(n + 1))\n",
    "#     print(path)\n",
    "    ds = xr.Dataset(path)\n",
    "    mult_Ksat.append(KsatVer)\n",
    "    mult_root.append(RootingDepth)\n",
    "    mult_thickness.append(SoilThickness)\n",
    "    \n",
    "    # extract flows\n",
    "    # compute rmse\n",
    "    rmses.append(rmse)\n",
    "    # put multipliers and rmse in a list\n",
    "    # add list to a larger list\n"
   ]
  },
  {
   "cell_type": "code",
   "execution_count": null,
   "metadata": {},
   "outputs": [],
   "source": [
    "# ploit results\n",
    "plt.plot(mult_Ksat, rmses, '.')\n"
   ]
  },
  {
   "cell_type": "code",
   "execution_count": null,
   "metadata": {},
   "outputs": [],
   "source": []
  }
 ],
 "metadata": {
  "kernelspec": {
   "display_name": "Python 3",
   "language": "python",
   "name": "python3"
  },
  "language_info": {
   "codemirror_mode": {
    "name": "ipython",
    "version": 3
   },
   "file_extension": ".py",
   "mimetype": "text/x-python",
   "name": "python",
   "nbconvert_exporter": "python",
   "pygments_lexer": "ipython3",
   "version": "3.6.10"
  }
 },
 "nbformat": 4,
 "nbformat_minor": 4
}
