{
 "cells": [
  {
   "cell_type": "code",
   "execution_count": 1,
   "metadata": {},
   "outputs": [],
   "source": [
    "%matplotlib inline\n",
    "import numpy as np\n",
    "import pandas as pd\n",
    "import xarray as xr\n",
    "import itertools\n",
    "import os\n",
    "from sklearn.metrics import mean_squared_error\n",
    "from math import sqrt\n",
    "import matplotlib.pyplot as plt"
   ]
  },
  {
   "cell_type": "code",
   "execution_count": null,
   "metadata": {},
   "outputs": [],
   "source": [
    "ds = r'c:\\git\\barotse\\wflow\\all_outputs_001\\outmaps.nc'\n",
    "ds = xr.open_dataset(ds)\n",
    "ds"
   ]
  },
  {
   "cell_type": "code",
   "execution_count": null,
   "metadata": {},
   "outputs": [],
   "source": [
    "# plot some spatial sums\n",
    "import numpy as np\n",
    "f = plt.figure(figsize=(16,16))\n",
    "ssf = ds['ssf_riv'].sum(dim='time')\n",
    "qo = ds['qo_riv'].sum(dim='time')\n",
    "# Inwater = dss[-1]['Inwater'].sum(dim='time')\n",
    "qo = qo.where(qo+ssf>0)\n",
    "ssf = ssf.where(qo+ssf>0)\n",
    "ssf *= ssf>0\n",
    "qo *= qo>0\n",
    "# watbal *=watbal<1750\n",
    "# dss[-1]['wat'][25].plot()\n",
    "ax1 = plt.subplot(221)\n",
    "qo.plot(ax=ax1, cmap='viridis_r')\n",
    "\n",
    "ax2 = plt.subplot(222)\n",
    "ssf.plot(ax=ax2, cmap='viridis_r')\n",
    "\n",
    "ax3 = plt.subplot(223)\n",
    "(qo+ssf).plot(ax=ax3, cmap='viridis_r')\n",
    "\n",
    "ax4 = plt.subplot(224)\n",
    "ds['ex_ss'][53].plot(ax=ax4, cmap='Blues_r')\n",
    "# wb = watbal.mean(dim=('lat', 'lon'))\n",
    "# wb.plot()"
   ]
  },
  {
   "cell_type": "code",
   "execution_count": null,
   "metadata": {},
   "outputs": [],
   "source": [
    "f = plt.figure(figsize=(16, 16))\n",
    "ax1 = plt.subplot(221)\n",
    "ax2 = plt.subplot(222)\n",
    "ax3 = plt.subplot(223)\n",
    "ax4 = plt.subplot(224)\n",
    "ax1.grid()\n",
    "ax2.grid()\n",
    "ax3.grid()\n",
    "ax4.grid()\n",
    "surf_area = 5e5 * 1e6 # (about 500,000 km2)\n",
    "\n",
    "conv_fact = 86400 * surf_area**-1 * 1e3\n",
    "\n",
    "zi = -ds['zi'].mean(dim=('lat', 'lon'))\n",
    "transfer = ds['trans'].mean(dim=('lat', 'lon'))\n",
    "ssf = ds['ssf_riv'].sum(dim=('lat', 'lon'))\n",
    "qo = ds['qo_riv'].sum(dim=('lat', 'lon'))\n",
    "inw = ds['inw'].sum(dim=('lat', 'lon'))\n",
    "surf_runoff = inw-ssf-qo\n",
    "tot = ssf + qo\n",
    "\n",
    "# make plots\n",
    "(zi).plot(ax=ax1, label='Groundwater level')\n",
    "ax1.set_ylabel('depth under surface [mm]')\n",
    "\n",
    "#transfer.cumsum().plot(ax=ax2, label='Accumulated transfer from unsaturated to saturated zone')\n",
    "#ax2.set_ylabel('Transfer [mm]')\n",
    "#ax2.legend()\n",
    "\n",
    "qo.plot(ax=ax3, label='lateral excess outflow from soil')\n",
    "ssf.plot(ax=ax3, label='sub-surface lateral flow')\n",
    "surf_runoff.plot(ax=ax3, label='runoff from surface')\n",
    "ax3.set_ylabel('Lateral flux [m3/s]')\n",
    "ax3.legend()\n",
    "\n",
    "#inw.plot(ax=ax4, label='Total lateral flow per timestep')\n",
    "#ax4.set_ylabel('Lateral flux [m3/s]')\n",
    "#ax4.legend()"
   ]
  },
  {
   "cell_type": "code",
   "execution_count": null,
   "metadata": {},
   "outputs": [],
   "source": [
    "# in mm\n",
    "f = plt.figure(figsize=(16, 10))\n",
    "ax1 = plt.subplot(121)\n",
    "ax2 = plt.subplot(122)\n",
    "# ax3 = plt.subplot(223)\n",
    "# ax4 = plt.subplot(224)\n",
    "ax1.grid()\n",
    "ax2.grid()\n",
    "# ax3.grid()\n",
    "# ax4.grid()\n",
    "surf_area = 3580 * 3688 # 5e5 * 1e6 # (about 500,000 km2)\n",
    "conv_fact = 86400 * surf_area**-1 * 1e3 # from m3/s to mm day-1\n",
    "# ds['swf'][100].plot()\n",
    "zi = -ds['zi'].mean(dim=('lat', 'lon'))\n",
    "ssf = ds['ssf_riv'].mean(dim=('lat', 'lon'))*conv_fact  # from m3 s-1 to mm per day\n",
    "qo = ds['qo_riv'].mean(dim=('lat', 'lon'))*conv_fact  # from m3 s-1 to mm per day\n",
    "ex_us = ds['ex_us'].mean(dim=('lat', 'lon'))\n",
    "ex_ss = ds['ex_ss'].mean(dim=('lat', 'lon'))\n",
    "inw = ds['inw'].mean(dim=('lat', 'lon'))*conv_fact\n",
    "P = ds['P'].mean(dim=('lat', 'lon'))\n",
    "AET = ds['AET'].mean(dim=('lat', 'lon'))\n",
    "# tot = ssf + qo\n",
    "(zi).plot(ax=ax1)\n",
    "plt.ylabel('depth under surface [mm]')\n",
    "ssf.cumsum().plot(ax=ax2, label='subsurface flow')\n",
    "qo.cumsum().plot(ax=ax2, label='land runoff')\n",
    "ex_us.cumsum().plot(ax=ax2, label='exfilt_us')\n",
    "ex_ss.cumsum().plot(ax=ax2, label='exfilt_ss')\n",
    "inw.cumsum().plot(ax=ax2, label='total runoff')\n",
    "P.cumsum().plot(ax=ax2, color='k', linestyle='-', label='Precip')\n",
    "AET.cumsum().plot(ax=ax2, color='k', linestyle='--', label='Evaporation')\n",
    "plt.ylabel('cumulative flux [mm]')\n",
    "plt.legend()\n"
   ]
  },
  {
   "cell_type": "code",
   "execution_count": null,
   "metadata": {},
   "outputs": [],
   "source": [
    "#lon = 23.2  # Lukulu\n",
    "#lat = -14.337 # Lukulu\n",
    "#lon = 24.15 # Watopa\n",
    "#lat = -13.584 # Watopa\n",
    "#lon = 23.248  # Senanga\n",
    "#lat = -16.116 # Senanga\n",
    "#lon = 22.67 # Chavuma\n",
    "#lat = -13.083 # Chavuma\n",
    "lon = 22.686 # Kalabo\n",
    "lat = -14.988 # Kalabo\n",
    "\n",
    "#ac = ds['accu'].sel(lat=lat, lon=lon, method='nearest')\n",
    "ts = ds['run'].sel(lat=lat, lon=lon, method='nearest')\n",
    "#ac.plot(label='instantaneous accumulated flow')\n",
    "ts.plot(label='Routed discharge')\n",
    "plt.ylabel('Discharge [m3/s]')\n",
    "plt.legend()\n",
    "plt.grid()\n"
   ]
  },
  {
   "cell_type": "code",
   "execution_count": null,
   "metadata": {},
   "outputs": [],
   "source": [
    "ts_month = ts.resample(time='MS').mean()\n",
    "#ac_month = ac.resample(time='MS').mean()"
   ]
  },
  {
   "cell_type": "code",
   "execution_count": null,
   "metadata": {},
   "outputs": [],
   "source": [
    "#ac_month.plot(label='Instantaneous accumulated flow')\n",
    "ts_month.plot(label='Routed discharge')\n",
    "plt.ylabel('Discharge [m3/s]')\n",
    "plt.legend()\n",
    "plt.grid()\n"
   ]
  },
  {
   "cell_type": "raw",
   "metadata": {},
   "source": [
    "UPPER ZAMBEZI OBSERVED DISCHARGE_GAUGE STATION_WARMA DATA"
   ]
  },
  {
   "cell_type": "code",
   "execution_count": null,
   "metadata": {},
   "outputs": [],
   "source": [
    "fn = r'c:\\zambezi_4km\\observed_flow_calib.csv'\n",
    "df = pd.read_csv(fn, parse_dates=True, index_col=[0])\n",
    "#df\n",
    "#df.plot()\n",
    "monthly=df['2001-10-01':'2003-09-30']\n",
    "monthly.plot()\n",
    "#plt.xlabel('Year')\n",
    "plt.legend(loc='center left', bbox_to_anchor=(0.99, 0.5))\n",
    "plt.ylabel('Discharge m3/s')\n",
    "plt.title('Upper Zambezi Observed Flows')\n",
    "#plt.Figure(figsize=(15, 15))"
   ]
  },
  {
   "cell_type": "code",
   "execution_count": null,
   "metadata": {},
   "outputs": [],
   "source": [
    "df.Kalabo"
   ]
  },
  {
   "cell_type": "code",
   "execution_count": null,
   "metadata": {},
   "outputs": [],
   "source": [
    "plt.plot(df.Kalabo)\n",
    "#ts.plot(label='Routed discharge')\n",
    "ts_month.plot(label='Simulated discharge')\n",
    "plt.title('Kalabo Gauge Station')\n",
    "plt.ylabel('Discharge [m3/s]')\n",
    "plt.legend('OS')\n",
    "plt.grid()\n",
    "\n",
    "#sim.plot()\n",
    "#f = plt.figure(figsize=(15,3))\n",
    "#plt.show()"
   ]
  },
  {
   "cell_type": "markdown",
   "metadata": {},
   "source": [
    "-ROOT MEAN SQUARE ERROR (EMSE) ANALYSIS\n",
    "-We want to loop through all results. So we make a template filename for the output.nc maps. Then within the loop we fill in the template parts."
   ]
  },
  {
   "cell_type": "code",
   "execution_count": null,
   "metadata": {},
   "outputs": [],
   "source": [
    "#rms = sqrt(mean_squared_error(df.Lukulu,ts))\n",
    "\n",
    "rmses = np.sqrt(np.sum((obs-sim)**2))"
   ]
  },
  {
   "cell_type": "code",
   "execution_count": 2,
   "metadata": {},
   "outputs": [
    {
     "name": "stdout",
     "output_type": "stream",
     "text": [
      "c:\\git\\barotse\\wflow\\all_outputs_001\\outmaps.nc\n",
      "c:\\git\\barotse\\wflow\\all_outputs_002\\outmaps.nc\n",
      "c:\\git\\barotse\\wflow\\all_outputs_003\\outmaps.nc\n",
      "c:\\git\\barotse\\wflow\\all_outputs_004\\outmaps.nc\n",
      "c:\\git\\barotse\\wflow\\all_outputs_005\\outmaps.nc\n",
      "c:\\git\\barotse\\wflow\\all_outputs_006\\outmaps.nc\n",
      "c:\\git\\barotse\\wflow\\all_outputs_007\\outmaps.nc\n",
      "c:\\git\\barotse\\wflow\\all_outputs_008\\outmaps.nc\n",
      "c:\\git\\barotse\\wflow\\all_outputs_009\\outmaps.nc\n"
     ]
    }
   ],
   "source": [
    "root_folder = r'c:\\git\\barotse\\wflow'\n",
    "template = 'all_outputs_{:03d}\\outmaps.nc'\n",
    "\n",
    "KsatVerList = range(1, 2)\n",
    "RootingDepthList = np.arange(1,4 )\n",
    "SoilThicknessList = range(1, 4)\n",
    "rmses = []\n",
    "mult_Ksat = []\n",
    "mult_root = []\n",
    "\n",
    "for n, (KsatVer, RootingDepth, SoilThickness) in enumerate(itertools.product(KsatVerList,\n",
    "                                                                                 RootingDepthList,\n",
    "                                                                                 SoilThicknessList,\n",
    "                                                                                )):\n",
    "    path = os.path.join(root_folder,template.format(n + 1))\n",
    "    print(path)\n",
    "    ds = xr.open_dataset(path)\n",
    "    mult_Ksat.append(KsatVer)\n",
    "    #mult_root.append(RootingDepth)\n",
    "    #mult_thickness.append(SoilThickness)\n",
    "    \n",
    "    # extract flows\n",
    "    # compute rmse\n",
    "    rmses.append(rmses)\n",
    "    # put multipliers and rmse in a list\n",
    "    # add list to a larger list"
   ]
  },
  {
   "cell_type": "code",
   "execution_count": null,
   "metadata": {},
   "outputs": [],
   "source": [
    "# ploit results\n",
    "plt.plot(mult_Ksat, rmses, '.')\n"
   ]
  },
  {
   "cell_type": "code",
   "execution_count": null,
   "metadata": {},
   "outputs": [],
   "source": []
  }
 ],
 "metadata": {
  "kernelspec": {
   "display_name": "Python 3",
   "language": "python",
   "name": "python3"
  },
  "language_info": {
   "codemirror_mode": {
    "name": "ipython",
    "version": 3
   },
   "file_extension": ".py",
   "mimetype": "text/x-python",
   "name": "python",
   "nbconvert_exporter": "python",
   "pygments_lexer": "ipython3",
   "version": "3.6.10"
  }
 },
 "nbformat": 4,
 "nbformat_minor": 4
}
