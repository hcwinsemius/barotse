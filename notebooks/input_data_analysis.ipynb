{
 "cells": [
  {
   "cell_type": "code",
   "execution_count": null,
   "metadata": {},
   "outputs": [],
   "source": [
    "%matplotlib inline\n",
    "import matplotlib.pyplot as plt\n",
    "import xarray as xr"
   ]
  },
  {
   "cell_type": "code",
   "execution_count": null,
   "metadata": {},
   "outputs": [],
   "source": [
    "# replace the file path below by the path of your input file. \n",
    "# If it is correct you can also unquote the line below the current line\n",
    "fn = r'/home/hcwinsemius/Barotse/zambezi_4km/inmaps/forcing-2000_2018.nc'\n",
    "# fn = r'c:\\zambezi_4km\\inmaps\\forcing-2000_2018.nc'\n",
    "ds = xr.open_dataset(fn)\n",
    "ds"
   ]
  },
  {
   "cell_type": "code",
   "execution_count": null,
   "metadata": {},
   "outputs": [],
   "source": [
    "# first drop temperature from dataset and get the sum of the two fluxes P (precip) and PET (potential evaporation)\n",
    "ds_p_year = ds.drop('TEMP').groupby('time.year').sum('time')\n",
    "# then drop PET and P and take the mean of temperature (in deg. Celsius)\n",
    "ds_t_year = ds.drop(['PET', 'P']).groupby('time.year').mean('time')\n"
   ]
  },
  {
   "cell_type": "code",
   "execution_count": null,
   "metadata": {},
   "outputs": [],
   "source": [
    "# recombine the outcoming datasets\n",
    "ds = ds_p_year.merge(ds_t_year)\n",
    "\n",
    "# let's mask any zero values by leaving values where they are above zero\n",
    "ds['P'] = ds['P'].where(ds['P']>0)\n",
    "ds['PET'] = ds['PET'].where(ds['PET']>0)\n",
    "ds['TEMP'] = ds['TEMP'].where(ds['TEMP']>0)\n",
    "ds['TEMP'][0].plot()  # check if this worked in a quick plot"
   ]
  },
  {
   "cell_type": "code",
   "execution_count": null,
   "metadata": {},
   "outputs": [],
   "source": [
    "# store annual values in a new file\n",
    "ds.to_netcdf('forcing_yearly.nc')"
   ]
  },
  {
   "cell_type": "markdown",
   "metadata": {},
   "source": [
    "Let's inspect the annual total rainfall and potential evaporation"
   ]
  },
  {
   "cell_type": "code",
   "execution_count": null,
   "metadata": {},
   "outputs": [],
   "source": [
    "# plot annual values of precip. col selects which dimension to use per subplot. This is super easy with xarray\n",
    "# col_wrap selects the amount of columns to plot\n",
    "ds['P'].plot(col='year', col_wrap=5, extend='max', cmap='terrain_r')"
   ]
  },
  {
   "cell_type": "code",
   "execution_count": null,
   "metadata": {},
   "outputs": [],
   "source": [
    "ds['PET'].plot(col='year', col_wrap=5, extend='max', cmap='rainbow')"
   ]
  },
  {
   "cell_type": "markdown",
   "metadata": {},
   "source": [
    "The results look as follows:\n",
    "- annual precip is and potential evaporation look reasonable. I find PET a little bit lower than expected. But not serious\n",
    "- there is significant interannual variability in precip and pot evapo\n",
    "- years with low rainfall concur with years with high pot. evapo.\n",
    "Below also a plot of long-term annual averages"
   ]
  },
  {
   "cell_type": "code",
   "execution_count": null,
   "metadata": {},
   "outputs": [],
   "source": [
    "n = 0\n",
    "f= plt.figure(figsize=(16, 6))\n",
    "plt.subplot(121)\n",
    "ds['P'][4].plot(cmap='terrain_r')\n",
    "plt.subplot(122)\n",
    "ds['PET'][4].plot(cmap='rainbow')"
   ]
  },
  {
   "cell_type": "markdown",
   "metadata": {},
   "source": [
    "We may decide to bias correct potential evapo by a factor 1.15 or so. Let's also make an estimate of the cell-by-cell annual runoff coefficient using the Budyko framework (see https://www.hydrol-earth-syst-sci.net/23/4983/2019/ Table 1, for the equation.)"
   ]
  },
  {
   "cell_type": "code",
   "execution_count": null,
   "metadata": {},
   "outputs": [],
   "source": [
    "import numpy as np\n",
    "plt.figure(figsize=(16,13))\n",
    "P_mean = ds['P'].mean(dim='year')\n",
    "PET_mean = ds['PET'].mean(dim='year')\n",
    "\n",
    "aridity = PET_mean/P_mean\n",
    "# aridity.plot()\n",
    "\n",
    "Ea_P = (aridity*np.tanh(1/aridity)*(1-np.exp(-aridity)))**0.5\n",
    "# Ea_P.plot()\n",
    "runoff_coeff = 1-Ea_P\n",
    "runoff_coeff.plot(cmap='nipy_spectral_r')"
   ]
  },
  {
   "cell_type": "markdown",
   "metadata": {},
   "source": [
    "So we see that runoff coefficients very from about 0.1 in the very South to about 0.4 in the very North. I find 0.4 quite high for a deciduous forest, so I still guess potential evapo is on the low side."
   ]
  },
  {
   "cell_type": "code",
   "execution_count": null,
   "metadata": {},
   "outputs": [],
   "source": []
  }
 ],
 "metadata": {
  "kernelspec": {
   "display_name": "Python 3",
   "language": "python",
   "name": "python3"
  },
  "language_info": {
   "codemirror_mode": {
    "name": "ipython",
    "version": 3
   },
   "file_extension": ".py",
   "mimetype": "text/x-python",
   "name": "python",
   "nbconvert_exporter": "python",
   "pygments_lexer": "ipython3",
   "version": "3.6.10"
  }
 },
 "nbformat": 4,
 "nbformat_minor": 4
}
