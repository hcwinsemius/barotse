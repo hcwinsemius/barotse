{
 "cells": [
  {
   "cell_type": "code",
   "execution_count": 16,
   "metadata": {},
   "outputs": [],
   "source": [
    "import numpy as np\n",
    "import itertools"
   ]
  },
  {
   "cell_type": "code",
   "execution_count": 31,
   "metadata": {},
   "outputs": [],
   "source": [
    "template = 'python -m wflow.wflow_sbm -f -P \"KsatVer = KsatVer * {:2.1f}\" -P \"self.RootingDepth = self.RootingDepth*{:2.1f}\" -P \"self.SoilThickness = self.SoilThickness * {:2.1f}\" -P \"self.SoilWaterCapacity = self.SoilWaterCapacity * {:2.1f}\"-P \"self.M = self.M * 1000\" -C . -R all_outputs_{:03d}'"
   ]
  },
  {
   "cell_type": "code",
   "execution_count": 32,
   "metadata": {},
   "outputs": [
    {
     "name": "stdout",
     "output_type": "stream",
     "text": [
      "python -m wflow.wflow_sbm -f -P \"KsatVer = KsatVer * {:2.1f}\" -P \"self.RootingDepth = self.RootingDepth*{:2.1f}\" -P \"self.SoilThickness = self.SoilThickness * {:2.1f}\" -P \"self.SoilWaterCapacity = self.SoilWaterCapacity * {:2.1f}\"-P \"self.M = self.M * 1000\" -C . -R all_outputs_{:03d}\n"
     ]
    }
   ],
   "source": [
    "print(template)"
   ]
  },
  {
   "cell_type": "code",
   "execution_count": 33,
   "metadata": {},
   "outputs": [],
   "source": [
    "KsatVerList = range(1, 5)\n",
    "RootingDepthList = np.arange(1, 5)\n",
    "SoilThicknessList = range(1, 5)\n",
    "\n",
    "RootingDepth\n",
    "commands = []\n",
    "for n, (KsatVer, RootingDepth, SoilThickness) in enumerate(itertools.product(KsatVerList,\n",
    "                                                                                 RootingDepthList,\n",
    "                                                                                 SoilThicknessList,\n",
    "                                                                                )):\n",
    "    commands.append(template.format(KsatVer, RootingDepth, SoilThickness, SoilThickness, n + 1))\n"
   ]
  },
  {
   "cell_type": "code",
   "execution_count": 34,
   "metadata": {},
   "outputs": [],
   "source": [
    "commands\n",
    "\n",
    "batch_file = 'run_montecarlo.bat'\n",
    "f = open(batch_file, 'w')\n",
    "for command in commands:\n",
    "    f.write(command)\n",
    "    f.write('\\n')\n",
    "f.close()"
   ]
  },
  {
   "cell_type": "code",
   "execution_count": null,
   "metadata": {},
   "outputs": [],
   "source": []
  }
 ],
 "metadata": {
  "kernelspec": {
   "display_name": "Python 3",
   "language": "python",
   "name": "python3"
  },
  "language_info": {
   "codemirror_mode": {
    "name": "ipython",
    "version": 3
   },
   "file_extension": ".py",
   "mimetype": "text/x-python",
   "name": "python",
   "nbconvert_exporter": "python",
   "pygments_lexer": "ipython3",
   "version": "3.7.6"
  }
 },
 "nbformat": 4,
 "nbformat_minor": 4
}
