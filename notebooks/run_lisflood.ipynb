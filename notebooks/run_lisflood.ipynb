{
 "cells": [
  {
   "cell_type": "markdown",
   "metadata": {},
   "source": [
    "## Run LISFLOOD with BMI sample model"
   ]
  },
  {
   "cell_type": "code",
   "execution_count": null,
   "metadata": {},
   "outputs": [],
   "source": [
    "%matplotlib inline\n",
    "from bmi.wrapper import BMIWrapper\n",
    "import matplotlib.pyplot as plt\n",
    "import numpy as np"
   ]
  },
  {
   "cell_type": "markdown",
   "metadata": {},
   "source": [
    "BMI is all about interacting with the states, fluxes and parameters within runtime. So let's start by adding a bunch of water after one time step somewhere in the middle of our test domain, and see how that spreads in the first 100 days of simulation"
   ]
  },
  {
   "cell_type": "code",
   "execution_count": null,
   "metadata": {},
   "outputs": [],
   "source": [
    "wrapper = BMIWrapper(engine=\"lisflood\", configfile='/home/hcwinsemius/git/barotse/example_models/LFP_synthetic_2D/LFP_syntheticTestCase_2D.par')\n",
    "wrapper.initialize()\n",
    "# do one time step\n",
    "wrapper.update()\n",
    "# add a bunch of water in the middle (y-coord 250 is the middle)\n",
    "h = wrapper.get_var('H')\n",
    "h[250, :] += 3.\n",
    "wrapper.get_var('H')[:] = h"
   ]
  },
  {
   "cell_type": "markdown",
   "metadata": {},
   "source": [
    "The model domain looks like a small thin hillslope with a constant slope from the lower part to the upper part. Let's test the BMI functionality of lisflood here. We noticed that the timestep retrieved from .get_time_step is fixed on what is given in the .par file, whilst it should be updated dynamically. So we compute this from the per time step change. We also make a super simple plot of the water level outputs, aftger one day is passed, two days, 3, 4, 5 etc. and see if that gives expected results."
   ]
  },
  {
   "cell_type": "code",
   "execution_count": null,
   "metadata": {
    "scrolled": false
   },
   "outputs": [],
   "source": [
    "t = 0 # is the moment in time that we want to plot something. After each plot we increase this by 86400 seconds (one day)\n",
    "t1 = 0\n",
    "p = 0  # plot number (let's do 100 plots for now)\n",
    "volume = []\n",
    "plt.figure(figsize=(20, 10))\n",
    "while p < 100:\n",
    "    # read current time\n",
    "    t2 = wrapper.get_current_time()\n",
    "    timestep = t2 - t1\n",
    "    t1 = t2\n",
    "    wrapper.update()\n",
    "    if wrapper.get_current_time()> t:\n",
    "        volume.append(wrapper.get_var('H').sum())\n",
    "        # we passed t, so let's plot something\n",
    "        print('Time step size is {:f} seconds'.format(timestep))\n",
    "        p += 1 # we increase the plot number by one\n",
    "        t += 86400 # we add one day to go to the next day\n",
    "        plt.subplot(1, 100, p, frameon=False)\n",
    "        plt.imshow(wrapper.get_var('H'), vmin=0., vmax=.8)\n",
    "        plt.xticks([])\n",
    "        plt.yticks([])\n",
    "# 100 days have passed. We're done, so we close the model\n",
    "wrapper.finalize()\n",
    "# make a volume array and plot that as well\n"
   ]
  },
  {
   "cell_type": "code",
   "execution_count": null,
   "metadata": {},
   "outputs": [],
   "source": [
    "f = plt.figure()\n",
    "volume = np.array(volume)\n",
    "plt.plot(volume)\n",
    "plt.xlabel('time step [days]')\n",
    "plt.ylabel('volumetric measure --')"
   ]
  },
  {
   "cell_type": "markdown",
   "metadata": {},
   "source": [
    "so we clearly see the water moving through the domain. The upper side of the domain is the lowest part of the hillslope, so clearly that's where our 3 meters of water went to. We also see the upper boundaryu condition (bottom of graph) seeping through to the lower part of the domain. So great! we can interfere with the model in runtime! Let's see if the model can handle negative depth values. If not, we have to be careful not to get those!\n"
   ]
  },
  {
   "cell_type": "code",
   "execution_count": null,
   "metadata": {
    "scrolled": false
   },
   "outputs": [],
   "source": [
    "wrapper = BMIWrapper(engine=\"lisflood\", configfile='/home/hcwinsemius/git/barotse/example_models/LFP_synthetic_2D/LFP_syntheticTestCase_2D.par')\n",
    "wrapper.initialize()\n",
    "wrapper.update()\n",
    "# add a bunch of water in the middle (y-coord 250 is the middle)\n",
    "h = wrapper.get_var('H')\n",
    "h[250, :] -= 3.\n",
    "wrapper.get_var('H')[:] = h\n",
    "t = 0 # is the moment in time that we want to plot something. After each plot we increase this by 86400 seconds (one day)\n",
    "t1 = 0\n",
    "p = 0  # plot number (let's do 100 plots for now)\n",
    "plt.figure(figsize=(20, 10))\n",
    "while p < 100:\n",
    "    # read current time\n",
    "    t2 = wrapper.get_current_time()\n",
    "    timestep = t2 - t1\n",
    "    t1 = t2\n",
    "    wrapper.update()\n",
    "    if wrapper.get_current_time()> t:\n",
    "        # we passed t, so let's plot something\n",
    "        print('Time step size is {:f} seconds'.format(timestep))\n",
    "        p += 1 # we increase the plot number by one\n",
    "        t += 86400 # we add one day to go to the next day\n",
    "        plt.subplot(1, 100, p, frameon=False)\n",
    "        plt.imshow(wrapper.get_var('H'), vmin=0., vmax=.8)\n",
    "        plt.xticks([])\n",
    "        plt.yticks([])\n",
    "# 100 days have passed. We're done, so we close the model\n",
    "wrapper.finalize()\n"
   ]
  },
  {
   "cell_type": "markdown",
   "metadata": {},
   "source": [
    "Ok, this looks good. Apparently the model will simply round depths to zero when negative values occur!"
   ]
  }
 ],
 "metadata": {
  "kernelspec": {
   "display_name": "Python 3",
   "language": "python",
   "name": "python3"
  },
  "language_info": {
   "codemirror_mode": {
    "name": "ipython",
    "version": 3
   },
   "file_extension": ".py",
   "mimetype": "text/x-python",
   "name": "python",
   "nbconvert_exporter": "python",
   "pygments_lexer": "ipython3",
   "version": "3.6.10"
  }
 },
 "nbformat": 4,
 "nbformat_minor": 4
}
