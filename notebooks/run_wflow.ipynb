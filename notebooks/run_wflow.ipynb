{
 "cells": [
  {
   "cell_type": "markdown",
   "metadata": {},
   "source": [
    "# Run WFlow upper Zambezi as a BMI process #\n",
    "\n",
    "In this notebook we test the bmi functional model. The intention of this notebook is to get the following working:\n",
    "- run the 4km model for a couple of time steps, extract some spatial result and see if we can get this into an array we can display on screen\n",
    "- run the 1km model and the 4km model, extract outputs for one given grid cell, collect these in a time series and compare in one graph\n",
    "- run the 4km model (or 1, dependent on which one is most useful) and extract time series from upstream boundaries. To do this, the resp. model should first be altered so that it knows at which locations such outputs should be extracted. An additional map with gauges or table with gauge locations should be provided and extracted through BMI.\n",
    "- run the 4km model (or 1km ...) extract an infiltration layer, and modify it in some locations with additional water (use some dummy values just to simulate the idea of replenishment from flooded water)\n",
    "\n",
    "If the last two steps work, we have a start for coupling stuff with LISFLOOD 2-ways (force upstream boundaries, AND update recharge into groundwater).\n"
   ]
  },
  {
   "cell_type": "code",
   "execution_count": 1,
   "metadata": {},
   "outputs": [],
   "source": [
    "import wflow.wflow_bmi as wfbmi\n",
    "\n"
   ]
  },
  {
   "cell_type": "markdown",
   "metadata": {},
   "source": [
    "1. Run 4km model for a couple of time steps, extract a spatial end result, plot it and close (finalize) model."
   ]
  },
  {
   "cell_type": "code",
   "execution_count": 2,
   "metadata": {
    "scrolled": true
   },
   "outputs": [
    {
     "name": "stderr",
     "output_type": "stream",
     "text": [
      "2020-04-30 14:39:57,431 - wflow_sbm.ini - pcrut - DEBUG - File logging to /home/hcwinsemius/Barotse/zambezi_4km/run_default/wflow.log\n",
      "2020-04-30 14:39:57,432 - wflow_sbm.ini - wf_DynamicFramework - INFO - wflow_sbm.ini 2019.2.dev9+ge8b26553 Case: /home/hcwinsemius/Barotse/zambezi_4km Runid: run_default\n",
      "2020-04-30 14:39:57,432 - wflow_sbm.ini - wf_DynamicFramework - INFO - Initialise framework version: 2019.2.dev9+ge8b26553\n",
      "2020-04-30 14:39:57,434 - wflow_sbm.ini - wf_DynamicFramework - WARNING - Ini file made for wflow_sbm but found wflow.wflow_sbm in code.\n",
      "2020-04-30 14:39:57,436 - wflow_sbm.ini - wf_DynamicFramework - DEBUG - Found following input variables to get from netcdf file: ['P', 'PET', 'TEMP', 'IF', 'P', 'TEMP', 'PET', 'IF']\n",
      "2020-04-30 14:39:57,440 - wflow_sbm.ini - wf_netcdfio - INFO - Reading input from netCDF file: /home/hcwinsemius/Barotse/zambezi_4km/inmaps/forcing-2000_2018.nc\n",
      "2020-04-30 14:39:57,532 - wflow_sbm.ini - wf_netcdfio - WARNING - Variable IF not found in netcdf file: /home/hcwinsemius/Barotse/zambezi_4km/inmaps/forcing-2000_2018.nc\n",
      "2020-04-30 14:39:57,533 - wflow_sbm.ini - wf_netcdfio - WARNING - Variable IF not found in netcdf file: /home/hcwinsemius/Barotse/zambezi_4km/inmaps/forcing-2000_2018.nc\n",
      "2020-04-30 14:39:57,535 - wflow_sbm.ini - wf_netcdfio - INFO - Setting up netcdf output: /home/hcwinsemius/Barotse/zambezi_4km/run_default/outmaps.nc\n",
      "2020-04-30 14:39:57,560 - wflow_sbm.ini - wf_netcdfio - INFO - Setting up dimensions and attributes. Steps: 364 lat: 241 lon: 239\n",
      "2020-04-30 14:39:57,568 - wflow_sbm.ini - wf_DynamicFramework - DEBUG - Creating parameter specification for par: Sl (['staticmaps/Sl.map', 'staticmap', '0.1', '1'])\n",
      "2020-04-30 14:39:57,569 - wflow_sbm.ini - wf_DynamicFramework - DEBUG - Creating parameter specification for par: Kext (['staticmaps/Kext.map', 'staticmap', '0.6', '1'])\n",
      "2020-04-30 14:39:57,569 - wflow_sbm.ini - wf_DynamicFramework - DEBUG - Creating parameter specification for par: Swood (['staticmaps/Swood.map', 'staticmap', '0.5', '1'])\n",
      "2020-04-30 14:39:57,570 - wflow_sbm.ini - wf_DynamicFramework - DEBUG - Creating parameter specification for par: LAI (['staticmaps/clim/LAI', 'monthlyclim', '1.0', '1'])\n",
      "2020-04-30 14:39:57,571 - wflow_sbm.ini - wf_DynamicFramework - DEBUG - Creating parameter specification for par: LakeLocs (['staticmaps/wflow_lakelocs.map', 'staticmap', '0.0', '0'])\n",
      "2020-04-30 14:39:57,571 - wflow_sbm.ini - wf_DynamicFramework - DEBUG - Creating parameter specification for par: LakeAreasMap (['staticmaps/wflow_lakeareas.map', 'staticmap', '0.0', '0'])\n",
      "2020-04-30 14:39:57,572 - wflow_sbm.ini - wf_DynamicFramework - DEBUG - Creating parameter specification for par: LinkedLakeLocs (['intbl/LinkedLakeLocs.tbl', 'tbl', '0', '0', 'staticmaps/wflow_lakelocs.map'])\n",
      "2020-04-30 14:39:57,572 - wflow_sbm.ini - wf_DynamicFramework - DEBUG - Creating parameter specification for par: LakeStorFunc (['intbl/LakeStorFunc.tbl', 'tbl', '1', '0', 'staticmaps/wflow_lakelocs.map'])\n",
      "2020-04-30 14:39:57,573 - wflow_sbm.ini - wf_DynamicFramework - DEBUG - Creating parameter specification for par: LakeOutflowFunc (['intbl/LakeOutflowFunc.tbl', 'tbl', '3', '0', 'staticmaps/wflow_lakelocs.map'])\n",
      "2020-04-30 14:39:57,573 - wflow_sbm.ini - wf_DynamicFramework - DEBUG - Creating parameter specification for par: LakeArea (['intbl/LakeArea.tbl', 'tbl', '1', '0', 'staticmaps/wflow_lakelocs.map'])\n",
      "2020-04-30 14:39:57,574 - wflow_sbm.ini - wf_DynamicFramework - DEBUG - Creating parameter specification for par: LakeAvgLevel (['intbl/LakeAvgLevel.tbl', 'tbl', '1', '0', 'staticmaps/wflow_lakelocs.map'])\n",
      "2020-04-30 14:39:57,575 - wflow_sbm.ini - wf_DynamicFramework - DEBUG - Creating parameter specification for par: LakeAvgOut (['intbl/LakeAvgOut.tbl', 'tbl', '1', '0', 'staticmaps/wflow_lakelocs.map'])\n",
      "2020-04-30 14:39:57,576 - wflow_sbm.ini - wf_DynamicFramework - DEBUG - Creating parameter specification for par: LakeThreshold (['intbl/LakeThreshold.tbl', 'tbl', '0', '0', 'staticmaps/wflow_lakelocs.map'])\n",
      "2020-04-30 14:39:57,577 - wflow_sbm.ini - wf_DynamicFramework - DEBUG - Creating parameter specification for par: Lake_b (['intbl/Lake_b.tbl', 'tbl', '50', '0', 'staticmaps/wflow_lakelocs.map'])\n",
      "2020-04-30 14:39:57,577 - wflow_sbm.ini - wf_DynamicFramework - DEBUG - Creating parameter specification for par: Lake_e (['intbl/Lake_e.tbl', 'tbl', '2.0', '0', 'staticmaps/wflow_lakelocs.map'])\n",
      "2020-04-30 14:39:57,580 - wflow_sbm.ini - wf_DynamicFramework - INFO - Adding csv output at /home/hcwinsemius/Barotse/zambezi_4km/staticmaps/wflow_gauges.map function: average\n",
      "2020-04-30 14:39:57,582 - wflow_sbm.ini - wf_DynamicFramework - INFO - Adding csv output at /home/hcwinsemius/Barotse/zambezi_4km/staticmaps/wflow_subcatch.map function: average\n",
      "2020-04-30 14:39:57,586 - wflow_sbm.ini - wf_DynamicFramework - INFO - Adding csv output at /home/hcwinsemius/Barotse/zambezi_4km/staticmaps/wflow_landuse.map function: average\n",
      "2020-04-30 14:39:57,588 - wflow_sbm.ini - wf_DynamicFramework - INFO - Adding tss output at /home/hcwinsemius/Barotse/zambezi_4km/staticmaps/wflow_gauges.map function: average\n",
      "2020-04-30 14:39:57,589 - wflow_sbm.ini - wflow_sbm - INFO - running for 364 timesteps\n",
      "2020-04-30 14:39:57,589 - wflow_sbm.ini - wflow_sbm - INFO - Using sub timestep for kinematic wave (iterate)\n",
      "2020-04-30 14:39:57,593 - wflow_sbm.ini - wf_DynamicFramework - DEBUG - Static input data (/home/hcwinsemius/Barotse/zambezi_4km/staticmaps/wflow_riverlength_fact.map)  not present, returning 1.0\n",
      "2020-04-30 14:39:57,596 - wflow_sbm.ini - wf_DynamicFramework - DEBUG - Static input data (/home/hcwinsemius/Barotse/zambezi_4km/staticmaps/wflow_inflow.map)  not present, returning 0.0\n",
      "2020-04-30 14:39:57,598 - wflow_sbm.ini - wf_DynamicFramework - DEBUG - Static input data (/home/hcwinsemius/Barotse/zambezi_4km\\staticmaps/wflow_tempcor.map)  not present, returning 0.0\n",
      "2020-04-30 14:39:57,600 - wflow_sbm.ini - wflow_sbm - INFO - Linking parameters to landuse, catchment and soil...\n",
      "2020-04-30 14:39:57,600 - wflow_sbm.ini - wf_DynamicFramework - INFO - Adding Precipitation to model.\n",
      "2020-04-30 14:39:57,601 - wflow_sbm.ini - wf_DynamicFramework - DEBUG - Static input data (/home/hcwinsemius/Barotse/zambezi_4km/inmaps/P.map)  not present, returning 0.0\n",
      "2020-04-30 14:39:57,602 - wflow_sbm.ini - wf_DynamicFramework - INFO - Adding PotenEvap to model.\n",
      "2020-04-30 14:39:57,602 - wflow_sbm.ini - wf_DynamicFramework - DEBUG - Static input data (/home/hcwinsemius/Barotse/zambezi_4km/inmaps/PET.map)  not present, returning 0.0\n",
      "2020-04-30 14:39:57,603 - wflow_sbm.ini - wf_DynamicFramework - INFO - Adding Temperature to model.\n",
      "2020-04-30 14:39:57,604 - wflow_sbm.ini - wf_DynamicFramework - DEBUG - Static input data (/home/hcwinsemius/Barotse/zambezi_4km/inmaps/TEMP.map)  not present, returning 10.0\n",
      "2020-04-30 14:39:57,605 - wflow_sbm.ini - wf_DynamicFramework - INFO - Adding Inflow to model.\n",
      "2020-04-30 14:39:57,605 - wflow_sbm.ini - wf_DynamicFramework - INFO - Adding IrrigationAreas to model.\n",
      "2020-04-30 14:39:57,606 - wflow_sbm.ini - wf_DynamicFramework - DEBUG - Static input data (/home/hcwinsemius/Barotse/zambezi_4km/staticmaps/wflow_irrigationareas.map)  not present, returning 0.0\n",
      "2020-04-30 14:39:57,606 - wflow_sbm.ini - wf_DynamicFramework - INFO - Adding IrrigationSurfaceIntakes to model.\n",
      "2020-04-30 14:39:57,607 - wflow_sbm.ini - wf_DynamicFramework - DEBUG - Static input data (/home/hcwinsemius/Barotse/zambezi_4km/staticmaps/wflow_irrisurfaceintake.map)  not present, returning 0.0\n",
      "2020-04-30 14:39:57,608 - wflow_sbm.ini - wf_DynamicFramework - INFO - Adding IrrigationPaddyAreas to model.\n",
      "2020-04-30 14:39:57,608 - wflow_sbm.ini - wf_DynamicFramework - DEBUG - Static input data (/home/hcwinsemius/Barotse/zambezi_4km/staticmaps/wflow_irrigationpaddyareas.map)  not present, returning 0.0\n",
      "2020-04-30 14:39:57,608 - wflow_sbm.ini - wf_DynamicFramework - INFO - Adding IrrigationSurfaceReturn to model.\n",
      "2020-04-30 14:39:57,609 - wflow_sbm.ini - wf_DynamicFramework - DEBUG - Static input data (/home/hcwinsemius/Barotse/zambezi_4km/staticmaps/wflow_irrisurfacereturns.map)  not present, returning 0.0\n",
      "2020-04-30 14:39:57,610 - wflow_sbm.ini - wf_DynamicFramework - INFO - Adding h_max to model.\n"
     ]
    },
    {
     "name": "stderr",
     "output_type": "stream",
     "text": [
      "2020-04-30 14:39:57,610 - wflow_sbm.ini - wf_DynamicFramework - DEBUG - Static input data (/home/hcwinsemius/Barotse/zambezi_4km/staticmaps/wflow_hmax.map)  not present, returning 0.0\n",
      "2020-04-30 14:39:57,610 - wflow_sbm.ini - wf_DynamicFramework - INFO - Adding h_min to model.\n",
      "2020-04-30 14:39:57,611 - wflow_sbm.ini - wf_DynamicFramework - DEBUG - Static input data (/home/hcwinsemius/Barotse/zambezi_4km/staticmaps/wflow_hmin.map)  not present, returning 0.0\n",
      "2020-04-30 14:39:57,612 - wflow_sbm.ini - wf_DynamicFramework - INFO - Adding h_p to model.\n",
      "2020-04-30 14:39:57,612 - wflow_sbm.ini - wf_DynamicFramework - DEBUG - Static input data (/home/hcwinsemius/Barotse/zambezi_4km/staticmaps/wflow_hp.map)  not present, returning 0.0\n",
      "2020-04-30 14:39:57,612 - wflow_sbm.ini - wf_DynamicFramework - INFO - Adding Sl to model.\n",
      "2020-04-30 14:39:57,613 - wflow_sbm.ini - wf_DynamicFramework - INFO - Adding Kext to model.\n",
      "2020-04-30 14:39:57,614 - wflow_sbm.ini - wf_DynamicFramework - INFO - Adding Swood to model.\n",
      "2020-04-30 14:39:57,614 - wflow_sbm.ini - wf_DynamicFramework - INFO - Adding LAI to model.\n",
      "2020-04-30 14:39:57,615 - wflow_sbm.ini - wf_DynamicFramework - INFO - Adding LakeLocs to model.\n",
      "2020-04-30 14:39:57,616 - wflow_sbm.ini - wf_DynamicFramework - INFO - Adding LakeAreasMap to model.\n",
      "2020-04-30 14:39:57,617 - wflow_sbm.ini - wf_DynamicFramework - INFO - Initial: Adding LinkedLakeLocs to model.\n",
      "2020-04-30 14:39:57,617 - wflow_sbm.ini - wf_DynamicFramework - DEBUG - tbl file not found (/home/hcwinsemius/Barotse/zambezi_4km/intbl/LinkedLakeLocs.tbl) returning default value: 0.0\n",
      "2020-04-30 14:39:57,618 - wflow_sbm.ini - wf_DynamicFramework - INFO - Initial: Adding LakeStorFunc to model.\n",
      "2020-04-30 14:39:57,619 - wflow_sbm.ini - wf_DynamicFramework - DEBUG - tbl file not found (/home/hcwinsemius/Barotse/zambezi_4km/intbl/LakeStorFunc.tbl) returning default value: 1.0\n",
      "2020-04-30 14:39:57,619 - wflow_sbm.ini - wf_DynamicFramework - INFO - Initial: Adding LakeOutflowFunc to model.\n",
      "2020-04-30 14:39:57,620 - wflow_sbm.ini - wf_DynamicFramework - DEBUG - tbl file not found (/home/hcwinsemius/Barotse/zambezi_4km/intbl/LakeOutflowFunc.tbl) returning default value: 3.0\n",
      "2020-04-30 14:39:57,621 - wflow_sbm.ini - wf_DynamicFramework - INFO - Initial: Adding LakeArea to model.\n",
      "2020-04-30 14:39:57,623 - wflow_sbm.ini - wf_DynamicFramework - INFO - Initial: Adding LakeAvgLevel to model.\n",
      "2020-04-30 14:39:57,625 - wflow_sbm.ini - wf_DynamicFramework - INFO - Initial: Adding LakeAvgOut to model.\n",
      "2020-04-30 14:39:57,627 - wflow_sbm.ini - wf_DynamicFramework - INFO - Initial: Adding LakeThreshold to model.\n",
      "2020-04-30 14:39:57,627 - wflow_sbm.ini - wf_DynamicFramework - DEBUG - tbl file not found (/home/hcwinsemius/Barotse/zambezi_4km/intbl/LakeThreshold.tbl) returning default value: 0.0\n",
      "2020-04-30 14:39:57,628 - wflow_sbm.ini - wf_DynamicFramework - INFO - Initial: Adding Lake_b to model.\n",
      "2020-04-30 14:39:57,630 - wflow_sbm.ini - wf_DynamicFramework - INFO - Initial: Adding Lake_e to model.\n",
      "2020-04-30 14:39:57,630 - wflow_sbm.ini - wf_DynamicFramework - DEBUG - tbl file not found (/home/hcwinsemius/Barotse/zambezi_4km/intbl/Lake_e.tbl) returning default value: 2.0\n",
      "2020-04-30 14:39:57,632 - wflow_sbm.ini - wf_DynamicFramework - INFO - reading map parameter file: /home/hcwinsemius/Barotse/zambezi_4km/intbl/../staticmaps/RootingDepth.map\n",
      "2020-04-30 14:39:57,633 - wflow_sbm.ini - wf_DynamicFramework - WARNING - tbl file not found (/home/hcwinsemius/Barotse/zambezi_4km/intbl/AirEntryPressure.tbl) returning default value: 10.0\n",
      "2020-04-30 14:39:57,637 - wflow_sbm.ini - wf_DynamicFramework - INFO - Creating map from table: /home/hcwinsemius/Barotse/zambezi_4km/intbl/rootdistpar.tbl\n",
      "2020-04-30 14:39:57,642 - wflow_sbm.ini - wf_DynamicFramework - INFO - Creating map from table: /home/hcwinsemius/Barotse/zambezi_4km/intbl/InfiltCapSoil.tbl\n",
      "2020-04-30 14:39:57,644 - wflow_sbm.ini - wf_DynamicFramework - WARNING - tbl file not found (/home/hcwinsemius/Barotse/zambezi_4km/intbl/CapScale.tbl) returning default value: 100.0\n",
      "2020-04-30 14:39:57,647 - wflow_sbm.ini - wf_DynamicFramework - INFO - Creating map from table: /home/hcwinsemius/Barotse/zambezi_4km/intbl/InfiltCapPath.tbl\n",
      "2020-04-30 14:39:57,651 - wflow_sbm.ini - wf_DynamicFramework - INFO - Creating map from table: /home/hcwinsemius/Barotse/zambezi_4km/intbl/MaxLeakage.tbl\n",
      "2020-04-30 14:39:57,654 - wflow_sbm.ini - wf_DynamicFramework - WARNING - tbl file not found (/home/hcwinsemius/Barotse/zambezi_4km/intbl/MaxPercolation.tbl) returning default value: 0.0\n",
      "2020-04-30 14:39:57,656 - wflow_sbm.ini - wf_DynamicFramework - INFO - reading map parameter file: /home/hcwinsemius/Barotse/zambezi_4km/intbl/../staticmaps/PathFrac.map\n",
      "2020-04-30 14:39:57,657 - wflow_sbm.ini - wf_DynamicFramework - INFO - reading map parameter file: /home/hcwinsemius/Barotse/zambezi_4km/intbl/../staticmaps/SoilThickness.map\n",
      "2020-04-30 14:39:57,658 - wflow_sbm.ini - wf_DynamicFramework - INFO - reading map parameter file: /home/hcwinsemius/Barotse/zambezi_4km/intbl/../staticmaps/thetaR.map\n",
      "2020-04-30 14:39:57,659 - wflow_sbm.ini - wf_DynamicFramework - INFO - reading map parameter file: /home/hcwinsemius/Barotse/zambezi_4km/intbl/../staticmaps/thetaS.map\n",
      "2020-04-30 14:39:57,660 - wflow_sbm.ini - wf_DynamicFramework - INFO - reading map parameter file: /home/hcwinsemius/Barotse/zambezi_4km/intbl/../staticmaps/SoilMinThickness.map\n",
      "2020-04-30 14:39:57,661 - wflow_sbm.ini - wf_DynamicFramework - INFO - reading map parameter file: /home/hcwinsemius/Barotse/zambezi_4km/intbl/../staticmaps/KsatVer.map\n",
      "2020-04-30 14:39:57,664 - wflow_sbm.ini - wf_DynamicFramework - WARNING - tbl file not found (/home/hcwinsemius/Barotse/zambezi_4km/intbl/MporeFrac.tbl) returning default value: 0.0\n",
      "2020-04-30 14:39:57,668 - wflow_sbm.ini - wf_DynamicFramework - INFO - Creating map from table: /home/hcwinsemius/Barotse/zambezi_4km/intbl/KsatHorFrac.tbl\n",
      "2020-04-30 14:39:57,672 - wflow_sbm.ini - wf_DynamicFramework - INFO - reading map parameter file: /home/hcwinsemius/Barotse/zambezi_4km/intbl/../staticmaps/M.map\n",
      "2020-04-30 14:39:57,673 - wflow_sbm.ini - wf_DynamicFramework - INFO - reading map parameter file: /home/hcwinsemius/Barotse/zambezi_4km/intbl/../staticmaps/N.map\n",
      "2020-04-30 14:39:57,677 - wflow_sbm.ini - wf_DynamicFramework - INFO - reading map parameter file: /home/hcwinsemius/Barotse/zambezi_4km/intbl/../staticmaps/WaterFrac.map\n",
      "2020-04-30 14:39:57,678 - wflow_sbm.ini - wf_DynamicFramework - WARNING - tbl file not found (/home/hcwinsemius/Barotse/zambezi_4km/intbl/et_reftopot.tbl) returning default value: 1.0\n",
      "2020-04-30 14:39:57,683 - wflow_sbm.ini - wf_DynamicFramework - INFO - Creating map from table: /home/hcwinsemius/Barotse/zambezi_4km/intbl/TTI.tbl\n",
      "2020-04-30 14:39:57,687 - wflow_sbm.ini - wf_DynamicFramework - INFO - Creating map from table: /home/hcwinsemius/Barotse/zambezi_4km/intbl/TT.tbl\n",
      "2020-04-30 14:39:57,691 - wflow_sbm.ini - wf_DynamicFramework - INFO - Creating map from table: /home/hcwinsemius/Barotse/zambezi_4km/intbl/TTM.tbl\n",
      "2020-04-30 14:39:57,695 - wflow_sbm.ini - wf_DynamicFramework - INFO - Creating map from table: /home/hcwinsemius/Barotse/zambezi_4km/intbl/Cfmax.tbl\n",
      "2020-04-30 14:39:57,699 - wflow_sbm.ini - wf_DynamicFramework - INFO - Creating map from table: /home/hcwinsemius/Barotse/zambezi_4km/intbl/WHC.tbl\n",
      "2020-04-30 14:39:57,701 - wflow_sbm.ini - wf_DynamicFramework - WARNING - tbl file not found (/home/hcwinsemius/Barotse/zambezi_4km/intbl/w_soil.tbl) returning default value: 0.1125\n",
      "2020-04-30 14:39:57,718 - wflow_sbm.ini - wflow_sbm - INFO - A total of 0 simple reservoirs and 1 lakes found.\n",
      "2020-04-30 14:39:57,737 - wflow_sbm.ini - wf_DynamicFramework - WARNING - tbl file not found (/home/hcwinsemius/Barotse/zambezi_4km/intbl/KsatVerFrac.tbl) returning default value: 1.0\n",
      "2020-04-30 14:39:57,739 - wflow_sbm.ini - wf_DynamicFramework - INFO - reading map parameter file: /home/hcwinsemius/Barotse/zambezi_4km/intbl/../staticmaps/c_0.map\n",
      "2020-04-30 14:39:57,739 - wflow_sbm.ini - wf_DynamicFramework - WARNING - tbl file not found (/home/hcwinsemius/Barotse/zambezi_4km/intbl/KsatVerFrac.tbl) returning default value: 1.0\n",
      "2020-04-30 14:39:57,741 - wflow_sbm.ini - wf_DynamicFramework - INFO - reading map parameter file: /home/hcwinsemius/Barotse/zambezi_4km/intbl/../staticmaps/c_1.map\n"
     ]
    },
    {
     "name": "stderr",
     "output_type": "stream",
     "text": [
      "2020-04-30 14:39:57,742 - wflow_sbm.ini - wf_DynamicFramework - WARNING - tbl file not found (/home/hcwinsemius/Barotse/zambezi_4km/intbl/KsatVerFrac.tbl) returning default value: 1.0\n",
      "2020-04-30 14:39:57,744 - wflow_sbm.ini - wf_DynamicFramework - INFO - reading map parameter file: /home/hcwinsemius/Barotse/zambezi_4km/intbl/../staticmaps/c_2.map\n",
      "2020-04-30 14:39:57,745 - wflow_sbm.ini - wf_DynamicFramework - WARNING - tbl file not found (/home/hcwinsemius/Barotse/zambezi_4km/intbl/KsatVerFrac.tbl) returning default value: 1.0\n",
      "2020-04-30 14:39:57,746 - wflow_sbm.ini - wf_DynamicFramework - INFO - reading map parameter file: /home/hcwinsemius/Barotse/zambezi_4km/intbl/../staticmaps/c_3.map\n",
      "2020-04-30 14:39:57,748 - wflow_sbm.ini - wflow_sbm - INFO - Initializing of model variables..\n",
      "2020-04-30 14:39:58,966 - wflow_sbm.ini - wflow_sbm - INFO - Saving summary maps...\n",
      "2020-04-30 14:39:58,967 - wflow_sbm.ini - wflow_sbm - INFO - End of initial section\n",
      "2020-04-30 14:39:58,968 - wflow_sbm.ini - wflow_sbm - INFO - Setting initial conditions to default\n",
      "2020-04-30 14:39:58,985 - wflow_sbm.ini - wf_netcdfio - WARNING - Date/time does not match. Wanted 2010-01-02 00:00:00 got 2000-01-02 00:00:00\n",
      "2020-04-30 14:39:58,986 - wflow_sbm.ini - wf_netcdfio - WARNING - Adjusting to the date/time at index and setting offset: 3654:3653:2010-01-02 00:00:00\n",
      "/home/hcwinsemius/miniconda3/envs/barotse/lib/python3.6/site-packages/numpy/lib/nanfunctions.py:1372: RuntimeWarning: All-NaN slice encountered\n",
      "  overwrite_input=overwrite_input, interpolation=interpolation\n"
     ]
    },
    {
     "name": "stdout",
     "output_type": "stream",
     "text": [
      "0\n"
     ]
    },
    {
     "name": "stderr",
     "output_type": "stream",
     "text": [
      "/home/hcwinsemius/miniconda3/envs/barotse/lib/python3.6/site-packages/numpy/lib/nanfunctions.py:1372: RuntimeWarning: All-NaN slice encountered\n",
      "  overwrite_input=overwrite_input, interpolation=interpolation\n",
      "2020-04-30 14:40:10,766 - wflow_sbm.ini - wf_DynamicFramework - INFO - saving maps\n",
      "2020-04-30 14:40:10,767 - wflow_sbm.ini - wf_netcdfio - DEBUG - Creating variable AET in netcdf file. Format: NETCDF4\n",
      "2020-04-30 14:40:10,786 - wflow_sbm.ini - wf_netcdfio - DEBUG - Creating variable run in netcdf file. Format: NETCDF4\n",
      "2020-04-30 14:40:10,794 - wflow_sbm.ini - wf_netcdfio - DEBUG - Creating variable sno in netcdf file. Format: NETCDF4\n",
      "2020-04-30 14:40:10,809 - wflow_sbm.ini - wf_DynamicFramework - DEBUG - timestep: 1/364.0 (2010-01-02 00:00:00)\n"
     ]
    },
    {
     "name": "stdout",
     "output_type": "stream",
     "text": [
      "1\n"
     ]
    },
    {
     "name": "stderr",
     "output_type": "stream",
     "text": [
      "2020-04-30 14:40:11,375 - wflow_sbm.ini - wf_DynamicFramework - INFO - saving maps\n",
      "2020-04-30 14:40:11,382 - wflow_sbm.ini - wf_DynamicFramework - DEBUG - timestep: 2/364.0 (2010-01-03 00:00:00)\n"
     ]
    },
    {
     "name": "stdout",
     "output_type": "stream",
     "text": [
      "2\n"
     ]
    },
    {
     "name": "stderr",
     "output_type": "stream",
     "text": [
      "2020-04-30 14:40:12,008 - wflow_sbm.ini - wf_DynamicFramework - INFO - saving maps\n",
      "2020-04-30 14:40:12,015 - wflow_sbm.ini - wf_DynamicFramework - DEBUG - timestep: 3/364.0 (2010-01-04 00:00:00)\n"
     ]
    },
    {
     "name": "stdout",
     "output_type": "stream",
     "text": [
      "3\n"
     ]
    },
    {
     "name": "stderr",
     "output_type": "stream",
     "text": [
      "2020-04-30 14:40:12,647 - wflow_sbm.ini - wf_DynamicFramework - INFO - saving maps\n",
      "2020-04-30 14:40:12,654 - wflow_sbm.ini - wf_DynamicFramework - DEBUG - timestep: 4/364.0 (2010-01-05 00:00:00)\n"
     ]
    },
    {
     "name": "stdout",
     "output_type": "stream",
     "text": [
      "4\n"
     ]
    },
    {
     "name": "stderr",
     "output_type": "stream",
     "text": [
      "2020-04-30 14:40:13,290 - wflow_sbm.ini - wf_DynamicFramework - INFO - saving maps\n",
      "2020-04-30 14:40:13,299 - wflow_sbm.ini - wf_DynamicFramework - DEBUG - timestep: 5/364.0 (2010-01-06 00:00:00)\n"
     ]
    },
    {
     "name": "stdout",
     "output_type": "stream",
     "text": [
      "5\n"
     ]
    },
    {
     "name": "stderr",
     "output_type": "stream",
     "text": [
      "2020-04-30 14:40:13,951 - wflow_sbm.ini - wf_DynamicFramework - INFO - saving maps\n",
      "2020-04-30 14:40:13,960 - wflow_sbm.ini - wf_DynamicFramework - DEBUG - timestep: 6/364.0 (2010-01-07 00:00:00)\n"
     ]
    },
    {
     "name": "stdout",
     "output_type": "stream",
     "text": [
      "6\n"
     ]
    },
    {
     "name": "stderr",
     "output_type": "stream",
     "text": [
      "2020-04-30 14:40:14,644 - wflow_sbm.ini - wf_DynamicFramework - INFO - saving maps\n",
      "2020-04-30 14:40:14,651 - wflow_sbm.ini - wf_DynamicFramework - DEBUG - timestep: 7/364.0 (2010-01-08 00:00:00)\n"
     ]
    },
    {
     "name": "stdout",
     "output_type": "stream",
     "text": [
      "7\n"
     ]
    },
    {
     "name": "stderr",
     "output_type": "stream",
     "text": [
      "2020-04-30 14:40:15,365 - wflow_sbm.ini - wf_DynamicFramework - INFO - saving maps\n",
      "2020-04-30 14:40:15,372 - wflow_sbm.ini - wf_DynamicFramework - DEBUG - timestep: 8/364.0 (2010-01-09 00:00:00)\n"
     ]
    },
    {
     "name": "stdout",
     "output_type": "stream",
     "text": [
      "8\n"
     ]
    },
    {
     "name": "stderr",
     "output_type": "stream",
     "text": [
      "2020-04-30 14:40:16,108 - wflow_sbm.ini - wf_DynamicFramework - INFO - saving maps\n",
      "2020-04-30 14:40:16,116 - wflow_sbm.ini - wf_DynamicFramework - DEBUG - timestep: 9/364.0 (2010-01-10 00:00:00)\n"
     ]
    },
    {
     "name": "stdout",
     "output_type": "stream",
     "text": [
      "9\n"
     ]
    },
    {
     "name": "stderr",
     "output_type": "stream",
     "text": [
      "2020-04-30 14:40:16,774 - wflow_sbm.ini - wf_DynamicFramework - INFO - saving maps\n",
      "2020-04-30 14:40:16,782 - wflow_sbm.ini - wf_DynamicFramework - DEBUG - timestep: 10/364.0 (2010-01-11 00:00:00)\n"
     ]
    },
    {
     "name": "stdout",
     "output_type": "stream",
     "text": [
      "10\n"
     ]
    },
    {
     "name": "stderr",
     "output_type": "stream",
     "text": [
      "2020-04-30 14:40:17,472 - wflow_sbm.ini - wf_DynamicFramework - INFO - saving maps\n",
      "2020-04-30 14:40:17,479 - wflow_sbm.ini - wf_DynamicFramework - DEBUG - timestep: 11/364.0 (2010-01-12 00:00:00)\n"
     ]
    },
    {
     "name": "stdout",
     "output_type": "stream",
     "text": [
      "11\n"
     ]
    },
    {
     "name": "stderr",
     "output_type": "stream",
     "text": [
      "2020-04-30 14:40:18,180 - wflow_sbm.ini - wf_DynamicFramework - INFO - saving maps\n",
      "2020-04-30 14:40:18,187 - wflow_sbm.ini - wf_DynamicFramework - DEBUG - timestep: 12/364.0 (2010-01-13 00:00:00)\n"
     ]
    },
    {
     "name": "stdout",
     "output_type": "stream",
     "text": [
      "12\n"
     ]
    },
    {
     "name": "stderr",
     "output_type": "stream",
     "text": [
      "2020-04-30 14:40:18,938 - wflow_sbm.ini - wf_DynamicFramework - INFO - saving maps\n",
      "2020-04-30 14:40:18,946 - wflow_sbm.ini - wf_DynamicFramework - DEBUG - timestep: 13/364.0 (2010-01-14 00:00:00)\n"
     ]
    },
    {
     "name": "stdout",
     "output_type": "stream",
     "text": [
      "13\n"
     ]
    },
    {
     "name": "stderr",
     "output_type": "stream",
     "text": [
      "2020-04-30 14:40:19,684 - wflow_sbm.ini - wf_DynamicFramework - INFO - saving maps\n",
      "2020-04-30 14:40:19,691 - wflow_sbm.ini - wf_DynamicFramework - DEBUG - timestep: 14/364.0 (2010-01-15 00:00:00)\n"
     ]
    },
    {
     "name": "stdout",
     "output_type": "stream",
     "text": [
      "14\n"
     ]
    },
    {
     "name": "stderr",
     "output_type": "stream",
     "text": [
      "2020-04-30 14:40:20,440 - wflow_sbm.ini - wf_DynamicFramework - INFO - saving maps\n",
      "2020-04-30 14:40:20,448 - wflow_sbm.ini - wf_DynamicFramework - DEBUG - timestep: 15/364.0 (2010-01-16 00:00:00)\n"
     ]
    },
    {
     "name": "stdout",
     "output_type": "stream",
     "text": [
      "15\n"
     ]
    },
    {
     "name": "stderr",
     "output_type": "stream",
     "text": [
      "2020-04-30 14:40:21,186 - wflow_sbm.ini - wf_DynamicFramework - INFO - saving maps\n",
      "2020-04-30 14:40:21,193 - wflow_sbm.ini - wf_DynamicFramework - DEBUG - timestep: 16/364.0 (2010-01-17 00:00:00)\n"
     ]
    },
    {
     "name": "stdout",
     "output_type": "stream",
     "text": [
      "16\n"
     ]
    },
    {
     "name": "stderr",
     "output_type": "stream",
     "text": [
      "2020-04-30 14:40:21,961 - wflow_sbm.ini - wf_DynamicFramework - INFO - saving maps\n",
      "2020-04-30 14:40:21,968 - wflow_sbm.ini - wf_DynamicFramework - DEBUG - timestep: 17/364.0 (2010-01-18 00:00:00)\n"
     ]
    },
    {
     "name": "stdout",
     "output_type": "stream",
     "text": [
      "17\n"
     ]
    },
    {
     "name": "stderr",
     "output_type": "stream",
     "text": [
      "2020-04-30 14:40:22,767 - wflow_sbm.ini - wf_DynamicFramework - INFO - saving maps\n",
      "2020-04-30 14:40:22,775 - wflow_sbm.ini - wf_DynamicFramework - DEBUG - timestep: 18/364.0 (2010-01-19 00:00:00)\n"
     ]
    },
    {
     "name": "stdout",
     "output_type": "stream",
     "text": [
      "18\n"
     ]
    },
    {
     "name": "stderr",
     "output_type": "stream",
     "text": [
      "2020-04-30 14:40:23,662 - wflow_sbm.ini - wf_DynamicFramework - INFO - saving maps\n",
      "2020-04-30 14:40:23,669 - wflow_sbm.ini - wf_DynamicFramework - DEBUG - timestep: 19/364.0 (2010-01-20 00:00:00)\n"
     ]
    },
    {
     "name": "stdout",
     "output_type": "stream",
     "text": [
      "19\n"
     ]
    },
    {
     "name": "stderr",
     "output_type": "stream",
     "text": [
      "2020-04-30 14:40:24,471 - wflow_sbm.ini - wf_DynamicFramework - INFO - saving maps\n",
      "2020-04-30 14:40:24,479 - wflow_sbm.ini - wf_DynamicFramework - DEBUG - timestep: 20/364.0 (2010-01-21 00:00:00)\n"
     ]
    },
    {
     "name": "stdout",
     "output_type": "stream",
     "text": [
      "20\n"
     ]
    },
    {
     "name": "stderr",
     "output_type": "stream",
     "text": [
      "2020-04-30 14:40:25,280 - wflow_sbm.ini - wf_DynamicFramework - INFO - saving maps\n",
      "2020-04-30 14:40:25,292 - wflow_sbm.ini - wf_DynamicFramework - DEBUG - timestep: 21/364.0 (2010-01-22 00:00:00)\n"
     ]
    },
    {
     "name": "stdout",
     "output_type": "stream",
     "text": [
      "21\n"
     ]
    },
    {
     "name": "stderr",
     "output_type": "stream",
     "text": [
      "2020-04-30 14:40:26,145 - wflow_sbm.ini - wf_DynamicFramework - INFO - saving maps\n",
      "2020-04-30 14:40:26,152 - wflow_sbm.ini - wf_DynamicFramework - DEBUG - timestep: 22/364.0 (2010-01-23 00:00:00)\n"
     ]
    },
    {
     "name": "stdout",
     "output_type": "stream",
     "text": [
      "22\n"
     ]
    },
    {
     "name": "stderr",
     "output_type": "stream",
     "text": [
      "2020-04-30 14:40:27,025 - wflow_sbm.ini - wf_DynamicFramework - INFO - saving maps\n",
      "2020-04-30 14:40:27,032 - wflow_sbm.ini - wf_DynamicFramework - DEBUG - timestep: 23/364.0 (2010-01-24 00:00:00)\n"
     ]
    },
    {
     "name": "stdout",
     "output_type": "stream",
     "text": [
      "23\n"
     ]
    },
    {
     "name": "stderr",
     "output_type": "stream",
     "text": [
      "2020-04-30 14:40:27,916 - wflow_sbm.ini - wf_DynamicFramework - INFO - saving maps\n",
      "2020-04-30 14:40:27,923 - wflow_sbm.ini - wf_DynamicFramework - DEBUG - timestep: 24/364.0 (2010-01-25 00:00:00)\n"
     ]
    },
    {
     "name": "stdout",
     "output_type": "stream",
     "text": [
      "24\n"
     ]
    },
    {
     "name": "stderr",
     "output_type": "stream",
     "text": [
      "2020-04-30 14:40:28,788 - wflow_sbm.ini - wf_DynamicFramework - INFO - saving maps\n",
      "2020-04-30 14:40:28,795 - wflow_sbm.ini - wf_DynamicFramework - DEBUG - timestep: 25/364.0 (2010-01-26 00:00:00)\n"
     ]
    },
    {
     "name": "stdout",
     "output_type": "stream",
     "text": [
      "25\n"
     ]
    },
    {
     "name": "stderr",
     "output_type": "stream",
     "text": [
      "2020-04-30 14:40:29,659 - wflow_sbm.ini - wf_DynamicFramework - INFO - saving maps\n",
      "2020-04-30 14:40:29,666 - wflow_sbm.ini - wf_DynamicFramework - DEBUG - timestep: 26/364.0 (2010-01-27 00:00:00)\n"
     ]
    },
    {
     "name": "stdout",
     "output_type": "stream",
     "text": [
      "26\n"
     ]
    },
    {
     "name": "stderr",
     "output_type": "stream",
     "text": [
      "2020-04-30 14:40:30,700 - wflow_sbm.ini - wf_DynamicFramework - INFO - saving maps\n",
      "2020-04-30 14:40:30,709 - wflow_sbm.ini - wf_DynamicFramework - DEBUG - timestep: 27/364.0 (2010-01-28 00:00:00)\n"
     ]
    },
    {
     "name": "stdout",
     "output_type": "stream",
     "text": [
      "27\n"
     ]
    },
    {
     "name": "stderr",
     "output_type": "stream",
     "text": [
      "2020-04-30 14:40:31,763 - wflow_sbm.ini - wf_DynamicFramework - INFO - saving maps\n",
      "2020-04-30 14:40:31,772 - wflow_sbm.ini - wf_DynamicFramework - DEBUG - timestep: 28/364.0 (2010-01-29 00:00:00)\n"
     ]
    },
    {
     "name": "stdout",
     "output_type": "stream",
     "text": [
      "28\n"
     ]
    },
    {
     "name": "stderr",
     "output_type": "stream",
     "text": [
      "2020-04-30 14:40:32,946 - wflow_sbm.ini - wf_DynamicFramework - INFO - saving maps\n",
      "2020-04-30 14:40:32,956 - wflow_sbm.ini - wf_DynamicFramework - DEBUG - timestep: 29/364.0 (2010-01-30 00:00:00)\n"
     ]
    },
    {
     "name": "stdout",
     "output_type": "stream",
     "text": [
      "29\n"
     ]
    },
    {
     "name": "stderr",
     "output_type": "stream",
     "text": [
      "2020-04-30 14:40:34,126 - wflow_sbm.ini - wf_DynamicFramework - INFO - saving maps\n",
      "2020-04-30 14:40:34,142 - wflow_sbm.ini - wf_DynamicFramework - DEBUG - timestep: 30/364.0 (2010-01-31 00:00:00)\n"
     ]
    },
    {
     "name": "stdout",
     "output_type": "stream",
     "text": [
      "30\n"
     ]
    },
    {
     "name": "stderr",
     "output_type": "stream",
     "text": [
      "2020-04-30 14:40:35,385 - wflow_sbm.ini - wf_DynamicFramework - INFO - saving maps\n",
      "2020-04-30 14:40:35,396 - wflow_sbm.ini - wf_DynamicFramework - DEBUG - timestep: 31/364.0 (2010-02-01 00:00:00)\n"
     ]
    },
    {
     "name": "stdout",
     "output_type": "stream",
     "text": [
      "31\n"
     ]
    },
    {
     "name": "stderr",
     "output_type": "stream",
     "text": [
      "2020-04-30 14:40:36,603 - wflow_sbm.ini - wf_DynamicFramework - INFO - saving maps\n",
      "2020-04-30 14:40:36,623 - wflow_sbm.ini - wf_DynamicFramework - DEBUG - timestep: 32/364.0 (2010-02-02 00:00:00)\n"
     ]
    },
    {
     "name": "stdout",
     "output_type": "stream",
     "text": [
      "32\n"
     ]
    },
    {
     "name": "stderr",
     "output_type": "stream",
     "text": [
      "2020-04-30 14:40:37,816 - wflow_sbm.ini - wf_DynamicFramework - INFO - saving maps\n",
      "2020-04-30 14:40:37,824 - wflow_sbm.ini - wf_DynamicFramework - DEBUG - timestep: 33/364.0 (2010-02-03 00:00:00)\n"
     ]
    },
    {
     "name": "stdout",
     "output_type": "stream",
     "text": [
      "33\n"
     ]
    },
    {
     "name": "stderr",
     "output_type": "stream",
     "text": [
      "2020-04-30 14:40:38,945 - wflow_sbm.ini - wf_DynamicFramework - INFO - saving maps\n",
      "2020-04-30 14:40:38,952 - wflow_sbm.ini - wf_DynamicFramework - DEBUG - timestep: 34/364.0 (2010-02-04 00:00:00)\n"
     ]
    },
    {
     "name": "stdout",
     "output_type": "stream",
     "text": [
      "34\n"
     ]
    },
    {
     "name": "stderr",
     "output_type": "stream",
     "text": [
      "2020-04-30 14:40:40,133 - wflow_sbm.ini - wf_DynamicFramework - INFO - saving maps\n",
      "2020-04-30 14:40:40,149 - wflow_sbm.ini - wf_DynamicFramework - DEBUG - timestep: 35/364.0 (2010-02-05 00:00:00)\n"
     ]
    },
    {
     "name": "stdout",
     "output_type": "stream",
     "text": [
      "35\n"
     ]
    },
    {
     "name": "stderr",
     "output_type": "stream",
     "text": [
      "2020-04-30 14:40:41,597 - wflow_sbm.ini - wf_DynamicFramework - INFO - saving maps\n",
      "2020-04-30 14:40:41,608 - wflow_sbm.ini - wf_DynamicFramework - DEBUG - timestep: 36/364.0 (2010-02-06 00:00:00)\n"
     ]
    },
    {
     "name": "stdout",
     "output_type": "stream",
     "text": [
      "36\n"
     ]
    },
    {
     "name": "stderr",
     "output_type": "stream",
     "text": [
      "2020-04-30 14:40:43,151 - wflow_sbm.ini - wf_DynamicFramework - INFO - saving maps\n",
      "2020-04-30 14:40:43,162 - wflow_sbm.ini - wf_DynamicFramework - DEBUG - timestep: 37/364.0 (2010-02-07 00:00:00)\n"
     ]
    },
    {
     "name": "stdout",
     "output_type": "stream",
     "text": [
      "37\n"
     ]
    },
    {
     "name": "stderr",
     "output_type": "stream",
     "text": [
      "2020-04-30 14:40:44,814 - wflow_sbm.ini - wf_DynamicFramework - INFO - saving maps\n",
      "2020-04-30 14:40:44,825 - wflow_sbm.ini - wf_DynamicFramework - DEBUG - timestep: 38/364.0 (2010-02-08 00:00:00)\n"
     ]
    },
    {
     "name": "stdout",
     "output_type": "stream",
     "text": [
      "38\n"
     ]
    },
    {
     "name": "stderr",
     "output_type": "stream",
     "text": [
      "2020-04-30 14:40:46,567 - wflow_sbm.ini - wf_DynamicFramework - INFO - saving maps\n",
      "2020-04-30 14:40:46,577 - wflow_sbm.ini - wf_DynamicFramework - DEBUG - timestep: 39/364.0 (2010-02-09 00:00:00)\n"
     ]
    },
    {
     "name": "stdout",
     "output_type": "stream",
     "text": [
      "39\n"
     ]
    },
    {
     "name": "stderr",
     "output_type": "stream",
     "text": [
      "2020-04-30 14:40:48,365 - wflow_sbm.ini - wf_DynamicFramework - INFO - saving maps\n",
      "2020-04-30 14:40:48,376 - wflow_sbm.ini - wf_DynamicFramework - DEBUG - timestep: 40/364.0 (2010-02-10 00:00:00)\n"
     ]
    },
    {
     "name": "stdout",
     "output_type": "stream",
     "text": [
      "40\n"
     ]
    },
    {
     "name": "stderr",
     "output_type": "stream",
     "text": [
      "2020-04-30 14:40:50,159 - wflow_sbm.ini - wf_DynamicFramework - INFO - saving maps\n",
      "2020-04-30 14:40:50,169 - wflow_sbm.ini - wf_DynamicFramework - DEBUG - timestep: 41/364.0 (2010-02-11 00:00:00)\n"
     ]
    },
    {
     "name": "stdout",
     "output_type": "stream",
     "text": [
      "41\n"
     ]
    },
    {
     "name": "stderr",
     "output_type": "stream",
     "text": [
      "2020-04-30 14:40:52,003 - wflow_sbm.ini - wf_DynamicFramework - INFO - saving maps\n",
      "2020-04-30 14:40:52,012 - wflow_sbm.ini - wf_DynamicFramework - DEBUG - timestep: 42/364.0 (2010-02-12 00:00:00)\n"
     ]
    },
    {
     "name": "stdout",
     "output_type": "stream",
     "text": [
      "42\n"
     ]
    },
    {
     "name": "stderr",
     "output_type": "stream",
     "text": [
      "2020-04-30 14:40:53,847 - wflow_sbm.ini - wf_DynamicFramework - INFO - saving maps\n",
      "2020-04-30 14:40:53,858 - wflow_sbm.ini - wf_DynamicFramework - DEBUG - timestep: 43/364.0 (2010-02-13 00:00:00)\n"
     ]
    },
    {
     "name": "stdout",
     "output_type": "stream",
     "text": [
      "43\n"
     ]
    },
    {
     "name": "stderr",
     "output_type": "stream",
     "text": [
      "2020-04-30 14:40:55,755 - wflow_sbm.ini - wf_DynamicFramework - INFO - saving maps\n",
      "2020-04-30 14:40:55,766 - wflow_sbm.ini - wf_DynamicFramework - DEBUG - timestep: 44/364.0 (2010-02-14 00:00:00)\n"
     ]
    },
    {
     "name": "stdout",
     "output_type": "stream",
     "text": [
      "44\n"
     ]
    },
    {
     "name": "stderr",
     "output_type": "stream",
     "text": [
      "2020-04-30 14:40:57,398 - wflow_sbm.ini - wf_DynamicFramework - INFO - saving maps\n",
      "2020-04-30 14:40:57,410 - wflow_sbm.ini - wf_DynamicFramework - DEBUG - timestep: 45/364.0 (2010-02-15 00:00:00)\n"
     ]
    },
    {
     "name": "stdout",
     "output_type": "stream",
     "text": [
      "45\n"
     ]
    },
    {
     "name": "stderr",
     "output_type": "stream",
     "text": [
      "2020-04-30 14:40:59,071 - wflow_sbm.ini - wf_DynamicFramework - INFO - saving maps\n",
      "2020-04-30 14:40:59,083 - wflow_sbm.ini - wf_DynamicFramework - DEBUG - timestep: 46/364.0 (2010-02-16 00:00:00)\n"
     ]
    },
    {
     "name": "stdout",
     "output_type": "stream",
     "text": [
      "46\n"
     ]
    },
    {
     "name": "stderr",
     "output_type": "stream",
     "text": [
      "2020-04-30 14:41:00,619 - wflow_sbm.ini - wf_DynamicFramework - INFO - saving maps\n",
      "2020-04-30 14:41:00,627 - wflow_sbm.ini - wf_DynamicFramework - DEBUG - timestep: 47/364.0 (2010-02-17 00:00:00)\n"
     ]
    },
    {
     "name": "stdout",
     "output_type": "stream",
     "text": [
      "47\n"
     ]
    },
    {
     "name": "stderr",
     "output_type": "stream",
     "text": [
      "2020-04-30 14:41:01,861 - wflow_sbm.ini - wf_DynamicFramework - INFO - saving maps\n",
      "2020-04-30 14:41:01,868 - wflow_sbm.ini - wf_DynamicFramework - DEBUG - timestep: 48/364.0 (2010-02-18 00:00:00)\n"
     ]
    },
    {
     "name": "stdout",
     "output_type": "stream",
     "text": [
      "48\n"
     ]
    },
    {
     "name": "stderr",
     "output_type": "stream",
     "text": [
      "2020-04-30 14:41:03,070 - wflow_sbm.ini - wf_DynamicFramework - INFO - saving maps\n",
      "2020-04-30 14:41:03,077 - wflow_sbm.ini - wf_DynamicFramework - DEBUG - timestep: 49/364.0 (2010-02-19 00:00:00)\n"
     ]
    },
    {
     "name": "stdout",
     "output_type": "stream",
     "text": [
      "49\n"
     ]
    },
    {
     "name": "stderr",
     "output_type": "stream",
     "text": [
      "2020-04-30 14:41:04,362 - wflow_sbm.ini - wf_DynamicFramework - INFO - saving maps\n",
      "2020-04-30 14:41:04,370 - wflow_sbm.ini - wf_DynamicFramework - DEBUG - timestep: 50/364.0 (2010-02-20 00:00:00)\n"
     ]
    },
    {
     "name": "stdout",
     "output_type": "stream",
     "text": [
      "50\n"
     ]
    },
    {
     "name": "stderr",
     "output_type": "stream",
     "text": [
      "2020-04-30 14:41:05,684 - wflow_sbm.ini - wf_DynamicFramework - INFO - saving maps\n",
      "2020-04-30 14:41:05,691 - wflow_sbm.ini - wf_DynamicFramework - DEBUG - timestep: 51/364.0 (2010-02-21 00:00:00)\n"
     ]
    },
    {
     "name": "stdout",
     "output_type": "stream",
     "text": [
      "51\n"
     ]
    },
    {
     "name": "stderr",
     "output_type": "stream",
     "text": [
      "2020-04-30 14:41:06,985 - wflow_sbm.ini - wf_DynamicFramework - INFO - saving maps\n",
      "2020-04-30 14:41:06,995 - wflow_sbm.ini - wf_DynamicFramework - DEBUG - timestep: 52/364.0 (2010-02-22 00:00:00)\n"
     ]
    },
    {
     "name": "stdout",
     "output_type": "stream",
     "text": [
      "52\n"
     ]
    },
    {
     "name": "stderr",
     "output_type": "stream",
     "text": [
      "2020-04-30 14:41:08,379 - wflow_sbm.ini - wf_DynamicFramework - INFO - saving maps\n",
      "2020-04-30 14:41:08,389 - wflow_sbm.ini - wf_DynamicFramework - DEBUG - timestep: 53/364.0 (2010-02-23 00:00:00)\n"
     ]
    },
    {
     "name": "stdout",
     "output_type": "stream",
     "text": [
      "53\n"
     ]
    },
    {
     "name": "stderr",
     "output_type": "stream",
     "text": [
      "2020-04-30 14:41:09,901 - wflow_sbm.ini - wf_DynamicFramework - INFO - saving maps\n",
      "2020-04-30 14:41:09,909 - wflow_sbm.ini - wf_DynamicFramework - DEBUG - timestep: 54/364.0 (2010-02-24 00:00:00)\n"
     ]
    },
    {
     "name": "stdout",
     "output_type": "stream",
     "text": [
      "54\n"
     ]
    },
    {
     "name": "stderr",
     "output_type": "stream",
     "text": [
      "2020-04-30 14:41:11,445 - wflow_sbm.ini - wf_DynamicFramework - INFO - saving maps\n",
      "2020-04-30 14:41:11,452 - wflow_sbm.ini - wf_DynamicFramework - DEBUG - timestep: 55/364.0 (2010-02-25 00:00:00)\n"
     ]
    },
    {
     "name": "stdout",
     "output_type": "stream",
     "text": [
      "55\n"
     ]
    },
    {
     "name": "stderr",
     "output_type": "stream",
     "text": [
      "2020-04-30 14:41:13,087 - wflow_sbm.ini - wf_DynamicFramework - INFO - saving maps\n",
      "2020-04-30 14:41:13,095 - wflow_sbm.ini - wf_DynamicFramework - DEBUG - timestep: 56/364.0 (2010-02-26 00:00:00)\n"
     ]
    },
    {
     "name": "stdout",
     "output_type": "stream",
     "text": [
      "56\n"
     ]
    },
    {
     "name": "stderr",
     "output_type": "stream",
     "text": [
      "2020-04-30 14:41:14,683 - wflow_sbm.ini - wf_DynamicFramework - INFO - saving maps\n",
      "2020-04-30 14:41:14,690 - wflow_sbm.ini - wf_DynamicFramework - DEBUG - timestep: 57/364.0 (2010-02-27 00:00:00)\n"
     ]
    },
    {
     "name": "stdout",
     "output_type": "stream",
     "text": [
      "57\n"
     ]
    },
    {
     "name": "stderr",
     "output_type": "stream",
     "text": [
      "2020-04-30 14:41:16,438 - wflow_sbm.ini - wf_DynamicFramework - INFO - saving maps\n",
      "2020-04-30 14:41:16,445 - wflow_sbm.ini - wf_DynamicFramework - DEBUG - timestep: 58/364.0 (2010-02-28 00:00:00)\n"
     ]
    },
    {
     "name": "stdout",
     "output_type": "stream",
     "text": [
      "58\n"
     ]
    },
    {
     "name": "stderr",
     "output_type": "stream",
     "text": [
      "2020-04-30 14:41:17,973 - wflow_sbm.ini - wf_DynamicFramework - INFO - saving maps\n",
      "2020-04-30 14:41:17,980 - wflow_sbm.ini - wf_DynamicFramework - DEBUG - timestep: 59/364.0 (2010-03-01 00:00:00)\n"
     ]
    },
    {
     "name": "stdout",
     "output_type": "stream",
     "text": [
      "59\n"
     ]
    },
    {
     "name": "stderr",
     "output_type": "stream",
     "text": [
      "2020-04-30 14:41:19,249 - wflow_sbm.ini - wf_DynamicFramework - INFO - saving maps\n",
      "2020-04-30 14:41:19,257 - wflow_sbm.ini - wf_DynamicFramework - DEBUG - timestep: 60/364.0 (2010-03-02 00:00:00)\n"
     ]
    },
    {
     "name": "stdout",
     "output_type": "stream",
     "text": [
      "60\n"
     ]
    },
    {
     "name": "stderr",
     "output_type": "stream",
     "text": [
      "2020-04-30 14:41:20,538 - wflow_sbm.ini - wf_DynamicFramework - INFO - saving maps\n",
      "2020-04-30 14:41:20,551 - wflow_sbm.ini - wf_DynamicFramework - DEBUG - timestep: 61/364.0 (2010-03-03 00:00:00)\n"
     ]
    },
    {
     "name": "stdout",
     "output_type": "stream",
     "text": [
      "61\n"
     ]
    },
    {
     "name": "stderr",
     "output_type": "stream",
     "text": [
      "2020-04-30 14:41:22,020 - wflow_sbm.ini - wf_DynamicFramework - INFO - saving maps\n",
      "2020-04-30 14:41:22,031 - wflow_sbm.ini - wf_DynamicFramework - DEBUG - timestep: 62/364.0 (2010-03-04 00:00:00)\n"
     ]
    },
    {
     "name": "stdout",
     "output_type": "stream",
     "text": [
      "62\n"
     ]
    },
    {
     "name": "stderr",
     "output_type": "stream",
     "text": [
      "2020-04-30 14:41:24,081 - wflow_sbm.ini - wf_DynamicFramework - INFO - saving maps\n",
      "2020-04-30 14:41:24,092 - wflow_sbm.ini - wf_DynamicFramework - DEBUG - timestep: 63/364.0 (2010-03-05 00:00:00)\n"
     ]
    },
    {
     "name": "stdout",
     "output_type": "stream",
     "text": [
      "63\n"
     ]
    },
    {
     "name": "stderr",
     "output_type": "stream",
     "text": [
      "2020-04-30 14:41:25,963 - wflow_sbm.ini - wf_DynamicFramework - INFO - saving maps\n",
      "2020-04-30 14:41:25,970 - wflow_sbm.ini - wf_DynamicFramework - DEBUG - timestep: 64/364.0 (2010-03-06 00:00:00)\n"
     ]
    },
    {
     "name": "stdout",
     "output_type": "stream",
     "text": [
      "64\n"
     ]
    },
    {
     "name": "stderr",
     "output_type": "stream",
     "text": [
      "2020-04-30 14:41:27,440 - wflow_sbm.ini - wf_DynamicFramework - INFO - saving maps\n",
      "2020-04-30 14:41:27,448 - wflow_sbm.ini - wf_DynamicFramework - DEBUG - timestep: 65/364.0 (2010-03-07 00:00:00)\n"
     ]
    },
    {
     "name": "stdout",
     "output_type": "stream",
     "text": [
      "65\n"
     ]
    },
    {
     "name": "stderr",
     "output_type": "stream",
     "text": [
      "2020-04-30 14:41:28,958 - wflow_sbm.ini - wf_DynamicFramework - INFO - saving maps\n",
      "2020-04-30 14:41:28,969 - wflow_sbm.ini - wf_DynamicFramework - DEBUG - timestep: 66/364.0 (2010-03-08 00:00:00)\n"
     ]
    },
    {
     "name": "stdout",
     "output_type": "stream",
     "text": [
      "66\n"
     ]
    },
    {
     "name": "stderr",
     "output_type": "stream",
     "text": [
      "2020-04-30 14:41:30,350 - wflow_sbm.ini - wf_DynamicFramework - INFO - saving maps\n",
      "2020-04-30 14:41:30,358 - wflow_sbm.ini - wf_DynamicFramework - DEBUG - timestep: 67/364.0 (2010-03-09 00:00:00)\n"
     ]
    },
    {
     "name": "stdout",
     "output_type": "stream",
     "text": [
      "67\n"
     ]
    },
    {
     "name": "stderr",
     "output_type": "stream",
     "text": [
      "2020-04-30 14:41:31,899 - wflow_sbm.ini - wf_DynamicFramework - INFO - saving maps\n",
      "2020-04-30 14:41:31,906 - wflow_sbm.ini - wf_DynamicFramework - DEBUG - timestep: 68/364.0 (2010-03-10 00:00:00)\n"
     ]
    },
    {
     "name": "stdout",
     "output_type": "stream",
     "text": [
      "68\n"
     ]
    },
    {
     "name": "stderr",
     "output_type": "stream",
     "text": [
      "2020-04-30 14:41:33,372 - wflow_sbm.ini - wf_DynamicFramework - INFO - saving maps\n",
      "2020-04-30 14:41:33,379 - wflow_sbm.ini - wf_DynamicFramework - DEBUG - timestep: 69/364.0 (2010-03-11 00:00:00)\n"
     ]
    },
    {
     "name": "stdout",
     "output_type": "stream",
     "text": [
      "69\n"
     ]
    },
    {
     "name": "stderr",
     "output_type": "stream",
     "text": [
      "2020-04-30 14:41:34,854 - wflow_sbm.ini - wf_DynamicFramework - INFO - saving maps\n",
      "2020-04-30 14:41:34,861 - wflow_sbm.ini - wf_DynamicFramework - DEBUG - timestep: 70/364.0 (2010-03-12 00:00:00)\n"
     ]
    },
    {
     "name": "stdout",
     "output_type": "stream",
     "text": [
      "70\n"
     ]
    },
    {
     "name": "stderr",
     "output_type": "stream",
     "text": [
      "2020-04-30 14:41:36,399 - wflow_sbm.ini - wf_DynamicFramework - INFO - saving maps\n",
      "2020-04-30 14:41:36,406 - wflow_sbm.ini - wf_DynamicFramework - DEBUG - timestep: 71/364.0 (2010-03-13 00:00:00)\n"
     ]
    },
    {
     "name": "stdout",
     "output_type": "stream",
     "text": [
      "71\n"
     ]
    },
    {
     "name": "stderr",
     "output_type": "stream",
     "text": [
      "2020-04-30 14:41:37,894 - wflow_sbm.ini - wf_DynamicFramework - INFO - saving maps\n",
      "2020-04-30 14:41:37,901 - wflow_sbm.ini - wf_DynamicFramework - DEBUG - timestep: 72/364.0 (2010-03-14 00:00:00)\n"
     ]
    },
    {
     "name": "stdout",
     "output_type": "stream",
     "text": [
      "72\n"
     ]
    },
    {
     "name": "stderr",
     "output_type": "stream",
     "text": [
      "2020-04-30 14:41:39,135 - wflow_sbm.ini - wf_DynamicFramework - INFO - saving maps\n",
      "2020-04-30 14:41:39,142 - wflow_sbm.ini - wf_DynamicFramework - DEBUG - timestep: 73/364.0 (2010-03-15 00:00:00)\n"
     ]
    },
    {
     "name": "stdout",
     "output_type": "stream",
     "text": [
      "73\n"
     ]
    },
    {
     "name": "stderr",
     "output_type": "stream",
     "text": [
      "2020-04-30 14:41:40,408 - wflow_sbm.ini - wf_DynamicFramework - INFO - saving maps\n",
      "2020-04-30 14:41:40,415 - wflow_sbm.ini - wf_DynamicFramework - DEBUG - timestep: 74/364.0 (2010-03-16 00:00:00)\n"
     ]
    },
    {
     "name": "stdout",
     "output_type": "stream",
     "text": [
      "74\n"
     ]
    },
    {
     "name": "stderr",
     "output_type": "stream",
     "text": [
      "2020-04-30 14:41:41,649 - wflow_sbm.ini - wf_DynamicFramework - INFO - saving maps\n",
      "2020-04-30 14:41:41,657 - wflow_sbm.ini - wf_DynamicFramework - DEBUG - timestep: 75/364.0 (2010-03-17 00:00:00)\n"
     ]
    },
    {
     "name": "stdout",
     "output_type": "stream",
     "text": [
      "75\n"
     ]
    },
    {
     "name": "stderr",
     "output_type": "stream",
     "text": [
      "2020-04-30 14:41:42,877 - wflow_sbm.ini - wf_DynamicFramework - INFO - saving maps\n",
      "2020-04-30 14:41:42,885 - wflow_sbm.ini - wf_DynamicFramework - DEBUG - timestep: 76/364.0 (2010-03-18 00:00:00)\n"
     ]
    },
    {
     "name": "stdout",
     "output_type": "stream",
     "text": [
      "76\n"
     ]
    },
    {
     "name": "stderr",
     "output_type": "stream",
     "text": [
      "2020-04-30 14:41:44,143 - wflow_sbm.ini - wf_DynamicFramework - INFO - saving maps\n",
      "2020-04-30 14:41:44,150 - wflow_sbm.ini - wf_DynamicFramework - DEBUG - timestep: 77/364.0 (2010-03-19 00:00:00)\n"
     ]
    },
    {
     "name": "stdout",
     "output_type": "stream",
     "text": [
      "77\n"
     ]
    },
    {
     "name": "stderr",
     "output_type": "stream",
     "text": [
      "2020-04-30 14:41:45,361 - wflow_sbm.ini - wf_DynamicFramework - INFO - saving maps\n",
      "2020-04-30 14:41:45,369 - wflow_sbm.ini - wf_DynamicFramework - DEBUG - timestep: 78/364.0 (2010-03-20 00:00:00)\n"
     ]
    },
    {
     "name": "stdout",
     "output_type": "stream",
     "text": [
      "78\n"
     ]
    },
    {
     "name": "stderr",
     "output_type": "stream",
     "text": [
      "2020-04-30 14:41:46,579 - wflow_sbm.ini - wf_DynamicFramework - INFO - saving maps\n",
      "2020-04-30 14:41:46,586 - wflow_sbm.ini - wf_DynamicFramework - DEBUG - timestep: 79/364.0 (2010-03-21 00:00:00)\n"
     ]
    },
    {
     "name": "stdout",
     "output_type": "stream",
     "text": [
      "79\n"
     ]
    },
    {
     "name": "stderr",
     "output_type": "stream",
     "text": [
      "2020-04-30 14:41:47,753 - wflow_sbm.ini - wf_DynamicFramework - INFO - saving maps\n",
      "2020-04-30 14:41:47,760 - wflow_sbm.ini - wf_DynamicFramework - DEBUG - timestep: 80/364.0 (2010-03-22 00:00:00)\n"
     ]
    },
    {
     "name": "stdout",
     "output_type": "stream",
     "text": [
      "80\n"
     ]
    },
    {
     "name": "stderr",
     "output_type": "stream",
     "text": [
      "2020-04-30 14:41:48,971 - wflow_sbm.ini - wf_DynamicFramework - INFO - saving maps\n",
      "2020-04-30 14:41:48,978 - wflow_sbm.ini - wf_DynamicFramework - DEBUG - timestep: 81/364.0 (2010-03-23 00:00:00)\n"
     ]
    },
    {
     "name": "stdout",
     "output_type": "stream",
     "text": [
      "81\n"
     ]
    },
    {
     "name": "stderr",
     "output_type": "stream",
     "text": [
      "2020-04-30 14:41:50,187 - wflow_sbm.ini - wf_DynamicFramework - INFO - saving maps\n",
      "2020-04-30 14:41:50,194 - wflow_sbm.ini - wf_DynamicFramework - DEBUG - timestep: 82/364.0 (2010-03-24 00:00:00)\n"
     ]
    },
    {
     "name": "stdout",
     "output_type": "stream",
     "text": [
      "82\n"
     ]
    },
    {
     "name": "stderr",
     "output_type": "stream",
     "text": [
      "2020-04-30 14:41:51,420 - wflow_sbm.ini - wf_DynamicFramework - INFO - saving maps\n",
      "2020-04-30 14:41:51,427 - wflow_sbm.ini - wf_DynamicFramework - DEBUG - timestep: 83/364.0 (2010-03-25 00:00:00)\n"
     ]
    },
    {
     "name": "stdout",
     "output_type": "stream",
     "text": [
      "83\n"
     ]
    },
    {
     "name": "stderr",
     "output_type": "stream",
     "text": [
      "2020-04-30 14:41:52,683 - wflow_sbm.ini - wf_DynamicFramework - INFO - saving maps\n",
      "2020-04-30 14:41:52,690 - wflow_sbm.ini - wf_DynamicFramework - DEBUG - timestep: 84/364.0 (2010-03-26 00:00:00)\n"
     ]
    },
    {
     "name": "stdout",
     "output_type": "stream",
     "text": [
      "84\n"
     ]
    },
    {
     "name": "stderr",
     "output_type": "stream",
     "text": [
      "2020-04-30 14:41:54,002 - wflow_sbm.ini - wf_DynamicFramework - INFO - saving maps\n",
      "2020-04-30 14:41:54,009 - wflow_sbm.ini - wf_DynamicFramework - DEBUG - timestep: 85/364.0 (2010-03-27 00:00:00)\n"
     ]
    },
    {
     "name": "stdout",
     "output_type": "stream",
     "text": [
      "85\n"
     ]
    },
    {
     "name": "stderr",
     "output_type": "stream",
     "text": [
      "2020-04-30 14:41:55,247 - wflow_sbm.ini - wf_DynamicFramework - INFO - saving maps\n",
      "2020-04-30 14:41:55,254 - wflow_sbm.ini - wf_DynamicFramework - DEBUG - timestep: 86/364.0 (2010-03-28 00:00:00)\n"
     ]
    },
    {
     "name": "stdout",
     "output_type": "stream",
     "text": [
      "86\n"
     ]
    },
    {
     "name": "stderr",
     "output_type": "stream",
     "text": [
      "2020-04-30 14:41:56,549 - wflow_sbm.ini - wf_DynamicFramework - INFO - saving maps\n",
      "2020-04-30 14:41:56,556 - wflow_sbm.ini - wf_DynamicFramework - DEBUG - timestep: 87/364.0 (2010-03-29 00:00:00)\n"
     ]
    },
    {
     "name": "stdout",
     "output_type": "stream",
     "text": [
      "87\n"
     ]
    },
    {
     "name": "stderr",
     "output_type": "stream",
     "text": [
      "2020-04-30 14:41:57,727 - wflow_sbm.ini - wf_DynamicFramework - INFO - saving maps\n",
      "2020-04-30 14:41:57,734 - wflow_sbm.ini - wf_DynamicFramework - DEBUG - timestep: 88/364.0 (2010-03-30 00:00:00)\n"
     ]
    },
    {
     "name": "stdout",
     "output_type": "stream",
     "text": [
      "88\n"
     ]
    },
    {
     "name": "stderr",
     "output_type": "stream",
     "text": [
      "2020-04-30 14:41:58,956 - wflow_sbm.ini - wf_DynamicFramework - INFO - saving maps\n",
      "2020-04-30 14:41:58,963 - wflow_sbm.ini - wf_DynamicFramework - DEBUG - timestep: 89/364.0 (2010-03-31 00:00:00)\n"
     ]
    },
    {
     "name": "stdout",
     "output_type": "stream",
     "text": [
      "89\n"
     ]
    },
    {
     "name": "stderr",
     "output_type": "stream",
     "text": [
      "2020-04-30 14:42:00,172 - wflow_sbm.ini - wf_DynamicFramework - INFO - saving maps\n",
      "2020-04-30 14:42:00,179 - wflow_sbm.ini - wf_DynamicFramework - DEBUG - timestep: 90/364.0 (2010-04-01 00:00:00)\n"
     ]
    },
    {
     "name": "stdout",
     "output_type": "stream",
     "text": [
      "90\n"
     ]
    },
    {
     "name": "stderr",
     "output_type": "stream",
     "text": [
      "2020-04-30 14:42:01,435 - wflow_sbm.ini - wf_DynamicFramework - INFO - saving maps\n",
      "2020-04-30 14:42:01,442 - wflow_sbm.ini - wf_DynamicFramework - DEBUG - timestep: 91/364.0 (2010-04-02 00:00:00)\n"
     ]
    },
    {
     "name": "stdout",
     "output_type": "stream",
     "text": [
      "91\n"
     ]
    },
    {
     "name": "stderr",
     "output_type": "stream",
     "text": [
      "2020-04-30 14:42:02,558 - wflow_sbm.ini - wf_DynamicFramework - INFO - saving maps\n",
      "2020-04-30 14:42:02,571 - wflow_sbm.ini - wf_DynamicFramework - DEBUG - timestep: 92/364.0 (2010-04-03 00:00:00)\n"
     ]
    },
    {
     "name": "stdout",
     "output_type": "stream",
     "text": [
      "92\n"
     ]
    },
    {
     "name": "stderr",
     "output_type": "stream",
     "text": [
      "2020-04-30 14:42:03,727 - wflow_sbm.ini - wf_DynamicFramework - INFO - saving maps\n",
      "2020-04-30 14:42:03,734 - wflow_sbm.ini - wf_DynamicFramework - DEBUG - timestep: 93/364.0 (2010-04-04 00:00:00)\n"
     ]
    },
    {
     "name": "stdout",
     "output_type": "stream",
     "text": [
      "93\n"
     ]
    },
    {
     "name": "stderr",
     "output_type": "stream",
     "text": [
      "2020-04-30 14:42:04,905 - wflow_sbm.ini - wf_DynamicFramework - INFO - saving maps\n",
      "2020-04-30 14:42:04,912 - wflow_sbm.ini - wf_DynamicFramework - DEBUG - timestep: 94/364.0 (2010-04-05 00:00:00)\n"
     ]
    },
    {
     "name": "stdout",
     "output_type": "stream",
     "text": [
      "94\n"
     ]
    },
    {
     "name": "stderr",
     "output_type": "stream",
     "text": [
      "2020-04-30 14:42:05,973 - wflow_sbm.ini - wf_DynamicFramework - INFO - saving maps\n",
      "2020-04-30 14:42:05,980 - wflow_sbm.ini - wf_DynamicFramework - DEBUG - timestep: 95/364.0 (2010-04-06 00:00:00)\n"
     ]
    },
    {
     "name": "stdout",
     "output_type": "stream",
     "text": [
      "95\n"
     ]
    },
    {
     "name": "stderr",
     "output_type": "stream",
     "text": [
      "2020-04-30 14:42:07,027 - wflow_sbm.ini - wf_DynamicFramework - INFO - saving maps\n",
      "2020-04-30 14:42:07,034 - wflow_sbm.ini - wf_DynamicFramework - DEBUG - timestep: 96/364.0 (2010-04-07 00:00:00)\n"
     ]
    },
    {
     "name": "stdout",
     "output_type": "stream",
     "text": [
      "96\n"
     ]
    },
    {
     "name": "stderr",
     "output_type": "stream",
     "text": [
      "2020-04-30 14:42:08,115 - wflow_sbm.ini - wf_DynamicFramework - INFO - saving maps\n",
      "2020-04-30 14:42:08,123 - wflow_sbm.ini - wf_DynamicFramework - DEBUG - timestep: 97/364.0 (2010-04-08 00:00:00)\n"
     ]
    },
    {
     "name": "stdout",
     "output_type": "stream",
     "text": [
      "97\n"
     ]
    },
    {
     "name": "stderr",
     "output_type": "stream",
     "text": [
      "2020-04-30 14:42:09,164 - wflow_sbm.ini - wf_DynamicFramework - INFO - saving maps\n",
      "2020-04-30 14:42:09,171 - wflow_sbm.ini - wf_DynamicFramework - DEBUG - timestep: 98/364.0 (2010-04-09 00:00:00)\n"
     ]
    },
    {
     "name": "stdout",
     "output_type": "stream",
     "text": [
      "98\n"
     ]
    },
    {
     "name": "stderr",
     "output_type": "stream",
     "text": [
      "2020-04-30 14:42:10,235 - wflow_sbm.ini - wf_DynamicFramework - INFO - saving maps\n",
      "2020-04-30 14:42:10,243 - wflow_sbm.ini - wf_DynamicFramework - DEBUG - timestep: 99/364.0 (2010-04-10 00:00:00)\n"
     ]
    },
    {
     "name": "stdout",
     "output_type": "stream",
     "text": [
      "99\n"
     ]
    },
    {
     "name": "stderr",
     "output_type": "stream",
     "text": [
      "2020-04-30 14:42:11,209 - wflow_sbm.ini - wf_DynamicFramework - INFO - saving maps\n",
      "2020-04-30 14:42:11,210 - wflow_sbm.ini - wf_netcdfio - DEBUG - Writing buffer for AET to file at: 0 100 timesteps\n",
      "2020-04-30 14:42:11,249 - wflow_sbm.ini - wf_netcdfio - DEBUG - Writing buffer for run to file at: 0 100 timesteps\n",
      "2020-04-30 14:42:11,295 - wflow_sbm.ini - wf_netcdfio - DEBUG - Writing buffer for sno to file at: 0 100 timesteps\n",
      "2020-04-30 14:42:11,339 - wflow_sbm.ini - wf_DynamicFramework - DEBUG - timestep: 100/364.0 (2010-04-11 00:00:00)\n"
     ]
    },
    {
     "name": "stdout",
     "output_type": "stream",
     "text": [
      "100\n"
     ]
    },
    {
     "name": "stderr",
     "output_type": "stream",
     "text": [
      "2020-04-30 14:42:12,369 - wflow_sbm.ini - wf_DynamicFramework - INFO - saving maps\n",
      "2020-04-30 14:42:12,376 - wflow_sbm.ini - wf_DynamicFramework - DEBUG - timestep: 101/364.0 (2010-04-12 00:00:00)\n"
     ]
    },
    {
     "name": "stdout",
     "output_type": "stream",
     "text": [
      "101\n"
     ]
    },
    {
     "name": "stderr",
     "output_type": "stream",
     "text": [
      "2020-04-30 14:42:13,449 - wflow_sbm.ini - wf_DynamicFramework - INFO - saving maps\n",
      "2020-04-30 14:42:13,457 - wflow_sbm.ini - wf_DynamicFramework - DEBUG - timestep: 102/364.0 (2010-04-13 00:00:00)\n"
     ]
    },
    {
     "name": "stdout",
     "output_type": "stream",
     "text": [
      "102\n"
     ]
    },
    {
     "name": "stderr",
     "output_type": "stream",
     "text": [
      "2020-04-30 14:42:14,581 - wflow_sbm.ini - wf_DynamicFramework - INFO - saving maps\n",
      "2020-04-30 14:42:14,589 - wflow_sbm.ini - wf_DynamicFramework - DEBUG - timestep: 103/364.0 (2010-04-14 00:00:00)\n"
     ]
    },
    {
     "name": "stdout",
     "output_type": "stream",
     "text": [
      "103\n"
     ]
    },
    {
     "name": "stderr",
     "output_type": "stream",
     "text": [
      "2020-04-30 14:42:15,769 - wflow_sbm.ini - wf_DynamicFramework - INFO - saving maps\n",
      "2020-04-30 14:42:15,778 - wflow_sbm.ini - wf_DynamicFramework - DEBUG - timestep: 104/364.0 (2010-04-15 00:00:00)\n"
     ]
    },
    {
     "name": "stdout",
     "output_type": "stream",
     "text": [
      "104\n"
     ]
    },
    {
     "name": "stderr",
     "output_type": "stream",
     "text": [
      "2020-04-30 14:42:16,847 - wflow_sbm.ini - wf_DynamicFramework - INFO - saving maps\n",
      "2020-04-30 14:42:16,854 - wflow_sbm.ini - wf_DynamicFramework - DEBUG - timestep: 105/364.0 (2010-04-16 00:00:00)\n"
     ]
    },
    {
     "name": "stdout",
     "output_type": "stream",
     "text": [
      "105\n"
     ]
    },
    {
     "name": "stderr",
     "output_type": "stream",
     "text": [
      "2020-04-30 14:42:17,915 - wflow_sbm.ini - wf_DynamicFramework - INFO - saving maps\n",
      "2020-04-30 14:42:17,923 - wflow_sbm.ini - wf_DynamicFramework - DEBUG - timestep: 106/364.0 (2010-04-17 00:00:00)\n"
     ]
    },
    {
     "name": "stdout",
     "output_type": "stream",
     "text": [
      "106\n"
     ]
    },
    {
     "name": "stderr",
     "output_type": "stream",
     "text": [
      "2020-04-30 14:42:18,959 - wflow_sbm.ini - wf_DynamicFramework - INFO - saving maps\n",
      "2020-04-30 14:42:18,968 - wflow_sbm.ini - wf_DynamicFramework - DEBUG - timestep: 107/364.0 (2010-04-18 00:00:00)\n"
     ]
    },
    {
     "name": "stdout",
     "output_type": "stream",
     "text": [
      "107\n"
     ]
    },
    {
     "name": "stderr",
     "output_type": "stream",
     "text": [
      "2020-04-30 14:42:19,900 - wflow_sbm.ini - wf_DynamicFramework - INFO - saving maps\n",
      "2020-04-30 14:42:19,907 - wflow_sbm.ini - wf_DynamicFramework - DEBUG - timestep: 108/364.0 (2010-04-19 00:00:00)\n"
     ]
    },
    {
     "name": "stdout",
     "output_type": "stream",
     "text": [
      "108\n"
     ]
    },
    {
     "name": "stderr",
     "output_type": "stream",
     "text": [
      "2020-04-30 14:42:20,888 - wflow_sbm.ini - wf_DynamicFramework - INFO - saving maps\n",
      "2020-04-30 14:42:20,900 - wflow_sbm.ini - wf_DynamicFramework - DEBUG - timestep: 109/364.0 (2010-04-20 00:00:00)\n"
     ]
    },
    {
     "name": "stdout",
     "output_type": "stream",
     "text": [
      "109\n"
     ]
    },
    {
     "name": "stderr",
     "output_type": "stream",
     "text": [
      "2020-04-30 14:42:21,928 - wflow_sbm.ini - wf_DynamicFramework - INFO - saving maps\n",
      "2020-04-30 14:42:21,939 - wflow_sbm.ini - wf_DynamicFramework - DEBUG - timestep: 110/364.0 (2010-04-21 00:00:00)\n"
     ]
    },
    {
     "name": "stdout",
     "output_type": "stream",
     "text": [
      "110\n"
     ]
    },
    {
     "name": "stderr",
     "output_type": "stream",
     "text": [
      "2020-04-30 14:42:22,890 - wflow_sbm.ini - wf_DynamicFramework - INFO - saving maps\n",
      "2020-04-30 14:42:22,898 - wflow_sbm.ini - wf_DynamicFramework - DEBUG - timestep: 111/364.0 (2010-04-22 00:00:00)\n"
     ]
    },
    {
     "name": "stdout",
     "output_type": "stream",
     "text": [
      "111\n"
     ]
    },
    {
     "name": "stderr",
     "output_type": "stream",
     "text": [
      "2020-04-30 14:42:23,758 - wflow_sbm.ini - wf_DynamicFramework - INFO - saving maps\n",
      "2020-04-30 14:42:23,765 - wflow_sbm.ini - wf_DynamicFramework - DEBUG - timestep: 112/364.0 (2010-04-23 00:00:00)\n"
     ]
    },
    {
     "name": "stdout",
     "output_type": "stream",
     "text": [
      "112\n"
     ]
    },
    {
     "name": "stderr",
     "output_type": "stream",
     "text": [
      "2020-04-30 14:42:24,645 - wflow_sbm.ini - wf_DynamicFramework - INFO - saving maps\n",
      "2020-04-30 14:42:24,652 - wflow_sbm.ini - wf_DynamicFramework - DEBUG - timestep: 113/364.0 (2010-04-24 00:00:00)\n"
     ]
    },
    {
     "name": "stdout",
     "output_type": "stream",
     "text": [
      "113\n"
     ]
    },
    {
     "name": "stderr",
     "output_type": "stream",
     "text": [
      "2020-04-30 14:42:25,564 - wflow_sbm.ini - wf_DynamicFramework - INFO - saving maps\n",
      "2020-04-30 14:42:25,572 - wflow_sbm.ini - wf_DynamicFramework - DEBUG - timestep: 114/364.0 (2010-04-25 00:00:00)\n"
     ]
    },
    {
     "name": "stdout",
     "output_type": "stream",
     "text": [
      "114\n"
     ]
    },
    {
     "name": "stderr",
     "output_type": "stream",
     "text": [
      "2020-04-30 14:42:26,491 - wflow_sbm.ini - wf_DynamicFramework - INFO - saving maps\n",
      "2020-04-30 14:42:26,507 - wflow_sbm.ini - wf_DynamicFramework - DEBUG - timestep: 115/364.0 (2010-04-26 00:00:00)\n"
     ]
    },
    {
     "name": "stdout",
     "output_type": "stream",
     "text": [
      "115\n"
     ]
    },
    {
     "name": "stderr",
     "output_type": "stream",
     "text": [
      "2020-04-30 14:42:27,461 - wflow_sbm.ini - wf_DynamicFramework - INFO - saving maps\n",
      "2020-04-30 14:42:27,468 - wflow_sbm.ini - wf_DynamicFramework - DEBUG - timestep: 116/364.0 (2010-04-27 00:00:00)\n"
     ]
    },
    {
     "name": "stdout",
     "output_type": "stream",
     "text": [
      "116\n"
     ]
    },
    {
     "name": "stderr",
     "output_type": "stream",
     "text": [
      "2020-04-30 14:42:28,322 - wflow_sbm.ini - wf_DynamicFramework - INFO - saving maps\n",
      "2020-04-30 14:42:28,329 - wflow_sbm.ini - wf_DynamicFramework - DEBUG - timestep: 117/364.0 (2010-04-28 00:00:00)\n"
     ]
    },
    {
     "name": "stdout",
     "output_type": "stream",
     "text": [
      "117\n"
     ]
    },
    {
     "name": "stderr",
     "output_type": "stream",
     "text": [
      "2020-04-30 14:42:29,238 - wflow_sbm.ini - wf_DynamicFramework - INFO - saving maps\n",
      "2020-04-30 14:42:29,247 - wflow_sbm.ini - wf_DynamicFramework - DEBUG - timestep: 118/364.0 (2010-04-29 00:00:00)\n"
     ]
    },
    {
     "name": "stdout",
     "output_type": "stream",
     "text": [
      "118\n"
     ]
    },
    {
     "name": "stderr",
     "output_type": "stream",
     "text": [
      "2020-04-30 14:42:30,040 - wflow_sbm.ini - wf_DynamicFramework - INFO - saving maps\n",
      "2020-04-30 14:42:30,047 - wflow_sbm.ini - wf_DynamicFramework - DEBUG - timestep: 119/364.0 (2010-04-30 00:00:00)\n"
     ]
    },
    {
     "name": "stdout",
     "output_type": "stream",
     "text": [
      "119\n"
     ]
    },
    {
     "name": "stderr",
     "output_type": "stream",
     "text": [
      "2020-04-30 14:42:30,882 - wflow_sbm.ini - wf_DynamicFramework - INFO - saving maps\n",
      "2020-04-30 14:42:30,889 - wflow_sbm.ini - wf_DynamicFramework - DEBUG - timestep: 120/364.0 (2010-05-01 00:00:00)\n"
     ]
    },
    {
     "name": "stdout",
     "output_type": "stream",
     "text": [
      "120\n"
     ]
    },
    {
     "name": "stderr",
     "output_type": "stream",
     "text": [
      "2020-04-30 14:42:31,756 - wflow_sbm.ini - wf_DynamicFramework - INFO - saving maps\n",
      "2020-04-30 14:42:31,766 - wflow_sbm.ini - wf_DynamicFramework - DEBUG - timestep: 121/364.0 (2010-05-02 00:00:00)\n"
     ]
    },
    {
     "name": "stdout",
     "output_type": "stream",
     "text": [
      "121\n"
     ]
    },
    {
     "name": "stderr",
     "output_type": "stream",
     "text": [
      "2020-04-30 14:42:32,551 - wflow_sbm.ini - wf_DynamicFramework - INFO - saving maps\n",
      "2020-04-30 14:42:32,559 - wflow_sbm.ini - wf_DynamicFramework - DEBUG - timestep: 122/364.0 (2010-05-03 00:00:00)\n"
     ]
    },
    {
     "name": "stdout",
     "output_type": "stream",
     "text": [
      "122\n"
     ]
    },
    {
     "name": "stderr",
     "output_type": "stream",
     "text": [
      "2020-04-30 14:42:33,290 - wflow_sbm.ini - wf_DynamicFramework - INFO - saving maps\n",
      "2020-04-30 14:42:33,298 - wflow_sbm.ini - wf_DynamicFramework - DEBUG - timestep: 123/364.0 (2010-05-04 00:00:00)\n"
     ]
    },
    {
     "name": "stdout",
     "output_type": "stream",
     "text": [
      "123\n"
     ]
    },
    {
     "name": "stderr",
     "output_type": "stream",
     "text": [
      "2020-04-30 14:42:34,104 - wflow_sbm.ini - wf_DynamicFramework - INFO - saving maps\n",
      "2020-04-30 14:42:34,113 - wflow_sbm.ini - wf_DynamicFramework - DEBUG - timestep: 124/364.0 (2010-05-05 00:00:00)\n"
     ]
    },
    {
     "name": "stdout",
     "output_type": "stream",
     "text": [
      "124\n"
     ]
    },
    {
     "name": "stderr",
     "output_type": "stream",
     "text": [
      "2020-04-30 14:42:34,944 - wflow_sbm.ini - wf_DynamicFramework - INFO - saving maps\n",
      "2020-04-30 14:42:34,951 - wflow_sbm.ini - wf_DynamicFramework - DEBUG - timestep: 125/364.0 (2010-05-06 00:00:00)\n"
     ]
    },
    {
     "name": "stdout",
     "output_type": "stream",
     "text": [
      "125\n"
     ]
    },
    {
     "name": "stderr",
     "output_type": "stream",
     "text": [
      "2020-04-30 14:42:35,769 - wflow_sbm.ini - wf_DynamicFramework - INFO - saving maps\n",
      "2020-04-30 14:42:35,777 - wflow_sbm.ini - wf_DynamicFramework - DEBUG - timestep: 126/364.0 (2010-05-07 00:00:00)\n"
     ]
    },
    {
     "name": "stdout",
     "output_type": "stream",
     "text": [
      "126\n"
     ]
    },
    {
     "name": "stderr",
     "output_type": "stream",
     "text": [
      "2020-04-30 14:42:36,622 - wflow_sbm.ini - wf_DynamicFramework - INFO - saving maps\n",
      "2020-04-30 14:42:36,630 - wflow_sbm.ini - wf_DynamicFramework - DEBUG - timestep: 127/364.0 (2010-05-08 00:00:00)\n"
     ]
    },
    {
     "name": "stdout",
     "output_type": "stream",
     "text": [
      "127\n"
     ]
    },
    {
     "name": "stderr",
     "output_type": "stream",
     "text": [
      "2020-04-30 14:42:37,474 - wflow_sbm.ini - wf_DynamicFramework - INFO - saving maps\n",
      "2020-04-30 14:42:37,481 - wflow_sbm.ini - wf_DynamicFramework - DEBUG - timestep: 128/364.0 (2010-05-09 00:00:00)\n"
     ]
    },
    {
     "name": "stdout",
     "output_type": "stream",
     "text": [
      "128\n"
     ]
    },
    {
     "name": "stderr",
     "output_type": "stream",
     "text": [
      "2020-04-30 14:42:38,298 - wflow_sbm.ini - wf_DynamicFramework - INFO - saving maps\n",
      "2020-04-30 14:42:38,305 - wflow_sbm.ini - wf_DynamicFramework - DEBUG - timestep: 129/364.0 (2010-05-10 00:00:00)\n"
     ]
    },
    {
     "name": "stdout",
     "output_type": "stream",
     "text": [
      "129\n"
     ]
    },
    {
     "name": "stderr",
     "output_type": "stream",
     "text": [
      "2020-04-30 14:42:39,145 - wflow_sbm.ini - wf_DynamicFramework - INFO - saving maps\n",
      "2020-04-30 14:42:39,154 - wflow_sbm.ini - wf_DynamicFramework - DEBUG - timestep: 130/364.0 (2010-05-11 00:00:00)\n"
     ]
    },
    {
     "name": "stdout",
     "output_type": "stream",
     "text": [
      "130\n"
     ]
    },
    {
     "name": "stderr",
     "output_type": "stream",
     "text": [
      "2020-04-30 14:42:39,996 - wflow_sbm.ini - wf_DynamicFramework - INFO - saving maps\n",
      "2020-04-30 14:42:40,003 - wflow_sbm.ini - wf_DynamicFramework - DEBUG - timestep: 131/364.0 (2010-05-12 00:00:00)\n"
     ]
    },
    {
     "name": "stdout",
     "output_type": "stream",
     "text": [
      "131\n"
     ]
    },
    {
     "name": "stderr",
     "output_type": "stream",
     "text": [
      "2020-04-30 14:42:40,803 - wflow_sbm.ini - wf_DynamicFramework - INFO - saving maps\n",
      "2020-04-30 14:42:40,811 - wflow_sbm.ini - wf_DynamicFramework - DEBUG - timestep: 132/364.0 (2010-05-13 00:00:00)\n"
     ]
    },
    {
     "name": "stdout",
     "output_type": "stream",
     "text": [
      "132\n"
     ]
    },
    {
     "name": "stderr",
     "output_type": "stream",
     "text": [
      "2020-04-30 14:42:41,606 - wflow_sbm.ini - wf_DynamicFramework - INFO - saving maps\n",
      "2020-04-30 14:42:41,614 - wflow_sbm.ini - wf_DynamicFramework - DEBUG - timestep: 133/364.0 (2010-05-14 00:00:00)\n"
     ]
    },
    {
     "name": "stdout",
     "output_type": "stream",
     "text": [
      "133\n"
     ]
    },
    {
     "name": "stderr",
     "output_type": "stream",
     "text": [
      "2020-04-30 14:42:42,392 - wflow_sbm.ini - wf_DynamicFramework - INFO - saving maps\n",
      "2020-04-30 14:42:42,401 - wflow_sbm.ini - wf_DynamicFramework - DEBUG - timestep: 134/364.0 (2010-05-15 00:00:00)\n"
     ]
    },
    {
     "name": "stdout",
     "output_type": "stream",
     "text": [
      "134\n"
     ]
    },
    {
     "name": "stderr",
     "output_type": "stream",
     "text": [
      "2020-04-30 14:42:43,100 - wflow_sbm.ini - wf_DynamicFramework - INFO - saving maps\n",
      "2020-04-30 14:42:43,111 - wflow_sbm.ini - wf_DynamicFramework - DEBUG - timestep: 135/364.0 (2010-05-16 00:00:00)\n"
     ]
    },
    {
     "name": "stdout",
     "output_type": "stream",
     "text": [
      "135\n"
     ]
    },
    {
     "name": "stderr",
     "output_type": "stream",
     "text": [
      "2020-04-30 14:42:43,983 - wflow_sbm.ini - wf_DynamicFramework - INFO - saving maps\n",
      "2020-04-30 14:42:43,996 - wflow_sbm.ini - wf_DynamicFramework - DEBUG - timestep: 136/364.0 (2010-05-17 00:00:00)\n"
     ]
    },
    {
     "name": "stdout",
     "output_type": "stream",
     "text": [
      "136\n"
     ]
    },
    {
     "name": "stderr",
     "output_type": "stream",
     "text": [
      "2020-04-30 14:42:44,862 - wflow_sbm.ini - wf_DynamicFramework - INFO - saving maps\n",
      "2020-04-30 14:42:44,870 - wflow_sbm.ini - wf_DynamicFramework - DEBUG - timestep: 137/364.0 (2010-05-18 00:00:00)\n"
     ]
    },
    {
     "name": "stdout",
     "output_type": "stream",
     "text": [
      "137\n"
     ]
    },
    {
     "name": "stderr",
     "output_type": "stream",
     "text": [
      "2020-04-30 14:42:45,648 - wflow_sbm.ini - wf_DynamicFramework - INFO - saving maps\n",
      "2020-04-30 14:42:45,656 - wflow_sbm.ini - wf_DynamicFramework - DEBUG - timestep: 138/364.0 (2010-05-19 00:00:00)\n"
     ]
    },
    {
     "name": "stdout",
     "output_type": "stream",
     "text": [
      "138\n"
     ]
    },
    {
     "name": "stderr",
     "output_type": "stream",
     "text": [
      "2020-04-30 14:42:46,394 - wflow_sbm.ini - wf_DynamicFramework - INFO - saving maps\n",
      "2020-04-30 14:42:46,400 - wflow_sbm.ini - wf_DynamicFramework - DEBUG - timestep: 139/364.0 (2010-05-20 00:00:00)\n"
     ]
    },
    {
     "name": "stdout",
     "output_type": "stream",
     "text": [
      "139\n"
     ]
    },
    {
     "name": "stderr",
     "output_type": "stream",
     "text": [
      "2020-04-30 14:42:47,219 - wflow_sbm.ini - wf_DynamicFramework - INFO - saving maps\n",
      "2020-04-30 14:42:47,226 - wflow_sbm.ini - wf_DynamicFramework - DEBUG - timestep: 140/364.0 (2010-05-21 00:00:00)\n"
     ]
    },
    {
     "name": "stdout",
     "output_type": "stream",
     "text": [
      "140\n"
     ]
    },
    {
     "name": "stderr",
     "output_type": "stream",
     "text": [
      "2020-04-30 14:42:47,948 - wflow_sbm.ini - wf_DynamicFramework - INFO - saving maps\n",
      "2020-04-30 14:42:47,955 - wflow_sbm.ini - wf_DynamicFramework - DEBUG - timestep: 141/364.0 (2010-05-22 00:00:00)\n"
     ]
    },
    {
     "name": "stdout",
     "output_type": "stream",
     "text": [
      "141\n"
     ]
    },
    {
     "name": "stderr",
     "output_type": "stream",
     "text": [
      "2020-04-30 14:42:48,708 - wflow_sbm.ini - wf_DynamicFramework - INFO - saving maps\n",
      "2020-04-30 14:42:48,717 - wflow_sbm.ini - wf_DynamicFramework - DEBUG - timestep: 142/364.0 (2010-05-23 00:00:00)\n"
     ]
    },
    {
     "name": "stdout",
     "output_type": "stream",
     "text": [
      "142\n"
     ]
    },
    {
     "name": "stderr",
     "output_type": "stream",
     "text": [
      "2020-04-30 14:42:49,501 - wflow_sbm.ini - wf_DynamicFramework - INFO - saving maps\n",
      "2020-04-30 14:42:49,509 - wflow_sbm.ini - wf_DynamicFramework - DEBUG - timestep: 143/364.0 (2010-05-24 00:00:00)\n"
     ]
    },
    {
     "name": "stdout",
     "output_type": "stream",
     "text": [
      "143\n"
     ]
    },
    {
     "name": "stderr",
     "output_type": "stream",
     "text": [
      "2020-04-30 14:42:50,288 - wflow_sbm.ini - wf_DynamicFramework - INFO - saving maps\n",
      "2020-04-30 14:42:50,300 - wflow_sbm.ini - wf_DynamicFramework - DEBUG - timestep: 144/364.0 (2010-05-25 00:00:00)\n"
     ]
    },
    {
     "name": "stdout",
     "output_type": "stream",
     "text": [
      "144\n"
     ]
    },
    {
     "name": "stderr",
     "output_type": "stream",
     "text": [
      "2020-04-30 14:42:51,083 - wflow_sbm.ini - wf_DynamicFramework - INFO - saving maps\n",
      "2020-04-30 14:42:51,095 - wflow_sbm.ini - wf_DynamicFramework - DEBUG - timestep: 145/364.0 (2010-05-26 00:00:00)\n"
     ]
    },
    {
     "name": "stdout",
     "output_type": "stream",
     "text": [
      "145\n"
     ]
    },
    {
     "name": "stderr",
     "output_type": "stream",
     "text": [
      "2020-04-30 14:42:51,867 - wflow_sbm.ini - wf_DynamicFramework - INFO - saving maps\n",
      "2020-04-30 14:42:51,874 - wflow_sbm.ini - wf_DynamicFramework - DEBUG - timestep: 146/364.0 (2010-05-27 00:00:00)\n"
     ]
    },
    {
     "name": "stdout",
     "output_type": "stream",
     "text": [
      "146\n"
     ]
    },
    {
     "name": "stderr",
     "output_type": "stream",
     "text": [
      "2020-04-30 14:42:52,605 - wflow_sbm.ini - wf_DynamicFramework - INFO - saving maps\n",
      "2020-04-30 14:42:52,612 - wflow_sbm.ini - wf_DynamicFramework - DEBUG - timestep: 147/364.0 (2010-05-28 00:00:00)\n"
     ]
    },
    {
     "name": "stdout",
     "output_type": "stream",
     "text": [
      "147\n"
     ]
    },
    {
     "name": "stderr",
     "output_type": "stream",
     "text": [
      "2020-04-30 14:42:53,288 - wflow_sbm.ini - wf_DynamicFramework - INFO - saving maps\n",
      "2020-04-30 14:42:53,295 - wflow_sbm.ini - wf_DynamicFramework - DEBUG - timestep: 148/364.0 (2010-05-29 00:00:00)\n"
     ]
    },
    {
     "name": "stdout",
     "output_type": "stream",
     "text": [
      "148\n"
     ]
    },
    {
     "name": "stderr",
     "output_type": "stream",
     "text": [
      "2020-04-30 14:42:53,889 - wflow_sbm.ini - wf_DynamicFramework - INFO - saving maps\n",
      "2020-04-30 14:42:53,896 - wflow_sbm.ini - wf_DynamicFramework - DEBUG - timestep: 149/364.0 (2010-05-30 00:00:00)\n"
     ]
    },
    {
     "name": "stdout",
     "output_type": "stream",
     "text": [
      "149\n"
     ]
    },
    {
     "name": "stderr",
     "output_type": "stream",
     "text": [
      "2020-04-30 14:42:54,482 - wflow_sbm.ini - wf_DynamicFramework - INFO - saving maps\n",
      "2020-04-30 14:42:54,490 - wflow_sbm.ini - wf_DynamicFramework - DEBUG - timestep: 150/364.0 (2010-05-31 00:00:00)\n"
     ]
    },
    {
     "name": "stdout",
     "output_type": "stream",
     "text": [
      "150\n"
     ]
    },
    {
     "name": "stderr",
     "output_type": "stream",
     "text": [
      "2020-04-30 14:42:55,090 - wflow_sbm.ini - wf_DynamicFramework - INFO - saving maps\n",
      "2020-04-30 14:42:55,097 - wflow_sbm.ini - wf_DynamicFramework - DEBUG - timestep: 151/364.0 (2010-06-01 00:00:00)\n"
     ]
    },
    {
     "name": "stdout",
     "output_type": "stream",
     "text": [
      "151\n"
     ]
    },
    {
     "name": "stderr",
     "output_type": "stream",
     "text": [
      "2020-04-30 14:42:55,811 - wflow_sbm.ini - wf_DynamicFramework - INFO - saving maps\n",
      "2020-04-30 14:42:55,818 - wflow_sbm.ini - wf_DynamicFramework - DEBUG - timestep: 152/364.0 (2010-06-02 00:00:00)\n"
     ]
    },
    {
     "name": "stdout",
     "output_type": "stream",
     "text": [
      "152\n"
     ]
    },
    {
     "name": "stderr",
     "output_type": "stream",
     "text": [
      "2020-04-30 14:42:56,551 - wflow_sbm.ini - wf_DynamicFramework - INFO - saving maps\n",
      "2020-04-30 14:42:56,558 - wflow_sbm.ini - wf_DynamicFramework - DEBUG - timestep: 153/364.0 (2010-06-03 00:00:00)\n"
     ]
    },
    {
     "name": "stdout",
     "output_type": "stream",
     "text": [
      "153\n"
     ]
    },
    {
     "name": "stderr",
     "output_type": "stream",
     "text": [
      "2020-04-30 14:42:57,342 - wflow_sbm.ini - wf_DynamicFramework - INFO - saving maps\n",
      "2020-04-30 14:42:57,349 - wflow_sbm.ini - wf_DynamicFramework - DEBUG - timestep: 154/364.0 (2010-06-04 00:00:00)\n"
     ]
    },
    {
     "name": "stdout",
     "output_type": "stream",
     "text": [
      "154\n"
     ]
    },
    {
     "name": "stderr",
     "output_type": "stream",
     "text": [
      "2020-04-30 14:42:58,107 - wflow_sbm.ini - wf_DynamicFramework - INFO - saving maps\n",
      "2020-04-30 14:42:58,114 - wflow_sbm.ini - wf_DynamicFramework - DEBUG - timestep: 155/364.0 (2010-06-05 00:00:00)\n"
     ]
    },
    {
     "name": "stdout",
     "output_type": "stream",
     "text": [
      "155\n"
     ]
    },
    {
     "name": "stderr",
     "output_type": "stream",
     "text": [
      "2020-04-30 14:42:58,869 - wflow_sbm.ini - wf_DynamicFramework - INFO - saving maps\n",
      "2020-04-30 14:42:58,876 - wflow_sbm.ini - wf_DynamicFramework - DEBUG - timestep: 156/364.0 (2010-06-06 00:00:00)\n"
     ]
    },
    {
     "name": "stdout",
     "output_type": "stream",
     "text": [
      "156\n"
     ]
    },
    {
     "name": "stderr",
     "output_type": "stream",
     "text": [
      "2020-04-30 14:42:59,710 - wflow_sbm.ini - wf_DynamicFramework - INFO - saving maps\n",
      "2020-04-30 14:42:59,717 - wflow_sbm.ini - wf_DynamicFramework - DEBUG - timestep: 157/364.0 (2010-06-07 00:00:00)\n"
     ]
    },
    {
     "name": "stdout",
     "output_type": "stream",
     "text": [
      "157\n"
     ]
    },
    {
     "name": "stderr",
     "output_type": "stream",
     "text": [
      "2020-04-30 14:43:00,448 - wflow_sbm.ini - wf_DynamicFramework - INFO - saving maps\n",
      "2020-04-30 14:43:00,456 - wflow_sbm.ini - wf_DynamicFramework - DEBUG - timestep: 158/364.0 (2010-06-08 00:00:00)\n"
     ]
    },
    {
     "name": "stdout",
     "output_type": "stream",
     "text": [
      "158\n"
     ]
    },
    {
     "name": "stderr",
     "output_type": "stream",
     "text": [
      "2020-04-30 14:43:01,213 - wflow_sbm.ini - wf_DynamicFramework - INFO - saving maps\n",
      "2020-04-30 14:43:01,220 - wflow_sbm.ini - wf_DynamicFramework - DEBUG - timestep: 159/364.0 (2010-06-09 00:00:00)\n"
     ]
    },
    {
     "name": "stdout",
     "output_type": "stream",
     "text": [
      "159\n"
     ]
    },
    {
     "name": "stderr",
     "output_type": "stream",
     "text": [
      "2020-04-30 14:43:02,075 - wflow_sbm.ini - wf_DynamicFramework - INFO - saving maps\n",
      "2020-04-30 14:43:02,082 - wflow_sbm.ini - wf_DynamicFramework - DEBUG - timestep: 160/364.0 (2010-06-10 00:00:00)\n"
     ]
    },
    {
     "name": "stdout",
     "output_type": "stream",
     "text": [
      "160\n"
     ]
    },
    {
     "name": "stderr",
     "output_type": "stream",
     "text": [
      "2020-04-30 14:43:02,837 - wflow_sbm.ini - wf_DynamicFramework - INFO - saving maps\n",
      "2020-04-30 14:43:02,844 - wflow_sbm.ini - wf_DynamicFramework - DEBUG - timestep: 161/364.0 (2010-06-11 00:00:00)\n"
     ]
    },
    {
     "name": "stdout",
     "output_type": "stream",
     "text": [
      "161\n"
     ]
    },
    {
     "name": "stderr",
     "output_type": "stream",
     "text": [
      "2020-04-30 14:43:03,564 - wflow_sbm.ini - wf_DynamicFramework - INFO - saving maps\n",
      "2020-04-30 14:43:03,572 - wflow_sbm.ini - wf_DynamicFramework - DEBUG - timestep: 162/364.0 (2010-06-12 00:00:00)\n"
     ]
    },
    {
     "name": "stdout",
     "output_type": "stream",
     "text": [
      "162\n"
     ]
    },
    {
     "name": "stderr",
     "output_type": "stream",
     "text": [
      "2020-04-30 14:43:04,318 - wflow_sbm.ini - wf_DynamicFramework - INFO - saving maps\n",
      "2020-04-30 14:43:04,329 - wflow_sbm.ini - wf_DynamicFramework - DEBUG - timestep: 163/364.0 (2010-06-13 00:00:00)\n"
     ]
    },
    {
     "name": "stdout",
     "output_type": "stream",
     "text": [
      "163\n"
     ]
    },
    {
     "name": "stderr",
     "output_type": "stream",
     "text": [
      "2020-04-30 14:43:05,137 - wflow_sbm.ini - wf_DynamicFramework - INFO - saving maps\n",
      "2020-04-30 14:43:05,145 - wflow_sbm.ini - wf_DynamicFramework - DEBUG - timestep: 164/364.0 (2010-06-14 00:00:00)\n"
     ]
    },
    {
     "name": "stdout",
     "output_type": "stream",
     "text": [
      "164\n"
     ]
    },
    {
     "name": "stderr",
     "output_type": "stream",
     "text": [
      "2020-04-30 14:43:05,897 - wflow_sbm.ini - wf_DynamicFramework - INFO - saving maps\n",
      "2020-04-30 14:43:05,907 - wflow_sbm.ini - wf_DynamicFramework - DEBUG - timestep: 165/364.0 (2010-06-15 00:00:00)\n"
     ]
    },
    {
     "name": "stdout",
     "output_type": "stream",
     "text": [
      "165\n"
     ]
    },
    {
     "name": "stderr",
     "output_type": "stream",
     "text": [
      "2020-04-30 14:43:06,588 - wflow_sbm.ini - wf_DynamicFramework - INFO - saving maps\n",
      "2020-04-30 14:43:06,597 - wflow_sbm.ini - wf_DynamicFramework - DEBUG - timestep: 166/364.0 (2010-06-16 00:00:00)\n"
     ]
    },
    {
     "name": "stdout",
     "output_type": "stream",
     "text": [
      "166\n"
     ]
    },
    {
     "name": "stderr",
     "output_type": "stream",
     "text": [
      "2020-04-30 14:43:07,284 - wflow_sbm.ini - wf_DynamicFramework - INFO - saving maps\n",
      "2020-04-30 14:43:07,292 - wflow_sbm.ini - wf_DynamicFramework - DEBUG - timestep: 167/364.0 (2010-06-17 00:00:00)\n"
     ]
    },
    {
     "name": "stdout",
     "output_type": "stream",
     "text": [
      "167\n"
     ]
    },
    {
     "name": "stderr",
     "output_type": "stream",
     "text": [
      "2020-04-30 14:43:07,942 - wflow_sbm.ini - wf_DynamicFramework - INFO - saving maps\n",
      "2020-04-30 14:43:07,949 - wflow_sbm.ini - wf_DynamicFramework - DEBUG - timestep: 168/364.0 (2010-06-18 00:00:00)\n"
     ]
    },
    {
     "name": "stdout",
     "output_type": "stream",
     "text": [
      "168\n"
     ]
    },
    {
     "name": "stderr",
     "output_type": "stream",
     "text": [
      "2020-04-30 14:43:08,561 - wflow_sbm.ini - wf_DynamicFramework - INFO - saving maps\n",
      "2020-04-30 14:43:08,568 - wflow_sbm.ini - wf_DynamicFramework - DEBUG - timestep: 169/364.0 (2010-06-19 00:00:00)\n"
     ]
    },
    {
     "name": "stdout",
     "output_type": "stream",
     "text": [
      "169\n"
     ]
    },
    {
     "name": "stderr",
     "output_type": "stream",
     "text": [
      "2020-04-30 14:43:09,181 - wflow_sbm.ini - wf_DynamicFramework - INFO - saving maps\n",
      "2020-04-30 14:43:09,188 - wflow_sbm.ini - wf_DynamicFramework - DEBUG - timestep: 170/364.0 (2010-06-20 00:00:00)\n"
     ]
    },
    {
     "name": "stdout",
     "output_type": "stream",
     "text": [
      "170\n"
     ]
    },
    {
     "name": "stderr",
     "output_type": "stream",
     "text": [
      "2020-04-30 14:43:09,846 - wflow_sbm.ini - wf_DynamicFramework - INFO - saving maps\n",
      "2020-04-30 14:43:09,857 - wflow_sbm.ini - wf_DynamicFramework - DEBUG - timestep: 171/364.0 (2010-06-21 00:00:00)\n"
     ]
    },
    {
     "name": "stdout",
     "output_type": "stream",
     "text": [
      "171\n"
     ]
    },
    {
     "name": "stderr",
     "output_type": "stream",
     "text": [
      "2020-04-30 14:43:10,480 - wflow_sbm.ini - wf_DynamicFramework - INFO - saving maps\n",
      "2020-04-30 14:43:10,490 - wflow_sbm.ini - wf_DynamicFramework - DEBUG - timestep: 172/364.0 (2010-06-22 00:00:00)\n"
     ]
    },
    {
     "name": "stdout",
     "output_type": "stream",
     "text": [
      "172\n"
     ]
    },
    {
     "name": "stderr",
     "output_type": "stream",
     "text": [
      "2020-04-30 14:43:11,146 - wflow_sbm.ini - wf_DynamicFramework - INFO - saving maps\n",
      "2020-04-30 14:43:11,160 - wflow_sbm.ini - wf_DynamicFramework - DEBUG - timestep: 173/364.0 (2010-06-23 00:00:00)\n"
     ]
    },
    {
     "name": "stdout",
     "output_type": "stream",
     "text": [
      "173\n"
     ]
    },
    {
     "name": "stderr",
     "output_type": "stream",
     "text": [
      "2020-04-30 14:43:11,765 - wflow_sbm.ini - wf_DynamicFramework - INFO - saving maps\n",
      "2020-04-30 14:43:11,772 - wflow_sbm.ini - wf_DynamicFramework - DEBUG - timestep: 174/364.0 (2010-06-24 00:00:00)\n"
     ]
    },
    {
     "name": "stdout",
     "output_type": "stream",
     "text": [
      "174\n"
     ]
    },
    {
     "name": "stderr",
     "output_type": "stream",
     "text": [
      "2020-04-30 14:43:12,393 - wflow_sbm.ini - wf_DynamicFramework - INFO - saving maps\n",
      "2020-04-30 14:43:12,404 - wflow_sbm.ini - wf_DynamicFramework - DEBUG - timestep: 175/364.0 (2010-06-25 00:00:00)\n"
     ]
    },
    {
     "name": "stdout",
     "output_type": "stream",
     "text": [
      "175\n"
     ]
    },
    {
     "name": "stderr",
     "output_type": "stream",
     "text": [
      "2020-04-30 14:43:13,044 - wflow_sbm.ini - wf_DynamicFramework - INFO - saving maps\n",
      "2020-04-30 14:43:13,051 - wflow_sbm.ini - wf_DynamicFramework - DEBUG - timestep: 176/364.0 (2010-06-26 00:00:00)\n"
     ]
    },
    {
     "name": "stdout",
     "output_type": "stream",
     "text": [
      "176\n"
     ]
    },
    {
     "name": "stderr",
     "output_type": "stream",
     "text": [
      "2020-04-30 14:43:13,674 - wflow_sbm.ini - wf_DynamicFramework - INFO - saving maps\n",
      "2020-04-30 14:43:13,681 - wflow_sbm.ini - wf_DynamicFramework - DEBUG - timestep: 177/364.0 (2010-06-27 00:00:00)\n"
     ]
    },
    {
     "name": "stdout",
     "output_type": "stream",
     "text": [
      "177\n"
     ]
    },
    {
     "name": "stderr",
     "output_type": "stream",
     "text": [
      "2020-04-30 14:43:14,290 - wflow_sbm.ini - wf_DynamicFramework - INFO - saving maps\n",
      "2020-04-30 14:43:14,298 - wflow_sbm.ini - wf_DynamicFramework - DEBUG - timestep: 178/364.0 (2010-06-28 00:00:00)\n"
     ]
    },
    {
     "name": "stdout",
     "output_type": "stream",
     "text": [
      "178\n"
     ]
    },
    {
     "name": "stderr",
     "output_type": "stream",
     "text": [
      "2020-04-30 14:43:14,896 - wflow_sbm.ini - wf_DynamicFramework - INFO - saving maps\n",
      "2020-04-30 14:43:14,904 - wflow_sbm.ini - wf_DynamicFramework - DEBUG - timestep: 179/364.0 (2010-06-29 00:00:00)\n"
     ]
    },
    {
     "name": "stdout",
     "output_type": "stream",
     "text": [
      "179\n"
     ]
    },
    {
     "name": "stderr",
     "output_type": "stream",
     "text": [
      "2020-04-30 14:43:15,481 - wflow_sbm.ini - wf_DynamicFramework - INFO - saving maps\n",
      "2020-04-30 14:43:15,489 - wflow_sbm.ini - wf_DynamicFramework - DEBUG - timestep: 180/364.0 (2010-06-30 00:00:00)\n"
     ]
    },
    {
     "name": "stdout",
     "output_type": "stream",
     "text": [
      "180\n"
     ]
    },
    {
     "name": "stderr",
     "output_type": "stream",
     "text": [
      "2020-04-30 14:43:16,054 - wflow_sbm.ini - wf_DynamicFramework - INFO - saving maps\n",
      "2020-04-30 14:43:16,061 - wflow_sbm.ini - wf_DynamicFramework - DEBUG - timestep: 181/364.0 (2010-07-01 00:00:00)\n"
     ]
    },
    {
     "name": "stdout",
     "output_type": "stream",
     "text": [
      "181\n"
     ]
    },
    {
     "name": "stderr",
     "output_type": "stream",
     "text": [
      "2020-04-30 14:43:16,632 - wflow_sbm.ini - wf_DynamicFramework - INFO - saving maps\n",
      "2020-04-30 14:43:16,639 - wflow_sbm.ini - wf_DynamicFramework - DEBUG - timestep: 182/364.0 (2010-07-02 00:00:00)\n"
     ]
    },
    {
     "name": "stdout",
     "output_type": "stream",
     "text": [
      "182\n"
     ]
    },
    {
     "name": "stderr",
     "output_type": "stream",
     "text": [
      "2020-04-30 14:43:17,241 - wflow_sbm.ini - wf_DynamicFramework - INFO - saving maps\n",
      "2020-04-30 14:43:17,248 - wflow_sbm.ini - wf_DynamicFramework - DEBUG - timestep: 183/364.0 (2010-07-03 00:00:00)\n"
     ]
    },
    {
     "name": "stdout",
     "output_type": "stream",
     "text": [
      "183\n"
     ]
    },
    {
     "name": "stderr",
     "output_type": "stream",
     "text": [
      "2020-04-30 14:43:17,881 - wflow_sbm.ini - wf_DynamicFramework - INFO - saving maps\n",
      "2020-04-30 14:43:17,887 - wflow_sbm.ini - wf_DynamicFramework - DEBUG - timestep: 184/364.0 (2010-07-04 00:00:00)\n"
     ]
    },
    {
     "name": "stdout",
     "output_type": "stream",
     "text": [
      "184\n"
     ]
    },
    {
     "name": "stderr",
     "output_type": "stream",
     "text": [
      "2020-04-30 14:43:18,559 - wflow_sbm.ini - wf_DynamicFramework - INFO - saving maps\n",
      "2020-04-30 14:43:18,566 - wflow_sbm.ini - wf_DynamicFramework - DEBUG - timestep: 185/364.0 (2010-07-05 00:00:00)\n"
     ]
    },
    {
     "name": "stdout",
     "output_type": "stream",
     "text": [
      "185\n"
     ]
    },
    {
     "name": "stderr",
     "output_type": "stream",
     "text": [
      "2020-04-30 14:43:19,237 - wflow_sbm.ini - wf_DynamicFramework - INFO - saving maps\n",
      "2020-04-30 14:43:19,244 - wflow_sbm.ini - wf_DynamicFramework - DEBUG - timestep: 186/364.0 (2010-07-06 00:00:00)\n"
     ]
    },
    {
     "name": "stdout",
     "output_type": "stream",
     "text": [
      "186\n"
     ]
    },
    {
     "name": "stderr",
     "output_type": "stream",
     "text": [
      "2020-04-30 14:43:19,903 - wflow_sbm.ini - wf_DynamicFramework - INFO - saving maps\n",
      "2020-04-30 14:43:19,910 - wflow_sbm.ini - wf_DynamicFramework - DEBUG - timestep: 187/364.0 (2010-07-07 00:00:00)\n"
     ]
    },
    {
     "name": "stdout",
     "output_type": "stream",
     "text": [
      "187\n"
     ]
    },
    {
     "name": "stderr",
     "output_type": "stream",
     "text": [
      "2020-04-30 14:43:20,548 - wflow_sbm.ini - wf_DynamicFramework - INFO - saving maps\n",
      "2020-04-30 14:43:20,555 - wflow_sbm.ini - wf_DynamicFramework - DEBUG - timestep: 188/364.0 (2010-07-08 00:00:00)\n"
     ]
    },
    {
     "name": "stdout",
     "output_type": "stream",
     "text": [
      "188\n"
     ]
    },
    {
     "name": "stderr",
     "output_type": "stream",
     "text": [
      "2020-04-30 14:43:21,212 - wflow_sbm.ini - wf_DynamicFramework - INFO - saving maps\n",
      "2020-04-30 14:43:21,220 - wflow_sbm.ini - wf_DynamicFramework - DEBUG - timestep: 189/364.0 (2010-07-09 00:00:00)\n"
     ]
    },
    {
     "name": "stdout",
     "output_type": "stream",
     "text": [
      "189\n"
     ]
    },
    {
     "name": "stderr",
     "output_type": "stream",
     "text": [
      "2020-04-30 14:43:21,916 - wflow_sbm.ini - wf_DynamicFramework - INFO - saving maps\n",
      "2020-04-30 14:43:21,924 - wflow_sbm.ini - wf_DynamicFramework - DEBUG - timestep: 190/364.0 (2010-07-10 00:00:00)\n"
     ]
    },
    {
     "name": "stdout",
     "output_type": "stream",
     "text": [
      "190\n"
     ]
    },
    {
     "name": "stderr",
     "output_type": "stream",
     "text": [
      "2020-04-30 14:43:22,612 - wflow_sbm.ini - wf_DynamicFramework - INFO - saving maps\n",
      "2020-04-30 14:43:22,620 - wflow_sbm.ini - wf_DynamicFramework - DEBUG - timestep: 191/364.0 (2010-07-11 00:00:00)\n"
     ]
    },
    {
     "name": "stdout",
     "output_type": "stream",
     "text": [
      "191\n"
     ]
    },
    {
     "name": "stderr",
     "output_type": "stream",
     "text": [
      "2020-04-30 14:43:23,305 - wflow_sbm.ini - wf_DynamicFramework - INFO - saving maps\n",
      "2020-04-30 14:43:23,314 - wflow_sbm.ini - wf_DynamicFramework - DEBUG - timestep: 192/364.0 (2010-07-12 00:00:00)\n"
     ]
    },
    {
     "name": "stdout",
     "output_type": "stream",
     "text": [
      "192\n"
     ]
    },
    {
     "name": "stderr",
     "output_type": "stream",
     "text": [
      "2020-04-30 14:43:24,015 - wflow_sbm.ini - wf_DynamicFramework - INFO - saving maps\n",
      "2020-04-30 14:43:24,022 - wflow_sbm.ini - wf_DynamicFramework - DEBUG - timestep: 193/364.0 (2010-07-13 00:00:00)\n"
     ]
    },
    {
     "name": "stdout",
     "output_type": "stream",
     "text": [
      "193\n"
     ]
    },
    {
     "name": "stderr",
     "output_type": "stream",
     "text": [
      "2020-04-30 14:43:24,704 - wflow_sbm.ini - wf_DynamicFramework - INFO - saving maps\n",
      "2020-04-30 14:43:24,711 - wflow_sbm.ini - wf_DynamicFramework - DEBUG - timestep: 194/364.0 (2010-07-14 00:00:00)\n"
     ]
    },
    {
     "name": "stdout",
     "output_type": "stream",
     "text": [
      "194\n"
     ]
    },
    {
     "name": "stderr",
     "output_type": "stream",
     "text": [
      "2020-04-30 14:43:25,404 - wflow_sbm.ini - wf_DynamicFramework - INFO - saving maps\n",
      "2020-04-30 14:43:25,412 - wflow_sbm.ini - wf_DynamicFramework - DEBUG - timestep: 195/364.0 (2010-07-15 00:00:00)\n"
     ]
    },
    {
     "name": "stdout",
     "output_type": "stream",
     "text": [
      "195\n"
     ]
    },
    {
     "name": "stderr",
     "output_type": "stream",
     "text": [
      "2020-04-30 14:43:26,073 - wflow_sbm.ini - wf_DynamicFramework - INFO - saving maps\n",
      "2020-04-30 14:43:26,081 - wflow_sbm.ini - wf_DynamicFramework - DEBUG - timestep: 196/364.0 (2010-07-16 00:00:00)\n"
     ]
    },
    {
     "name": "stdout",
     "output_type": "stream",
     "text": [
      "196\n"
     ]
    },
    {
     "name": "stderr",
     "output_type": "stream",
     "text": [
      "2020-04-30 14:43:26,796 - wflow_sbm.ini - wf_DynamicFramework - INFO - saving maps\n",
      "2020-04-30 14:43:26,805 - wflow_sbm.ini - wf_DynamicFramework - DEBUG - timestep: 197/364.0 (2010-07-17 00:00:00)\n"
     ]
    },
    {
     "name": "stdout",
     "output_type": "stream",
     "text": [
      "197\n"
     ]
    },
    {
     "name": "stderr",
     "output_type": "stream",
     "text": [
      "2020-04-30 14:43:27,456 - wflow_sbm.ini - wf_DynamicFramework - INFO - saving maps\n",
      "2020-04-30 14:43:27,463 - wflow_sbm.ini - wf_DynamicFramework - DEBUG - timestep: 198/364.0 (2010-07-18 00:00:00)\n"
     ]
    },
    {
     "name": "stdout",
     "output_type": "stream",
     "text": [
      "198\n"
     ]
    },
    {
     "name": "stderr",
     "output_type": "stream",
     "text": [
      "2020-04-30 14:43:28,143 - wflow_sbm.ini - wf_DynamicFramework - INFO - saving maps\n",
      "2020-04-30 14:43:28,150 - wflow_sbm.ini - wf_DynamicFramework - DEBUG - timestep: 199/364.0 (2010-07-19 00:00:00)\n"
     ]
    },
    {
     "name": "stdout",
     "output_type": "stream",
     "text": [
      "199\n"
     ]
    },
    {
     "name": "stderr",
     "output_type": "stream",
     "text": [
      "2020-04-30 14:43:28,738 - wflow_sbm.ini - wf_DynamicFramework - INFO - saving maps\n",
      "2020-04-30 14:43:28,739 - wflow_sbm.ini - wf_netcdfio - DEBUG - Writing buffer for AET to file at: 100 100 timesteps\n",
      "2020-04-30 14:43:28,779 - wflow_sbm.ini - wf_netcdfio - DEBUG - Writing buffer for run to file at: 100 100 timesteps\n",
      "2020-04-30 14:43:28,824 - wflow_sbm.ini - wf_netcdfio - DEBUG - Writing buffer for sno to file at: 100 100 timesteps\n",
      "2020-04-30 14:43:28,878 - wflow_sbm.ini - wf_DynamicFramework - DEBUG - timestep: 200/364.0 (2010-07-20 00:00:00)\n"
     ]
    },
    {
     "name": "stdout",
     "output_type": "stream",
     "text": [
      "200\n"
     ]
    },
    {
     "name": "stderr",
     "output_type": "stream",
     "text": [
      "2020-04-30 14:43:29,508 - wflow_sbm.ini - wf_DynamicFramework - INFO - saving maps\n",
      "2020-04-30 14:43:29,515 - wflow_sbm.ini - wf_DynamicFramework - DEBUG - timestep: 201/364.0 (2010-07-21 00:00:00)\n"
     ]
    },
    {
     "name": "stdout",
     "output_type": "stream",
     "text": [
      "201\n"
     ]
    },
    {
     "name": "stderr",
     "output_type": "stream",
     "text": [
      "2020-04-30 14:43:30,186 - wflow_sbm.ini - wf_DynamicFramework - INFO - saving maps\n",
      "2020-04-30 14:43:30,194 - wflow_sbm.ini - wf_DynamicFramework - DEBUG - timestep: 202/364.0 (2010-07-22 00:00:00)\n"
     ]
    },
    {
     "name": "stdout",
     "output_type": "stream",
     "text": [
      "202\n"
     ]
    },
    {
     "name": "stderr",
     "output_type": "stream",
     "text": [
      "2020-04-30 14:43:30,893 - wflow_sbm.ini - wf_DynamicFramework - INFO - saving maps\n",
      "2020-04-30 14:43:30,900 - wflow_sbm.ini - wf_DynamicFramework - DEBUG - timestep: 203/364.0 (2010-07-23 00:00:00)\n"
     ]
    },
    {
     "name": "stdout",
     "output_type": "stream",
     "text": [
      "203\n"
     ]
    },
    {
     "name": "stderr",
     "output_type": "stream",
     "text": [
      "2020-04-30 14:43:31,566 - wflow_sbm.ini - wf_DynamicFramework - INFO - saving maps\n",
      "2020-04-30 14:43:31,574 - wflow_sbm.ini - wf_DynamicFramework - DEBUG - timestep: 204/364.0 (2010-07-24 00:00:00)\n"
     ]
    },
    {
     "name": "stdout",
     "output_type": "stream",
     "text": [
      "204\n"
     ]
    },
    {
     "name": "stderr",
     "output_type": "stream",
     "text": [
      "2020-04-30 14:43:32,240 - wflow_sbm.ini - wf_DynamicFramework - INFO - saving maps\n",
      "2020-04-30 14:43:32,248 - wflow_sbm.ini - wf_DynamicFramework - DEBUG - timestep: 205/364.0 (2010-07-25 00:00:00)\n"
     ]
    },
    {
     "name": "stdout",
     "output_type": "stream",
     "text": [
      "205\n"
     ]
    },
    {
     "name": "stderr",
     "output_type": "stream",
     "text": [
      "2020-04-30 14:43:32,906 - wflow_sbm.ini - wf_DynamicFramework - INFO - saving maps\n",
      "2020-04-30 14:43:32,914 - wflow_sbm.ini - wf_DynamicFramework - DEBUG - timestep: 206/364.0 (2010-07-26 00:00:00)\n"
     ]
    },
    {
     "name": "stdout",
     "output_type": "stream",
     "text": [
      "206\n"
     ]
    },
    {
     "name": "stderr",
     "output_type": "stream",
     "text": [
      "2020-04-30 14:43:33,523 - wflow_sbm.ini - wf_DynamicFramework - INFO - saving maps\n",
      "2020-04-30 14:43:33,531 - wflow_sbm.ini - wf_DynamicFramework - DEBUG - timestep: 207/364.0 (2010-07-27 00:00:00)\n"
     ]
    },
    {
     "name": "stdout",
     "output_type": "stream",
     "text": [
      "207\n"
     ]
    },
    {
     "name": "stderr",
     "output_type": "stream",
     "text": [
      "2020-04-30 14:43:34,173 - wflow_sbm.ini - wf_DynamicFramework - INFO - saving maps\n",
      "2020-04-30 14:43:34,185 - wflow_sbm.ini - wf_DynamicFramework - DEBUG - timestep: 208/364.0 (2010-07-28 00:00:00)\n"
     ]
    },
    {
     "name": "stdout",
     "output_type": "stream",
     "text": [
      "208\n"
     ]
    },
    {
     "name": "stderr",
     "output_type": "stream",
     "text": [
      "2020-04-30 14:43:34,837 - wflow_sbm.ini - wf_DynamicFramework - INFO - saving maps\n",
      "2020-04-30 14:43:34,845 - wflow_sbm.ini - wf_DynamicFramework - DEBUG - timestep: 209/364.0 (2010-07-29 00:00:00)\n"
     ]
    },
    {
     "name": "stdout",
     "output_type": "stream",
     "text": [
      "209\n"
     ]
    },
    {
     "name": "stderr",
     "output_type": "stream",
     "text": [
      "2020-04-30 14:43:35,496 - wflow_sbm.ini - wf_DynamicFramework - INFO - saving maps\n",
      "2020-04-30 14:43:35,503 - wflow_sbm.ini - wf_DynamicFramework - DEBUG - timestep: 210/364.0 (2010-07-30 00:00:00)\n"
     ]
    },
    {
     "name": "stdout",
     "output_type": "stream",
     "text": [
      "210\n"
     ]
    },
    {
     "name": "stderr",
     "output_type": "stream",
     "text": [
      "2020-04-30 14:43:36,187 - wflow_sbm.ini - wf_DynamicFramework - INFO - saving maps\n",
      "2020-04-30 14:43:36,195 - wflow_sbm.ini - wf_DynamicFramework - DEBUG - timestep: 211/364.0 (2010-07-31 00:00:00)\n"
     ]
    },
    {
     "name": "stdout",
     "output_type": "stream",
     "text": [
      "211\n"
     ]
    },
    {
     "name": "stderr",
     "output_type": "stream",
     "text": [
      "2020-04-30 14:43:36,923 - wflow_sbm.ini - wf_DynamicFramework - INFO - saving maps\n",
      "2020-04-30 14:43:36,930 - wflow_sbm.ini - wf_DynamicFramework - DEBUG - timestep: 212/364.0 (2010-08-01 00:00:00)\n"
     ]
    },
    {
     "name": "stdout",
     "output_type": "stream",
     "text": [
      "212\n"
     ]
    },
    {
     "name": "stderr",
     "output_type": "stream",
     "text": [
      "2020-04-30 14:43:37,641 - wflow_sbm.ini - wf_DynamicFramework - INFO - saving maps\n",
      "2020-04-30 14:43:37,649 - wflow_sbm.ini - wf_DynamicFramework - DEBUG - timestep: 213/364.0 (2010-08-02 00:00:00)\n"
     ]
    },
    {
     "name": "stdout",
     "output_type": "stream",
     "text": [
      "213\n"
     ]
    },
    {
     "name": "stderr",
     "output_type": "stream",
     "text": [
      "2020-04-30 14:43:38,392 - wflow_sbm.ini - wf_DynamicFramework - INFO - saving maps\n",
      "2020-04-30 14:43:38,399 - wflow_sbm.ini - wf_DynamicFramework - DEBUG - timestep: 214/364.0 (2010-08-03 00:00:00)\n"
     ]
    },
    {
     "name": "stdout",
     "output_type": "stream",
     "text": [
      "214\n"
     ]
    },
    {
     "name": "stderr",
     "output_type": "stream",
     "text": [
      "2020-04-30 14:43:39,104 - wflow_sbm.ini - wf_DynamicFramework - INFO - saving maps\n",
      "2020-04-30 14:43:39,112 - wflow_sbm.ini - wf_DynamicFramework - DEBUG - timestep: 215/364.0 (2010-08-04 00:00:00)\n"
     ]
    },
    {
     "name": "stdout",
     "output_type": "stream",
     "text": [
      "215\n"
     ]
    },
    {
     "name": "stderr",
     "output_type": "stream",
     "text": [
      "2020-04-30 14:43:39,781 - wflow_sbm.ini - wf_DynamicFramework - INFO - saving maps\n",
      "2020-04-30 14:43:39,789 - wflow_sbm.ini - wf_DynamicFramework - DEBUG - timestep: 216/364.0 (2010-08-05 00:00:00)\n"
     ]
    },
    {
     "name": "stdout",
     "output_type": "stream",
     "text": [
      "216\n"
     ]
    },
    {
     "name": "stderr",
     "output_type": "stream",
     "text": [
      "2020-04-30 14:43:40,472 - wflow_sbm.ini - wf_DynamicFramework - INFO - saving maps\n",
      "2020-04-30 14:43:40,479 - wflow_sbm.ini - wf_DynamicFramework - DEBUG - timestep: 217/364.0 (2010-08-06 00:00:00)\n"
     ]
    },
    {
     "name": "stdout",
     "output_type": "stream",
     "text": [
      "217\n"
     ]
    },
    {
     "name": "stderr",
     "output_type": "stream",
     "text": [
      "2020-04-30 14:43:41,165 - wflow_sbm.ini - wf_DynamicFramework - INFO - saving maps\n",
      "2020-04-30 14:43:41,172 - wflow_sbm.ini - wf_DynamicFramework - DEBUG - timestep: 218/364.0 (2010-08-07 00:00:00)\n"
     ]
    },
    {
     "name": "stdout",
     "output_type": "stream",
     "text": [
      "218\n"
     ]
    },
    {
     "name": "stderr",
     "output_type": "stream",
     "text": [
      "2020-04-30 14:43:41,830 - wflow_sbm.ini - wf_DynamicFramework - INFO - saving maps\n",
      "2020-04-30 14:43:41,837 - wflow_sbm.ini - wf_DynamicFramework - DEBUG - timestep: 219/364.0 (2010-08-08 00:00:00)\n"
     ]
    },
    {
     "name": "stdout",
     "output_type": "stream",
     "text": [
      "219\n"
     ]
    },
    {
     "name": "stderr",
     "output_type": "stream",
     "text": [
      "2020-04-30 14:43:42,486 - wflow_sbm.ini - wf_DynamicFramework - INFO - saving maps\n",
      "2020-04-30 14:43:42,493 - wflow_sbm.ini - wf_DynamicFramework - DEBUG - timestep: 220/364.0 (2010-08-09 00:00:00)\n"
     ]
    },
    {
     "name": "stdout",
     "output_type": "stream",
     "text": [
      "220\n"
     ]
    },
    {
     "name": "stderr",
     "output_type": "stream",
     "text": [
      "2020-04-30 14:43:43,156 - wflow_sbm.ini - wf_DynamicFramework - INFO - saving maps\n",
      "2020-04-30 14:43:43,166 - wflow_sbm.ini - wf_DynamicFramework - DEBUG - timestep: 221/364.0 (2010-08-10 00:00:00)\n"
     ]
    },
    {
     "name": "stdout",
     "output_type": "stream",
     "text": [
      "221\n"
     ]
    },
    {
     "name": "stderr",
     "output_type": "stream",
     "text": [
      "2020-04-30 14:43:43,783 - wflow_sbm.ini - wf_DynamicFramework - INFO - saving maps\n",
      "2020-04-30 14:43:43,792 - wflow_sbm.ini - wf_DynamicFramework - DEBUG - timestep: 222/364.0 (2010-08-11 00:00:00)\n"
     ]
    },
    {
     "name": "stdout",
     "output_type": "stream",
     "text": [
      "222\n"
     ]
    },
    {
     "name": "stderr",
     "output_type": "stream",
     "text": [
      "2020-04-30 14:43:44,470 - wflow_sbm.ini - wf_DynamicFramework - INFO - saving maps\n",
      "2020-04-30 14:43:44,478 - wflow_sbm.ini - wf_DynamicFramework - DEBUG - timestep: 223/364.0 (2010-08-12 00:00:00)\n"
     ]
    },
    {
     "name": "stdout",
     "output_type": "stream",
     "text": [
      "223\n"
     ]
    },
    {
     "name": "stderr",
     "output_type": "stream",
     "text": [
      "2020-04-30 14:43:45,089 - wflow_sbm.ini - wf_DynamicFramework - INFO - saving maps\n",
      "2020-04-30 14:43:45,096 - wflow_sbm.ini - wf_DynamicFramework - DEBUG - timestep: 224/364.0 (2010-08-13 00:00:00)\n"
     ]
    },
    {
     "name": "stdout",
     "output_type": "stream",
     "text": [
      "224\n"
     ]
    },
    {
     "name": "stderr",
     "output_type": "stream",
     "text": [
      "2020-04-30 14:43:45,732 - wflow_sbm.ini - wf_DynamicFramework - INFO - saving maps\n",
      "2020-04-30 14:43:45,739 - wflow_sbm.ini - wf_DynamicFramework - DEBUG - timestep: 225/364.0 (2010-08-14 00:00:00)\n"
     ]
    },
    {
     "name": "stdout",
     "output_type": "stream",
     "text": [
      "225\n"
     ]
    },
    {
     "name": "stderr",
     "output_type": "stream",
     "text": [
      "2020-04-30 14:43:46,367 - wflow_sbm.ini - wf_DynamicFramework - INFO - saving maps\n",
      "2020-04-30 14:43:46,376 - wflow_sbm.ini - wf_DynamicFramework - DEBUG - timestep: 226/364.0 (2010-08-15 00:00:00)\n"
     ]
    },
    {
     "name": "stdout",
     "output_type": "stream",
     "text": [
      "226\n"
     ]
    },
    {
     "name": "stderr",
     "output_type": "stream",
     "text": [
      "2020-04-30 14:43:47,009 - wflow_sbm.ini - wf_DynamicFramework - INFO - saving maps\n",
      "2020-04-30 14:43:47,021 - wflow_sbm.ini - wf_DynamicFramework - DEBUG - timestep: 227/364.0 (2010-08-16 00:00:00)\n"
     ]
    },
    {
     "name": "stdout",
     "output_type": "stream",
     "text": [
      "227\n"
     ]
    },
    {
     "name": "stderr",
     "output_type": "stream",
     "text": [
      "2020-04-30 14:43:47,620 - wflow_sbm.ini - wf_DynamicFramework - INFO - saving maps\n",
      "2020-04-30 14:43:47,628 - wflow_sbm.ini - wf_DynamicFramework - DEBUG - timestep: 228/364.0 (2010-08-17 00:00:00)\n"
     ]
    },
    {
     "name": "stdout",
     "output_type": "stream",
     "text": [
      "228\n"
     ]
    },
    {
     "name": "stderr",
     "output_type": "stream",
     "text": [
      "2020-04-30 14:43:48,229 - wflow_sbm.ini - wf_DynamicFramework - INFO - saving maps\n",
      "2020-04-30 14:43:48,239 - wflow_sbm.ini - wf_DynamicFramework - DEBUG - timestep: 229/364.0 (2010-08-18 00:00:00)\n"
     ]
    },
    {
     "name": "stdout",
     "output_type": "stream",
     "text": [
      "229\n"
     ]
    },
    {
     "name": "stderr",
     "output_type": "stream",
     "text": [
      "2020-04-30 14:43:48,869 - wflow_sbm.ini - wf_DynamicFramework - INFO - saving maps\n",
      "2020-04-30 14:43:48,879 - wflow_sbm.ini - wf_DynamicFramework - DEBUG - timestep: 230/364.0 (2010-08-19 00:00:00)\n"
     ]
    },
    {
     "name": "stdout",
     "output_type": "stream",
     "text": [
      "230\n"
     ]
    },
    {
     "name": "stderr",
     "output_type": "stream",
     "text": [
      "2020-04-30 14:43:49,490 - wflow_sbm.ini - wf_DynamicFramework - INFO - saving maps\n",
      "2020-04-30 14:43:49,497 - wflow_sbm.ini - wf_DynamicFramework - DEBUG - timestep: 231/364.0 (2010-08-20 00:00:00)\n"
     ]
    },
    {
     "name": "stdout",
     "output_type": "stream",
     "text": [
      "231\n"
     ]
    },
    {
     "name": "stderr",
     "output_type": "stream",
     "text": [
      "2020-04-30 14:43:50,114 - wflow_sbm.ini - wf_DynamicFramework - INFO - saving maps\n",
      "2020-04-30 14:43:50,121 - wflow_sbm.ini - wf_DynamicFramework - DEBUG - timestep: 232/364.0 (2010-08-21 00:00:00)\n"
     ]
    },
    {
     "name": "stdout",
     "output_type": "stream",
     "text": [
      "232\n"
     ]
    },
    {
     "name": "stderr",
     "output_type": "stream",
     "text": [
      "2020-04-30 14:43:50,735 - wflow_sbm.ini - wf_DynamicFramework - INFO - saving maps\n",
      "2020-04-30 14:43:50,746 - wflow_sbm.ini - wf_DynamicFramework - DEBUG - timestep: 233/364.0 (2010-08-22 00:00:00)\n"
     ]
    },
    {
     "name": "stdout",
     "output_type": "stream",
     "text": [
      "233\n"
     ]
    },
    {
     "name": "stderr",
     "output_type": "stream",
     "text": [
      "2020-04-30 14:43:51,308 - wflow_sbm.ini - wf_DynamicFramework - INFO - saving maps\n",
      "2020-04-30 14:43:51,315 - wflow_sbm.ini - wf_DynamicFramework - DEBUG - timestep: 234/364.0 (2010-08-23 00:00:00)\n"
     ]
    },
    {
     "name": "stdout",
     "output_type": "stream",
     "text": [
      "234\n"
     ]
    },
    {
     "name": "stderr",
     "output_type": "stream",
     "text": [
      "2020-04-30 14:43:51,867 - wflow_sbm.ini - wf_DynamicFramework - INFO - saving maps\n",
      "2020-04-30 14:43:51,877 - wflow_sbm.ini - wf_DynamicFramework - DEBUG - timestep: 235/364.0 (2010-08-24 00:00:00)\n"
     ]
    },
    {
     "name": "stdout",
     "output_type": "stream",
     "text": [
      "235\n"
     ]
    },
    {
     "name": "stderr",
     "output_type": "stream",
     "text": [
      "2020-04-30 14:43:52,460 - wflow_sbm.ini - wf_DynamicFramework - INFO - saving maps\n",
      "2020-04-30 14:43:52,467 - wflow_sbm.ini - wf_DynamicFramework - DEBUG - timestep: 236/364.0 (2010-08-25 00:00:00)\n"
     ]
    },
    {
     "name": "stdout",
     "output_type": "stream",
     "text": [
      "236\n"
     ]
    },
    {
     "name": "stderr",
     "output_type": "stream",
     "text": [
      "2020-04-30 14:43:53,082 - wflow_sbm.ini - wf_DynamicFramework - INFO - saving maps\n",
      "2020-04-30 14:43:53,089 - wflow_sbm.ini - wf_DynamicFramework - DEBUG - timestep: 237/364.0 (2010-08-26 00:00:00)\n"
     ]
    },
    {
     "name": "stdout",
     "output_type": "stream",
     "text": [
      "237\n"
     ]
    },
    {
     "name": "stderr",
     "output_type": "stream",
     "text": [
      "2020-04-30 14:43:53,640 - wflow_sbm.ini - wf_DynamicFramework - INFO - saving maps\n",
      "2020-04-30 14:43:53,647 - wflow_sbm.ini - wf_DynamicFramework - DEBUG - timestep: 238/364.0 (2010-08-27 00:00:00)\n"
     ]
    },
    {
     "name": "stdout",
     "output_type": "stream",
     "text": [
      "238\n"
     ]
    },
    {
     "name": "stderr",
     "output_type": "stream",
     "text": [
      "2020-04-30 14:43:54,201 - wflow_sbm.ini - wf_DynamicFramework - INFO - saving maps\n",
      "2020-04-30 14:43:54,208 - wflow_sbm.ini - wf_DynamicFramework - DEBUG - timestep: 239/364.0 (2010-08-28 00:00:00)\n"
     ]
    },
    {
     "name": "stdout",
     "output_type": "stream",
     "text": [
      "239\n"
     ]
    },
    {
     "name": "stderr",
     "output_type": "stream",
     "text": [
      "2020-04-30 14:43:54,763 - wflow_sbm.ini - wf_DynamicFramework - INFO - saving maps\n",
      "2020-04-30 14:43:54,770 - wflow_sbm.ini - wf_DynamicFramework - DEBUG - timestep: 240/364.0 (2010-08-29 00:00:00)\n"
     ]
    },
    {
     "name": "stdout",
     "output_type": "stream",
     "text": [
      "240\n"
     ]
    },
    {
     "name": "stderr",
     "output_type": "stream",
     "text": [
      "2020-04-30 14:43:55,323 - wflow_sbm.ini - wf_DynamicFramework - INFO - saving maps\n",
      "2020-04-30 14:43:55,331 - wflow_sbm.ini - wf_DynamicFramework - DEBUG - timestep: 241/364.0 (2010-08-30 00:00:00)\n"
     ]
    },
    {
     "name": "stdout",
     "output_type": "stream",
     "text": [
      "241\n"
     ]
    },
    {
     "name": "stderr",
     "output_type": "stream",
     "text": [
      "2020-04-30 14:43:55,917 - wflow_sbm.ini - wf_DynamicFramework - INFO - saving maps\n",
      "2020-04-30 14:43:55,925 - wflow_sbm.ini - wf_DynamicFramework - DEBUG - timestep: 242/364.0 (2010-08-31 00:00:00)\n"
     ]
    },
    {
     "name": "stdout",
     "output_type": "stream",
     "text": [
      "242\n"
     ]
    },
    {
     "name": "stderr",
     "output_type": "stream",
     "text": [
      "2020-04-30 14:43:56,464 - wflow_sbm.ini - wf_DynamicFramework - INFO - saving maps\n",
      "2020-04-30 14:43:56,472 - wflow_sbm.ini - wf_DynamicFramework - DEBUG - timestep: 243/364.0 (2010-09-01 00:00:00)\n"
     ]
    },
    {
     "name": "stdout",
     "output_type": "stream",
     "text": [
      "243\n"
     ]
    },
    {
     "name": "stderr",
     "output_type": "stream",
     "text": [
      "2020-04-30 14:43:57,008 - wflow_sbm.ini - wf_DynamicFramework - INFO - saving maps\n",
      "2020-04-30 14:43:57,015 - wflow_sbm.ini - wf_DynamicFramework - DEBUG - timestep: 244/364.0 (2010-09-02 00:00:00)\n"
     ]
    },
    {
     "name": "stdout",
     "output_type": "stream",
     "text": [
      "244\n"
     ]
    },
    {
     "name": "stderr",
     "output_type": "stream",
     "text": [
      "2020-04-30 14:43:57,555 - wflow_sbm.ini - wf_DynamicFramework - INFO - saving maps\n",
      "2020-04-30 14:43:57,562 - wflow_sbm.ini - wf_DynamicFramework - DEBUG - timestep: 245/364.0 (2010-09-03 00:00:00)\n"
     ]
    },
    {
     "name": "stdout",
     "output_type": "stream",
     "text": [
      "245\n"
     ]
    },
    {
     "name": "stderr",
     "output_type": "stream",
     "text": [
      "2020-04-30 14:43:58,107 - wflow_sbm.ini - wf_DynamicFramework - INFO - saving maps\n",
      "2020-04-30 14:43:58,114 - wflow_sbm.ini - wf_DynamicFramework - DEBUG - timestep: 246/364.0 (2010-09-04 00:00:00)\n"
     ]
    },
    {
     "name": "stdout",
     "output_type": "stream",
     "text": [
      "246\n"
     ]
    },
    {
     "name": "stderr",
     "output_type": "stream",
     "text": [
      "2020-04-30 14:43:58,724 - wflow_sbm.ini - wf_DynamicFramework - INFO - saving maps\n",
      "2020-04-30 14:43:58,734 - wflow_sbm.ini - wf_DynamicFramework - DEBUG - timestep: 247/364.0 (2010-09-05 00:00:00)\n"
     ]
    },
    {
     "name": "stdout",
     "output_type": "stream",
     "text": [
      "247\n"
     ]
    },
    {
     "name": "stderr",
     "output_type": "stream",
     "text": [
      "2020-04-30 14:43:59,318 - wflow_sbm.ini - wf_DynamicFramework - INFO - saving maps\n",
      "2020-04-30 14:43:59,325 - wflow_sbm.ini - wf_DynamicFramework - DEBUG - timestep: 248/364.0 (2010-09-06 00:00:00)\n"
     ]
    },
    {
     "name": "stdout",
     "output_type": "stream",
     "text": [
      "248\n"
     ]
    },
    {
     "name": "stderr",
     "output_type": "stream",
     "text": [
      "2020-04-30 14:43:59,940 - wflow_sbm.ini - wf_DynamicFramework - INFO - saving maps\n",
      "2020-04-30 14:43:59,948 - wflow_sbm.ini - wf_DynamicFramework - DEBUG - timestep: 249/364.0 (2010-09-07 00:00:00)\n"
     ]
    },
    {
     "name": "stdout",
     "output_type": "stream",
     "text": [
      "249\n"
     ]
    },
    {
     "name": "stderr",
     "output_type": "stream",
     "text": [
      "2020-04-30 14:44:00,555 - wflow_sbm.ini - wf_DynamicFramework - INFO - saving maps\n",
      "2020-04-30 14:44:00,562 - wflow_sbm.ini - wf_DynamicFramework - DEBUG - timestep: 250/364.0 (2010-09-08 00:00:00)\n"
     ]
    },
    {
     "name": "stdout",
     "output_type": "stream",
     "text": [
      "250\n"
     ]
    },
    {
     "name": "stderr",
     "output_type": "stream",
     "text": [
      "2020-04-30 14:44:01,154 - wflow_sbm.ini - wf_DynamicFramework - INFO - saving maps\n",
      "2020-04-30 14:44:01,163 - wflow_sbm.ini - wf_DynamicFramework - DEBUG - timestep: 251/364.0 (2010-09-09 00:00:00)\n"
     ]
    },
    {
     "name": "stdout",
     "output_type": "stream",
     "text": [
      "251\n"
     ]
    },
    {
     "name": "stderr",
     "output_type": "stream",
     "text": [
      "2020-04-30 14:44:01,738 - wflow_sbm.ini - wf_DynamicFramework - INFO - saving maps\n",
      "2020-04-30 14:44:01,745 - wflow_sbm.ini - wf_DynamicFramework - DEBUG - timestep: 252/364.0 (2010-09-10 00:00:00)\n"
     ]
    },
    {
     "name": "stdout",
     "output_type": "stream",
     "text": [
      "252\n"
     ]
    },
    {
     "name": "stderr",
     "output_type": "stream",
     "text": [
      "2020-04-30 14:44:02,316 - wflow_sbm.ini - wf_DynamicFramework - INFO - saving maps\n",
      "2020-04-30 14:44:02,324 - wflow_sbm.ini - wf_DynamicFramework - DEBUG - timestep: 253/364.0 (2010-09-11 00:00:00)\n"
     ]
    },
    {
     "name": "stdout",
     "output_type": "stream",
     "text": [
      "253\n"
     ]
    },
    {
     "name": "stderr",
     "output_type": "stream",
     "text": [
      "2020-04-30 14:44:02,931 - wflow_sbm.ini - wf_DynamicFramework - INFO - saving maps\n",
      "2020-04-30 14:44:02,938 - wflow_sbm.ini - wf_DynamicFramework - DEBUG - timestep: 254/364.0 (2010-09-12 00:00:00)\n"
     ]
    },
    {
     "name": "stdout",
     "output_type": "stream",
     "text": [
      "254\n"
     ]
    },
    {
     "name": "stderr",
     "output_type": "stream",
     "text": [
      "2020-04-30 14:44:03,555 - wflow_sbm.ini - wf_DynamicFramework - INFO - saving maps\n",
      "2020-04-30 14:44:03,562 - wflow_sbm.ini - wf_DynamicFramework - DEBUG - timestep: 255/364.0 (2010-09-13 00:00:00)\n"
     ]
    },
    {
     "name": "stdout",
     "output_type": "stream",
     "text": [
      "255\n"
     ]
    },
    {
     "name": "stderr",
     "output_type": "stream",
     "text": [
      "2020-04-30 14:44:04,221 - wflow_sbm.ini - wf_DynamicFramework - INFO - saving maps\n",
      "2020-04-30 14:44:04,231 - wflow_sbm.ini - wf_DynamicFramework - DEBUG - timestep: 256/364.0 (2010-09-14 00:00:00)\n"
     ]
    },
    {
     "name": "stdout",
     "output_type": "stream",
     "text": [
      "256\n"
     ]
    },
    {
     "name": "stderr",
     "output_type": "stream",
     "text": [
      "2020-04-30 14:44:04,909 - wflow_sbm.ini - wf_DynamicFramework - INFO - saving maps\n",
      "2020-04-30 14:44:04,917 - wflow_sbm.ini - wf_DynamicFramework - DEBUG - timestep: 257/364.0 (2010-09-15 00:00:00)\n"
     ]
    },
    {
     "name": "stdout",
     "output_type": "stream",
     "text": [
      "257\n"
     ]
    },
    {
     "name": "stderr",
     "output_type": "stream",
     "text": [
      "2020-04-30 14:44:05,530 - wflow_sbm.ini - wf_DynamicFramework - INFO - saving maps\n",
      "2020-04-30 14:44:05,538 - wflow_sbm.ini - wf_DynamicFramework - DEBUG - timestep: 258/364.0 (2010-09-16 00:00:00)\n"
     ]
    },
    {
     "name": "stdout",
     "output_type": "stream",
     "text": [
      "258\n"
     ]
    },
    {
     "name": "stderr",
     "output_type": "stream",
     "text": [
      "2020-04-30 14:44:06,165 - wflow_sbm.ini - wf_DynamicFramework - INFO - saving maps\n",
      "2020-04-30 14:44:06,172 - wflow_sbm.ini - wf_DynamicFramework - DEBUG - timestep: 259/364.0 (2010-09-17 00:00:00)\n"
     ]
    },
    {
     "name": "stdout",
     "output_type": "stream",
     "text": [
      "259\n"
     ]
    },
    {
     "name": "stderr",
     "output_type": "stream",
     "text": [
      "2020-04-30 14:44:06,837 - wflow_sbm.ini - wf_DynamicFramework - INFO - saving maps\n",
      "2020-04-30 14:44:06,846 - wflow_sbm.ini - wf_DynamicFramework - DEBUG - timestep: 260/364.0 (2010-09-18 00:00:00)\n"
     ]
    },
    {
     "name": "stdout",
     "output_type": "stream",
     "text": [
      "260\n"
     ]
    },
    {
     "name": "stderr",
     "output_type": "stream",
     "text": [
      "2020-04-30 14:44:07,504 - wflow_sbm.ini - wf_DynamicFramework - INFO - saving maps\n",
      "2020-04-30 14:44:07,511 - wflow_sbm.ini - wf_DynamicFramework - DEBUG - timestep: 261/364.0 (2010-09-19 00:00:00)\n"
     ]
    },
    {
     "name": "stdout",
     "output_type": "stream",
     "text": [
      "261\n"
     ]
    },
    {
     "name": "stderr",
     "output_type": "stream",
     "text": [
      "2020-04-30 14:44:08,160 - wflow_sbm.ini - wf_DynamicFramework - INFO - saving maps\n",
      "2020-04-30 14:44:08,167 - wflow_sbm.ini - wf_DynamicFramework - DEBUG - timestep: 262/364.0 (2010-09-20 00:00:00)\n"
     ]
    },
    {
     "name": "stdout",
     "output_type": "stream",
     "text": [
      "262\n"
     ]
    },
    {
     "name": "stderr",
     "output_type": "stream",
     "text": [
      "2020-04-30 14:44:08,779 - wflow_sbm.ini - wf_DynamicFramework - INFO - saving maps\n",
      "2020-04-30 14:44:08,786 - wflow_sbm.ini - wf_DynamicFramework - DEBUG - timestep: 263/364.0 (2010-09-21 00:00:00)\n"
     ]
    },
    {
     "name": "stdout",
     "output_type": "stream",
     "text": [
      "263\n"
     ]
    },
    {
     "name": "stderr",
     "output_type": "stream",
     "text": [
      "2020-04-30 14:44:09,360 - wflow_sbm.ini - wf_DynamicFramework - INFO - saving maps\n",
      "2020-04-30 14:44:09,368 - wflow_sbm.ini - wf_DynamicFramework - DEBUG - timestep: 264/364.0 (2010-09-22 00:00:00)\n"
     ]
    },
    {
     "name": "stdout",
     "output_type": "stream",
     "text": [
      "264\n"
     ]
    },
    {
     "name": "stderr",
     "output_type": "stream",
     "text": [
      "2020-04-30 14:44:09,998 - wflow_sbm.ini - wf_DynamicFramework - INFO - saving maps\n",
      "2020-04-30 14:44:10,008 - wflow_sbm.ini - wf_DynamicFramework - DEBUG - timestep: 265/364.0 (2010-09-23 00:00:00)\n"
     ]
    },
    {
     "name": "stdout",
     "output_type": "stream",
     "text": [
      "265\n"
     ]
    },
    {
     "name": "stderr",
     "output_type": "stream",
     "text": [
      "2020-04-30 14:44:10,703 - wflow_sbm.ini - wf_DynamicFramework - INFO - saving maps\n",
      "2020-04-30 14:44:10,710 - wflow_sbm.ini - wf_DynamicFramework - DEBUG - timestep: 266/364.0 (2010-09-24 00:00:00)\n"
     ]
    },
    {
     "name": "stdout",
     "output_type": "stream",
     "text": [
      "266\n"
     ]
    },
    {
     "name": "stderr",
     "output_type": "stream",
     "text": [
      "2020-04-30 14:44:11,329 - wflow_sbm.ini - wf_DynamicFramework - INFO - saving maps\n",
      "2020-04-30 14:44:11,336 - wflow_sbm.ini - wf_DynamicFramework - DEBUG - timestep: 267/364.0 (2010-09-25 00:00:00)\n"
     ]
    },
    {
     "name": "stdout",
     "output_type": "stream",
     "text": [
      "267\n"
     ]
    },
    {
     "name": "stderr",
     "output_type": "stream",
     "text": [
      "2020-04-30 14:44:11,966 - wflow_sbm.ini - wf_DynamicFramework - INFO - saving maps\n",
      "2020-04-30 14:44:11,973 - wflow_sbm.ini - wf_DynamicFramework - DEBUG - timestep: 268/364.0 (2010-09-26 00:00:00)\n"
     ]
    },
    {
     "name": "stdout",
     "output_type": "stream",
     "text": [
      "268\n"
     ]
    },
    {
     "name": "stderr",
     "output_type": "stream",
     "text": [
      "2020-04-30 14:44:12,589 - wflow_sbm.ini - wf_DynamicFramework - INFO - saving maps\n",
      "2020-04-30 14:44:12,601 - wflow_sbm.ini - wf_DynamicFramework - DEBUG - timestep: 269/364.0 (2010-09-27 00:00:00)\n"
     ]
    },
    {
     "name": "stdout",
     "output_type": "stream",
     "text": [
      "269\n"
     ]
    },
    {
     "name": "stderr",
     "output_type": "stream",
     "text": [
      "2020-04-30 14:44:13,259 - wflow_sbm.ini - wf_DynamicFramework - INFO - saving maps\n",
      "2020-04-30 14:44:13,267 - wflow_sbm.ini - wf_DynamicFramework - DEBUG - timestep: 270/364.0 (2010-09-28 00:00:00)\n"
     ]
    },
    {
     "name": "stdout",
     "output_type": "stream",
     "text": [
      "270\n"
     ]
    },
    {
     "name": "stderr",
     "output_type": "stream",
     "text": [
      "2020-04-30 14:44:13,880 - wflow_sbm.ini - wf_DynamicFramework - INFO - saving maps\n",
      "2020-04-30 14:44:13,887 - wflow_sbm.ini - wf_DynamicFramework - DEBUG - timestep: 271/364.0 (2010-09-29 00:00:00)\n"
     ]
    },
    {
     "name": "stdout",
     "output_type": "stream",
     "text": [
      "271\n"
     ]
    },
    {
     "name": "stderr",
     "output_type": "stream",
     "text": [
      "2020-04-30 14:44:14,514 - wflow_sbm.ini - wf_DynamicFramework - INFO - saving maps\n",
      "2020-04-30 14:44:14,523 - wflow_sbm.ini - wf_DynamicFramework - DEBUG - timestep: 272/364.0 (2010-09-30 00:00:00)\n"
     ]
    },
    {
     "name": "stdout",
     "output_type": "stream",
     "text": [
      "272\n"
     ]
    },
    {
     "name": "stderr",
     "output_type": "stream",
     "text": [
      "2020-04-30 14:44:15,161 - wflow_sbm.ini - wf_DynamicFramework - INFO - saving maps\n",
      "2020-04-30 14:44:15,168 - wflow_sbm.ini - wf_DynamicFramework - DEBUG - timestep: 273/364.0 (2010-10-01 00:00:00)\n"
     ]
    },
    {
     "name": "stdout",
     "output_type": "stream",
     "text": [
      "273\n"
     ]
    },
    {
     "name": "stderr",
     "output_type": "stream",
     "text": [
      "2020-04-30 14:44:15,788 - wflow_sbm.ini - wf_DynamicFramework - INFO - saving maps\n",
      "2020-04-30 14:44:15,797 - wflow_sbm.ini - wf_DynamicFramework - DEBUG - timestep: 274/364.0 (2010-10-02 00:00:00)\n"
     ]
    },
    {
     "name": "stdout",
     "output_type": "stream",
     "text": [
      "274\n"
     ]
    },
    {
     "name": "stderr",
     "output_type": "stream",
     "text": [
      "2020-04-30 14:44:16,397 - wflow_sbm.ini - wf_DynamicFramework - INFO - saving maps\n",
      "2020-04-30 14:44:16,405 - wflow_sbm.ini - wf_DynamicFramework - DEBUG - timestep: 275/364.0 (2010-10-03 00:00:00)\n"
     ]
    },
    {
     "name": "stdout",
     "output_type": "stream",
     "text": [
      "275\n"
     ]
    },
    {
     "name": "stderr",
     "output_type": "stream",
     "text": [
      "2020-04-30 14:44:17,046 - wflow_sbm.ini - wf_DynamicFramework - INFO - saving maps\n",
      "2020-04-30 14:44:17,054 - wflow_sbm.ini - wf_DynamicFramework - DEBUG - timestep: 276/364.0 (2010-10-04 00:00:00)\n"
     ]
    },
    {
     "name": "stdout",
     "output_type": "stream",
     "text": [
      "276\n"
     ]
    },
    {
     "name": "stderr",
     "output_type": "stream",
     "text": [
      "2020-04-30 14:44:17,690 - wflow_sbm.ini - wf_DynamicFramework - INFO - saving maps\n",
      "2020-04-30 14:44:17,697 - wflow_sbm.ini - wf_DynamicFramework - DEBUG - timestep: 277/364.0 (2010-10-05 00:00:00)\n"
     ]
    },
    {
     "name": "stdout",
     "output_type": "stream",
     "text": [
      "277\n"
     ]
    },
    {
     "name": "stderr",
     "output_type": "stream",
     "text": [
      "2020-04-30 14:44:18,302 - wflow_sbm.ini - wf_DynamicFramework - INFO - saving maps\n",
      "2020-04-30 14:44:18,310 - wflow_sbm.ini - wf_DynamicFramework - DEBUG - timestep: 278/364.0 (2010-10-06 00:00:00)\n"
     ]
    },
    {
     "name": "stdout",
     "output_type": "stream",
     "text": [
      "278\n"
     ]
    },
    {
     "name": "stderr",
     "output_type": "stream",
     "text": [
      "2020-04-30 14:44:18,911 - wflow_sbm.ini - wf_DynamicFramework - INFO - saving maps\n",
      "2020-04-30 14:44:18,922 - wflow_sbm.ini - wf_DynamicFramework - DEBUG - timestep: 279/364.0 (2010-10-07 00:00:00)\n"
     ]
    },
    {
     "name": "stdout",
     "output_type": "stream",
     "text": [
      "279\n"
     ]
    },
    {
     "name": "stderr",
     "output_type": "stream",
     "text": [
      "2020-04-30 14:44:19,586 - wflow_sbm.ini - wf_DynamicFramework - INFO - saving maps\n",
      "2020-04-30 14:44:19,594 - wflow_sbm.ini - wf_DynamicFramework - DEBUG - timestep: 280/364.0 (2010-10-08 00:00:00)\n"
     ]
    },
    {
     "name": "stdout",
     "output_type": "stream",
     "text": [
      "280\n"
     ]
    },
    {
     "name": "stderr",
     "output_type": "stream",
     "text": [
      "2020-04-30 14:44:20,190 - wflow_sbm.ini - wf_DynamicFramework - INFO - saving maps\n",
      "2020-04-30 14:44:20,198 - wflow_sbm.ini - wf_DynamicFramework - DEBUG - timestep: 281/364.0 (2010-10-09 00:00:00)\n"
     ]
    },
    {
     "name": "stdout",
     "output_type": "stream",
     "text": [
      "281\n"
     ]
    },
    {
     "name": "stderr",
     "output_type": "stream",
     "text": [
      "2020-04-30 14:44:20,807 - wflow_sbm.ini - wf_DynamicFramework - INFO - saving maps\n",
      "2020-04-30 14:44:20,819 - wflow_sbm.ini - wf_DynamicFramework - DEBUG - timestep: 282/364.0 (2010-10-10 00:00:00)\n"
     ]
    },
    {
     "name": "stdout",
     "output_type": "stream",
     "text": [
      "282\n"
     ]
    },
    {
     "name": "stderr",
     "output_type": "stream",
     "text": [
      "2020-04-30 14:44:21,415 - wflow_sbm.ini - wf_DynamicFramework - INFO - saving maps\n",
      "2020-04-30 14:44:21,426 - wflow_sbm.ini - wf_DynamicFramework - DEBUG - timestep: 283/364.0 (2010-10-11 00:00:00)\n"
     ]
    },
    {
     "name": "stdout",
     "output_type": "stream",
     "text": [
      "283\n"
     ]
    },
    {
     "name": "stderr",
     "output_type": "stream",
     "text": [
      "2020-04-30 14:44:21,996 - wflow_sbm.ini - wf_DynamicFramework - INFO - saving maps\n",
      "2020-04-30 14:44:22,003 - wflow_sbm.ini - wf_DynamicFramework - DEBUG - timestep: 284/364.0 (2010-10-12 00:00:00)\n"
     ]
    },
    {
     "name": "stdout",
     "output_type": "stream",
     "text": [
      "284\n"
     ]
    },
    {
     "name": "stderr",
     "output_type": "stream",
     "text": [
      "2020-04-30 14:44:22,598 - wflow_sbm.ini - wf_DynamicFramework - INFO - saving maps\n",
      "2020-04-30 14:44:22,606 - wflow_sbm.ini - wf_DynamicFramework - DEBUG - timestep: 285/364.0 (2010-10-13 00:00:00)\n"
     ]
    },
    {
     "name": "stdout",
     "output_type": "stream",
     "text": [
      "285\n"
     ]
    },
    {
     "name": "stderr",
     "output_type": "stream",
     "text": [
      "2020-04-30 14:44:23,232 - wflow_sbm.ini - wf_DynamicFramework - INFO - saving maps\n",
      "2020-04-30 14:44:23,243 - wflow_sbm.ini - wf_DynamicFramework - DEBUG - timestep: 286/364.0 (2010-10-14 00:00:00)\n"
     ]
    },
    {
     "name": "stdout",
     "output_type": "stream",
     "text": [
      "286\n"
     ]
    },
    {
     "name": "stderr",
     "output_type": "stream",
     "text": [
      "2020-04-30 14:44:23,899 - wflow_sbm.ini - wf_DynamicFramework - INFO - saving maps\n",
      "2020-04-30 14:44:23,907 - wflow_sbm.ini - wf_DynamicFramework - DEBUG - timestep: 287/364.0 (2010-10-15 00:00:00)\n"
     ]
    },
    {
     "name": "stdout",
     "output_type": "stream",
     "text": [
      "287\n"
     ]
    },
    {
     "name": "stderr",
     "output_type": "stream",
     "text": [
      "2020-04-30 14:44:24,567 - wflow_sbm.ini - wf_DynamicFramework - INFO - saving maps\n",
      "2020-04-30 14:44:24,574 - wflow_sbm.ini - wf_DynamicFramework - DEBUG - timestep: 288/364.0 (2010-10-16 00:00:00)\n"
     ]
    },
    {
     "name": "stdout",
     "output_type": "stream",
     "text": [
      "288\n"
     ]
    },
    {
     "name": "stderr",
     "output_type": "stream",
     "text": [
      "2020-04-30 14:44:25,212 - wflow_sbm.ini - wf_DynamicFramework - INFO - saving maps\n",
      "2020-04-30 14:44:25,220 - wflow_sbm.ini - wf_DynamicFramework - DEBUG - timestep: 289/364.0 (2010-10-17 00:00:00)\n"
     ]
    },
    {
     "name": "stdout",
     "output_type": "stream",
     "text": [
      "289\n"
     ]
    },
    {
     "name": "stderr",
     "output_type": "stream",
     "text": [
      "2020-04-30 14:44:25,849 - wflow_sbm.ini - wf_DynamicFramework - INFO - saving maps\n",
      "2020-04-30 14:44:25,857 - wflow_sbm.ini - wf_DynamicFramework - DEBUG - timestep: 290/364.0 (2010-10-18 00:00:00)\n"
     ]
    },
    {
     "name": "stdout",
     "output_type": "stream",
     "text": [
      "290\n"
     ]
    },
    {
     "name": "stderr",
     "output_type": "stream",
     "text": [
      "2020-04-30 14:44:26,515 - wflow_sbm.ini - wf_DynamicFramework - INFO - saving maps\n",
      "2020-04-30 14:44:26,522 - wflow_sbm.ini - wf_DynamicFramework - DEBUG - timestep: 291/364.0 (2010-10-19 00:00:00)\n"
     ]
    },
    {
     "name": "stdout",
     "output_type": "stream",
     "text": [
      "291\n"
     ]
    },
    {
     "name": "stderr",
     "output_type": "stream",
     "text": [
      "2020-04-30 14:44:27,133 - wflow_sbm.ini - wf_DynamicFramework - INFO - saving maps\n",
      "2020-04-30 14:44:27,140 - wflow_sbm.ini - wf_DynamicFramework - DEBUG - timestep: 292/364.0 (2010-10-20 00:00:00)\n"
     ]
    },
    {
     "name": "stdout",
     "output_type": "stream",
     "text": [
      "292\n"
     ]
    },
    {
     "name": "stderr",
     "output_type": "stream",
     "text": [
      "2020-04-30 14:44:27,777 - wflow_sbm.ini - wf_DynamicFramework - INFO - saving maps\n",
      "2020-04-30 14:44:27,784 - wflow_sbm.ini - wf_DynamicFramework - DEBUG - timestep: 293/364.0 (2010-10-21 00:00:00)\n"
     ]
    },
    {
     "name": "stdout",
     "output_type": "stream",
     "text": [
      "293\n"
     ]
    },
    {
     "name": "stderr",
     "output_type": "stream",
     "text": [
      "2020-04-30 14:44:28,354 - wflow_sbm.ini - wf_DynamicFramework - INFO - saving maps\n",
      "2020-04-30 14:44:28,361 - wflow_sbm.ini - wf_DynamicFramework - DEBUG - timestep: 294/364.0 (2010-10-22 00:00:00)\n"
     ]
    },
    {
     "name": "stdout",
     "output_type": "stream",
     "text": [
      "294\n"
     ]
    },
    {
     "name": "stderr",
     "output_type": "stream",
     "text": [
      "2020-04-30 14:44:28,945 - wflow_sbm.ini - wf_DynamicFramework - INFO - saving maps\n",
      "2020-04-30 14:44:28,953 - wflow_sbm.ini - wf_DynamicFramework - DEBUG - timestep: 295/364.0 (2010-10-23 00:00:00)\n"
     ]
    },
    {
     "name": "stdout",
     "output_type": "stream",
     "text": [
      "295\n"
     ]
    },
    {
     "name": "stderr",
     "output_type": "stream",
     "text": [
      "2020-04-30 14:44:29,505 - wflow_sbm.ini - wf_DynamicFramework - INFO - saving maps\n",
      "2020-04-30 14:44:29,512 - wflow_sbm.ini - wf_DynamicFramework - DEBUG - timestep: 296/364.0 (2010-10-24 00:00:00)\n"
     ]
    },
    {
     "name": "stdout",
     "output_type": "stream",
     "text": [
      "296\n"
     ]
    },
    {
     "name": "stderr",
     "output_type": "stream",
     "text": [
      "2020-04-30 14:44:30,079 - wflow_sbm.ini - wf_DynamicFramework - INFO - saving maps\n",
      "2020-04-30 14:44:30,087 - wflow_sbm.ini - wf_DynamicFramework - DEBUG - timestep: 297/364.0 (2010-10-25 00:00:00)\n"
     ]
    },
    {
     "name": "stdout",
     "output_type": "stream",
     "text": [
      "297\n"
     ]
    },
    {
     "name": "stderr",
     "output_type": "stream",
     "text": [
      "2020-04-30 14:44:30,633 - wflow_sbm.ini - wf_DynamicFramework - INFO - saving maps\n",
      "2020-04-30 14:44:30,640 - wflow_sbm.ini - wf_DynamicFramework - DEBUG - timestep: 298/364.0 (2010-10-26 00:00:00)\n"
     ]
    },
    {
     "name": "stdout",
     "output_type": "stream",
     "text": [
      "298\n"
     ]
    },
    {
     "name": "stderr",
     "output_type": "stream",
     "text": [
      "2020-04-30 14:44:31,249 - wflow_sbm.ini - wf_DynamicFramework - INFO - saving maps\n",
      "2020-04-30 14:44:31,256 - wflow_sbm.ini - wf_DynamicFramework - DEBUG - timestep: 299/364.0 (2010-10-27 00:00:00)\n"
     ]
    },
    {
     "name": "stdout",
     "output_type": "stream",
     "text": [
      "299\n"
     ]
    },
    {
     "name": "stderr",
     "output_type": "stream",
     "text": [
      "2020-04-30 14:44:31,868 - wflow_sbm.ini - wf_DynamicFramework - INFO - saving maps\n",
      "2020-04-30 14:44:31,869 - wflow_sbm.ini - wf_netcdfio - DEBUG - Writing buffer for AET to file at: 200 100 timesteps\n",
      "2020-04-30 14:44:31,909 - wflow_sbm.ini - wf_netcdfio - DEBUG - Writing buffer for run to file at: 200 100 timesteps\n",
      "2020-04-30 14:44:31,944 - wflow_sbm.ini - wf_netcdfio - DEBUG - Writing buffer for sno to file at: 200 100 timesteps\n",
      "2020-04-30 14:44:31,984 - wflow_sbm.ini - wf_DynamicFramework - DEBUG - timestep: 300/364.0 (2010-10-28 00:00:00)\n"
     ]
    },
    {
     "name": "stdout",
     "output_type": "stream",
     "text": [
      "300\n"
     ]
    },
    {
     "name": "stderr",
     "output_type": "stream",
     "text": [
      "2020-04-30 14:44:32,587 - wflow_sbm.ini - wf_DynamicFramework - INFO - saving maps\n",
      "2020-04-30 14:44:32,597 - wflow_sbm.ini - wf_DynamicFramework - DEBUG - timestep: 301/364.0 (2010-10-29 00:00:00)\n"
     ]
    },
    {
     "name": "stdout",
     "output_type": "stream",
     "text": [
      "301\n"
     ]
    },
    {
     "name": "stderr",
     "output_type": "stream",
     "text": [
      "2020-04-30 14:44:33,207 - wflow_sbm.ini - wf_DynamicFramework - INFO - saving maps\n",
      "2020-04-30 14:44:33,214 - wflow_sbm.ini - wf_DynamicFramework - DEBUG - timestep: 302/364.0 (2010-10-30 00:00:00)\n"
     ]
    },
    {
     "name": "stdout",
     "output_type": "stream",
     "text": [
      "302\n"
     ]
    },
    {
     "name": "stderr",
     "output_type": "stream",
     "text": [
      "2020-04-30 14:44:33,832 - wflow_sbm.ini - wf_DynamicFramework - INFO - saving maps\n",
      "2020-04-30 14:44:33,839 - wflow_sbm.ini - wf_DynamicFramework - DEBUG - timestep: 303/364.0 (2010-10-31 00:00:00)\n"
     ]
    },
    {
     "name": "stdout",
     "output_type": "stream",
     "text": [
      "303\n"
     ]
    },
    {
     "name": "stderr",
     "output_type": "stream",
     "text": [
      "2020-04-30 14:44:34,438 - wflow_sbm.ini - wf_DynamicFramework - INFO - saving maps\n",
      "2020-04-30 14:44:34,446 - wflow_sbm.ini - wf_DynamicFramework - DEBUG - timestep: 304/364.0 (2010-11-01 00:00:00)\n"
     ]
    },
    {
     "name": "stdout",
     "output_type": "stream",
     "text": [
      "304\n"
     ]
    },
    {
     "name": "stderr",
     "output_type": "stream",
     "text": [
      "2020-04-30 14:44:35,005 - wflow_sbm.ini - wf_DynamicFramework - INFO - saving maps\n",
      "2020-04-30 14:44:35,012 - wflow_sbm.ini - wf_DynamicFramework - DEBUG - timestep: 305/364.0 (2010-11-02 00:00:00)\n"
     ]
    },
    {
     "name": "stdout",
     "output_type": "stream",
     "text": [
      "305\n"
     ]
    },
    {
     "name": "stderr",
     "output_type": "stream",
     "text": [
      "2020-04-30 14:44:35,593 - wflow_sbm.ini - wf_DynamicFramework - INFO - saving maps\n",
      "2020-04-30 14:44:35,600 - wflow_sbm.ini - wf_DynamicFramework - DEBUG - timestep: 306/364.0 (2010-11-03 00:00:00)\n"
     ]
    },
    {
     "name": "stdout",
     "output_type": "stream",
     "text": [
      "306\n"
     ]
    },
    {
     "name": "stderr",
     "output_type": "stream",
     "text": [
      "2020-04-30 14:44:36,314 - wflow_sbm.ini - wf_DynamicFramework - INFO - saving maps\n",
      "2020-04-30 14:44:36,321 - wflow_sbm.ini - wf_DynamicFramework - DEBUG - timestep: 307/364.0 (2010-11-04 00:00:00)\n"
     ]
    },
    {
     "name": "stdout",
     "output_type": "stream",
     "text": [
      "307\n"
     ]
    },
    {
     "name": "stderr",
     "output_type": "stream",
     "text": [
      "2020-04-30 14:44:36,927 - wflow_sbm.ini - wf_DynamicFramework - INFO - saving maps\n",
      "2020-04-30 14:44:36,934 - wflow_sbm.ini - wf_DynamicFramework - DEBUG - timestep: 308/364.0 (2010-11-05 00:00:00)\n"
     ]
    },
    {
     "name": "stdout",
     "output_type": "stream",
     "text": [
      "308\n"
     ]
    },
    {
     "name": "stderr",
     "output_type": "stream",
     "text": [
      "2020-04-30 14:44:37,550 - wflow_sbm.ini - wf_DynamicFramework - INFO - saving maps\n",
      "2020-04-30 14:44:37,557 - wflow_sbm.ini - wf_DynamicFramework - DEBUG - timestep: 309/364.0 (2010-11-06 00:00:00)\n"
     ]
    },
    {
     "name": "stdout",
     "output_type": "stream",
     "text": [
      "309\n"
     ]
    },
    {
     "name": "stderr",
     "output_type": "stream",
     "text": [
      "2020-04-30 14:44:38,132 - wflow_sbm.ini - wf_DynamicFramework - INFO - saving maps\n",
      "2020-04-30 14:44:38,139 - wflow_sbm.ini - wf_DynamicFramework - DEBUG - timestep: 310/364.0 (2010-11-07 00:00:00)\n"
     ]
    },
    {
     "name": "stdout",
     "output_type": "stream",
     "text": [
      "310\n"
     ]
    },
    {
     "name": "stderr",
     "output_type": "stream",
     "text": [
      "2020-04-30 14:44:38,712 - wflow_sbm.ini - wf_DynamicFramework - INFO - saving maps\n",
      "2020-04-30 14:44:38,719 - wflow_sbm.ini - wf_DynamicFramework - DEBUG - timestep: 311/364.0 (2010-11-08 00:00:00)\n"
     ]
    },
    {
     "name": "stdout",
     "output_type": "stream",
     "text": [
      "311\n"
     ]
    },
    {
     "name": "stderr",
     "output_type": "stream",
     "text": [
      "2020-04-30 14:44:39,374 - wflow_sbm.ini - wf_DynamicFramework - INFO - saving maps\n",
      "2020-04-30 14:44:39,382 - wflow_sbm.ini - wf_DynamicFramework - DEBUG - timestep: 312/364.0 (2010-11-09 00:00:00)\n"
     ]
    },
    {
     "name": "stdout",
     "output_type": "stream",
     "text": [
      "312\n"
     ]
    },
    {
     "name": "stderr",
     "output_type": "stream",
     "text": [
      "2020-04-30 14:44:39,977 - wflow_sbm.ini - wf_DynamicFramework - INFO - saving maps\n",
      "2020-04-30 14:44:39,984 - wflow_sbm.ini - wf_DynamicFramework - DEBUG - timestep: 313/364.0 (2010-11-10 00:00:00)\n"
     ]
    },
    {
     "name": "stdout",
     "output_type": "stream",
     "text": [
      "313\n"
     ]
    },
    {
     "name": "stderr",
     "output_type": "stream",
     "text": [
      "2020-04-30 14:44:40,542 - wflow_sbm.ini - wf_DynamicFramework - INFO - saving maps\n",
      "2020-04-30 14:44:40,550 - wflow_sbm.ini - wf_DynamicFramework - DEBUG - timestep: 314/364.0 (2010-11-11 00:00:00)\n"
     ]
    },
    {
     "name": "stdout",
     "output_type": "stream",
     "text": [
      "314\n"
     ]
    },
    {
     "name": "stderr",
     "output_type": "stream",
     "text": [
      "2020-04-30 14:44:41,131 - wflow_sbm.ini - wf_DynamicFramework - INFO - saving maps\n",
      "2020-04-30 14:44:41,142 - wflow_sbm.ini - wf_DynamicFramework - DEBUG - timestep: 315/364.0 (2010-11-12 00:00:00)\n"
     ]
    },
    {
     "name": "stdout",
     "output_type": "stream",
     "text": [
      "315\n"
     ]
    },
    {
     "name": "stderr",
     "output_type": "stream",
     "text": [
      "2020-04-30 14:44:41,758 - wflow_sbm.ini - wf_DynamicFramework - INFO - saving maps\n",
      "2020-04-30 14:44:41,766 - wflow_sbm.ini - wf_DynamicFramework - DEBUG - timestep: 316/364.0 (2010-11-13 00:00:00)\n"
     ]
    },
    {
     "name": "stdout",
     "output_type": "stream",
     "text": [
      "316\n"
     ]
    },
    {
     "name": "stderr",
     "output_type": "stream",
     "text": [
      "2020-04-30 14:44:42,379 - wflow_sbm.ini - wf_DynamicFramework - INFO - saving maps\n",
      "2020-04-30 14:44:42,386 - wflow_sbm.ini - wf_DynamicFramework - DEBUG - timestep: 317/364.0 (2010-11-14 00:00:00)\n"
     ]
    },
    {
     "name": "stdout",
     "output_type": "stream",
     "text": [
      "317\n"
     ]
    },
    {
     "name": "stderr",
     "output_type": "stream",
     "text": [
      "2020-04-30 14:44:43,000 - wflow_sbm.ini - wf_DynamicFramework - INFO - saving maps\n",
      "2020-04-30 14:44:43,008 - wflow_sbm.ini - wf_DynamicFramework - DEBUG - timestep: 318/364.0 (2010-11-15 00:00:00)\n"
     ]
    },
    {
     "name": "stdout",
     "output_type": "stream",
     "text": [
      "318\n"
     ]
    },
    {
     "name": "stderr",
     "output_type": "stream",
     "text": [
      "2020-04-30 14:44:43,717 - wflow_sbm.ini - wf_DynamicFramework - INFO - saving maps\n",
      "2020-04-30 14:44:43,725 - wflow_sbm.ini - wf_DynamicFramework - DEBUG - timestep: 319/364.0 (2010-11-16 00:00:00)\n"
     ]
    },
    {
     "name": "stdout",
     "output_type": "stream",
     "text": [
      "319\n"
     ]
    },
    {
     "name": "stderr",
     "output_type": "stream",
     "text": [
      "2020-04-30 14:44:44,438 - wflow_sbm.ini - wf_DynamicFramework - INFO - saving maps\n",
      "2020-04-30 14:44:44,446 - wflow_sbm.ini - wf_DynamicFramework - DEBUG - timestep: 320/364.0 (2010-11-17 00:00:00)\n"
     ]
    },
    {
     "name": "stdout",
     "output_type": "stream",
     "text": [
      "320\n"
     ]
    },
    {
     "name": "stderr",
     "output_type": "stream",
     "text": [
      "2020-04-30 14:44:45,031 - wflow_sbm.ini - wf_DynamicFramework - INFO - saving maps\n",
      "2020-04-30 14:44:45,039 - wflow_sbm.ini - wf_DynamicFramework - DEBUG - timestep: 321/364.0 (2010-11-18 00:00:00)\n"
     ]
    },
    {
     "name": "stdout",
     "output_type": "stream",
     "text": [
      "321\n"
     ]
    },
    {
     "name": "stderr",
     "output_type": "stream",
     "text": [
      "2020-04-30 14:44:45,606 - wflow_sbm.ini - wf_DynamicFramework - INFO - saving maps\n",
      "2020-04-30 14:44:45,615 - wflow_sbm.ini - wf_DynamicFramework - DEBUG - timestep: 322/364.0 (2010-11-19 00:00:00)\n"
     ]
    },
    {
     "name": "stdout",
     "output_type": "stream",
     "text": [
      "322\n"
     ]
    },
    {
     "name": "stderr",
     "output_type": "stream",
     "text": [
      "2020-04-30 14:44:46,211 - wflow_sbm.ini - wf_DynamicFramework - INFO - saving maps\n",
      "2020-04-30 14:44:46,219 - wflow_sbm.ini - wf_DynamicFramework - DEBUG - timestep: 323/364.0 (2010-11-20 00:00:00)\n"
     ]
    },
    {
     "name": "stdout",
     "output_type": "stream",
     "text": [
      "323\n"
     ]
    },
    {
     "name": "stderr",
     "output_type": "stream",
     "text": [
      "2020-04-30 14:44:46,801 - wflow_sbm.ini - wf_DynamicFramework - INFO - saving maps\n",
      "2020-04-30 14:44:46,808 - wflow_sbm.ini - wf_DynamicFramework - DEBUG - timestep: 324/364.0 (2010-11-21 00:00:00)\n"
     ]
    },
    {
     "name": "stdout",
     "output_type": "stream",
     "text": [
      "324\n"
     ]
    },
    {
     "name": "stderr",
     "output_type": "stream",
     "text": [
      "2020-04-30 14:44:47,398 - wflow_sbm.ini - wf_DynamicFramework - INFO - saving maps\n",
      "2020-04-30 14:44:47,406 - wflow_sbm.ini - wf_DynamicFramework - DEBUG - timestep: 325/364.0 (2010-11-22 00:00:00)\n"
     ]
    },
    {
     "name": "stdout",
     "output_type": "stream",
     "text": [
      "325\n"
     ]
    },
    {
     "name": "stderr",
     "output_type": "stream",
     "text": [
      "2020-04-30 14:44:47,991 - wflow_sbm.ini - wf_DynamicFramework - INFO - saving maps\n",
      "2020-04-30 14:44:47,998 - wflow_sbm.ini - wf_DynamicFramework - DEBUG - timestep: 326/364.0 (2010-11-23 00:00:00)\n"
     ]
    },
    {
     "name": "stdout",
     "output_type": "stream",
     "text": [
      "326\n"
     ]
    },
    {
     "name": "stderr",
     "output_type": "stream",
     "text": [
      "2020-04-30 14:44:48,611 - wflow_sbm.ini - wf_DynamicFramework - INFO - saving maps\n",
      "2020-04-30 14:44:48,618 - wflow_sbm.ini - wf_DynamicFramework - DEBUG - timestep: 327/364.0 (2010-11-24 00:00:00)\n"
     ]
    },
    {
     "name": "stdout",
     "output_type": "stream",
     "text": [
      "327\n"
     ]
    },
    {
     "name": "stderr",
     "output_type": "stream",
     "text": [
      "2020-04-30 14:44:49,191 - wflow_sbm.ini - wf_DynamicFramework - INFO - saving maps\n",
      "2020-04-30 14:44:49,198 - wflow_sbm.ini - wf_DynamicFramework - DEBUG - timestep: 328/364.0 (2010-11-25 00:00:00)\n"
     ]
    },
    {
     "name": "stdout",
     "output_type": "stream",
     "text": [
      "328\n"
     ]
    },
    {
     "name": "stderr",
     "output_type": "stream",
     "text": [
      "2020-04-30 14:44:49,788 - wflow_sbm.ini - wf_DynamicFramework - INFO - saving maps\n",
      "2020-04-30 14:44:49,796 - wflow_sbm.ini - wf_DynamicFramework - DEBUG - timestep: 329/364.0 (2010-11-26 00:00:00)\n"
     ]
    },
    {
     "name": "stdout",
     "output_type": "stream",
     "text": [
      "329\n"
     ]
    },
    {
     "name": "stderr",
     "output_type": "stream",
     "text": [
      "2020-04-30 14:44:50,390 - wflow_sbm.ini - wf_DynamicFramework - INFO - saving maps\n",
      "2020-04-30 14:44:50,398 - wflow_sbm.ini - wf_DynamicFramework - DEBUG - timestep: 330/364.0 (2010-11-27 00:00:00)\n"
     ]
    },
    {
     "name": "stdout",
     "output_type": "stream",
     "text": [
      "330\n"
     ]
    },
    {
     "name": "stderr",
     "output_type": "stream",
     "text": [
      "2020-04-30 14:44:51,027 - wflow_sbm.ini - wf_DynamicFramework - INFO - saving maps\n",
      "2020-04-30 14:44:51,035 - wflow_sbm.ini - wf_DynamicFramework - DEBUG - timestep: 331/364.0 (2010-11-28 00:00:00)\n"
     ]
    },
    {
     "name": "stdout",
     "output_type": "stream",
     "text": [
      "331\n"
     ]
    },
    {
     "name": "stderr",
     "output_type": "stream",
     "text": [
      "2020-04-30 14:44:51,636 - wflow_sbm.ini - wf_DynamicFramework - INFO - saving maps\n",
      "2020-04-30 14:44:51,643 - wflow_sbm.ini - wf_DynamicFramework - DEBUG - timestep: 332/364.0 (2010-11-29 00:00:00)\n"
     ]
    },
    {
     "name": "stdout",
     "output_type": "stream",
     "text": [
      "332\n"
     ]
    },
    {
     "name": "stderr",
     "output_type": "stream",
     "text": [
      "2020-04-30 14:44:52,243 - wflow_sbm.ini - wf_DynamicFramework - INFO - saving maps\n",
      "2020-04-30 14:44:52,250 - wflow_sbm.ini - wf_DynamicFramework - DEBUG - timestep: 333/364.0 (2010-11-30 00:00:00)\n"
     ]
    },
    {
     "name": "stdout",
     "output_type": "stream",
     "text": [
      "333\n"
     ]
    },
    {
     "name": "stderr",
     "output_type": "stream",
     "text": [
      "2020-04-30 14:44:52,914 - wflow_sbm.ini - wf_DynamicFramework - INFO - saving maps\n",
      "2020-04-30 14:44:52,922 - wflow_sbm.ini - wf_DynamicFramework - DEBUG - timestep: 334/364.0 (2010-12-01 00:00:00)\n"
     ]
    },
    {
     "name": "stdout",
     "output_type": "stream",
     "text": [
      "334\n"
     ]
    },
    {
     "name": "stderr",
     "output_type": "stream",
     "text": [
      "2020-04-30 14:44:53,546 - wflow_sbm.ini - wf_DynamicFramework - INFO - saving maps\n",
      "2020-04-30 14:44:53,554 - wflow_sbm.ini - wf_DynamicFramework - DEBUG - timestep: 335/364.0 (2010-12-02 00:00:00)\n"
     ]
    },
    {
     "name": "stdout",
     "output_type": "stream",
     "text": [
      "335\n"
     ]
    },
    {
     "name": "stderr",
     "output_type": "stream",
     "text": [
      "2020-04-30 14:44:54,181 - wflow_sbm.ini - wf_DynamicFramework - INFO - saving maps\n",
      "2020-04-30 14:44:54,189 - wflow_sbm.ini - wf_DynamicFramework - DEBUG - timestep: 336/364.0 (2010-12-03 00:00:00)\n"
     ]
    },
    {
     "name": "stdout",
     "output_type": "stream",
     "text": [
      "336\n"
     ]
    },
    {
     "name": "stderr",
     "output_type": "stream",
     "text": [
      "2020-04-30 14:44:54,846 - wflow_sbm.ini - wf_DynamicFramework - INFO - saving maps\n",
      "2020-04-30 14:44:54,853 - wflow_sbm.ini - wf_DynamicFramework - DEBUG - timestep: 337/364.0 (2010-12-04 00:00:00)\n"
     ]
    },
    {
     "name": "stdout",
     "output_type": "stream",
     "text": [
      "337\n"
     ]
    },
    {
     "name": "stderr",
     "output_type": "stream",
     "text": [
      "2020-04-30 14:44:55,484 - wflow_sbm.ini - wf_DynamicFramework - INFO - saving maps\n",
      "2020-04-30 14:44:55,491 - wflow_sbm.ini - wf_DynamicFramework - DEBUG - timestep: 338/364.0 (2010-12-05 00:00:00)\n"
     ]
    },
    {
     "name": "stdout",
     "output_type": "stream",
     "text": [
      "338\n"
     ]
    },
    {
     "name": "stderr",
     "output_type": "stream",
     "text": [
      "2020-04-30 14:44:56,134 - wflow_sbm.ini - wf_DynamicFramework - INFO - saving maps\n",
      "2020-04-30 14:44:56,141 - wflow_sbm.ini - wf_DynamicFramework - DEBUG - timestep: 339/364.0 (2010-12-06 00:00:00)\n"
     ]
    },
    {
     "name": "stdout",
     "output_type": "stream",
     "text": [
      "339\n"
     ]
    },
    {
     "name": "stderr",
     "output_type": "stream",
     "text": [
      "2020-04-30 14:44:56,806 - wflow_sbm.ini - wf_DynamicFramework - INFO - saving maps\n",
      "2020-04-30 14:44:56,813 - wflow_sbm.ini - wf_DynamicFramework - DEBUG - timestep: 340/364.0 (2010-12-07 00:00:00)\n"
     ]
    },
    {
     "name": "stdout",
     "output_type": "stream",
     "text": [
      "340\n"
     ]
    },
    {
     "name": "stderr",
     "output_type": "stream",
     "text": [
      "2020-04-30 14:44:57,549 - wflow_sbm.ini - wf_DynamicFramework - INFO - saving maps\n",
      "2020-04-30 14:44:57,556 - wflow_sbm.ini - wf_DynamicFramework - DEBUG - timestep: 341/364.0 (2010-12-08 00:00:00)\n"
     ]
    },
    {
     "name": "stdout",
     "output_type": "stream",
     "text": [
      "341\n"
     ]
    },
    {
     "name": "stderr",
     "output_type": "stream",
     "text": [
      "2020-04-30 14:44:58,276 - wflow_sbm.ini - wf_DynamicFramework - INFO - saving maps\n",
      "2020-04-30 14:44:58,283 - wflow_sbm.ini - wf_DynamicFramework - DEBUG - timestep: 342/364.0 (2010-12-09 00:00:00)\n"
     ]
    },
    {
     "name": "stdout",
     "output_type": "stream",
     "text": [
      "342\n"
     ]
    },
    {
     "name": "stderr",
     "output_type": "stream",
     "text": [
      "2020-04-30 14:44:59,066 - wflow_sbm.ini - wf_DynamicFramework - INFO - saving maps\n",
      "2020-04-30 14:44:59,077 - wflow_sbm.ini - wf_DynamicFramework - DEBUG - timestep: 343/364.0 (2010-12-10 00:00:00)\n"
     ]
    },
    {
     "name": "stdout",
     "output_type": "stream",
     "text": [
      "343\n"
     ]
    },
    {
     "name": "stderr",
     "output_type": "stream",
     "text": [
      "2020-04-30 14:44:59,940 - wflow_sbm.ini - wf_DynamicFramework - INFO - saving maps\n",
      "2020-04-30 14:44:59,947 - wflow_sbm.ini - wf_DynamicFramework - DEBUG - timestep: 344/364.0 (2010-12-11 00:00:00)\n"
     ]
    },
    {
     "name": "stdout",
     "output_type": "stream",
     "text": [
      "344\n"
     ]
    },
    {
     "name": "stderr",
     "output_type": "stream",
     "text": [
      "2020-04-30 14:45:00,823 - wflow_sbm.ini - wf_DynamicFramework - INFO - saving maps\n",
      "2020-04-30 14:45:00,830 - wflow_sbm.ini - wf_DynamicFramework - DEBUG - timestep: 345/364.0 (2010-12-12 00:00:00)\n"
     ]
    },
    {
     "name": "stdout",
     "output_type": "stream",
     "text": [
      "345\n"
     ]
    },
    {
     "name": "stderr",
     "output_type": "stream",
     "text": [
      "2020-04-30 14:45:01,700 - wflow_sbm.ini - wf_DynamicFramework - INFO - saving maps\n",
      "2020-04-30 14:45:01,707 - wflow_sbm.ini - wf_DynamicFramework - DEBUG - timestep: 346/364.0 (2010-12-13 00:00:00)\n"
     ]
    },
    {
     "name": "stdout",
     "output_type": "stream",
     "text": [
      "346\n"
     ]
    },
    {
     "name": "stderr",
     "output_type": "stream",
     "text": [
      "2020-04-30 14:45:02,674 - wflow_sbm.ini - wf_DynamicFramework - INFO - saving maps\n",
      "2020-04-30 14:45:02,683 - wflow_sbm.ini - wf_DynamicFramework - DEBUG - timestep: 347/364.0 (2010-12-14 00:00:00)\n"
     ]
    },
    {
     "name": "stdout",
     "output_type": "stream",
     "text": [
      "347\n"
     ]
    },
    {
     "name": "stderr",
     "output_type": "stream",
     "text": [
      "2020-04-30 14:45:03,734 - wflow_sbm.ini - wf_DynamicFramework - INFO - saving maps\n",
      "2020-04-30 14:45:03,743 - wflow_sbm.ini - wf_DynamicFramework - DEBUG - timestep: 348/364.0 (2010-12-15 00:00:00)\n"
     ]
    },
    {
     "name": "stdout",
     "output_type": "stream",
     "text": [
      "348\n"
     ]
    },
    {
     "name": "stderr",
     "output_type": "stream",
     "text": [
      "2020-04-30 14:45:04,802 - wflow_sbm.ini - wf_DynamicFramework - INFO - saving maps\n",
      "2020-04-30 14:45:04,810 - wflow_sbm.ini - wf_DynamicFramework - DEBUG - timestep: 349/364.0 (2010-12-16 00:00:00)\n"
     ]
    },
    {
     "name": "stdout",
     "output_type": "stream",
     "text": [
      "349\n"
     ]
    },
    {
     "name": "stderr",
     "output_type": "stream",
     "text": [
      "2020-04-30 14:45:05,915 - wflow_sbm.ini - wf_DynamicFramework - INFO - saving maps\n",
      "2020-04-30 14:45:05,922 - wflow_sbm.ini - wf_DynamicFramework - DEBUG - timestep: 350/364.0 (2010-12-17 00:00:00)\n"
     ]
    },
    {
     "name": "stdout",
     "output_type": "stream",
     "text": [
      "350\n"
     ]
    },
    {
     "name": "stderr",
     "output_type": "stream",
     "text": [
      "2020-04-30 14:45:07,105 - wflow_sbm.ini - wf_DynamicFramework - INFO - saving maps\n",
      "2020-04-30 14:45:07,112 - wflow_sbm.ini - wf_DynamicFramework - DEBUG - timestep: 351/364.0 (2010-12-18 00:00:00)\n"
     ]
    },
    {
     "name": "stdout",
     "output_type": "stream",
     "text": [
      "351\n"
     ]
    },
    {
     "name": "stderr",
     "output_type": "stream",
     "text": [
      "2020-04-30 14:45:08,259 - wflow_sbm.ini - wf_DynamicFramework - INFO - saving maps\n",
      "2020-04-30 14:45:08,266 - wflow_sbm.ini - wf_DynamicFramework - DEBUG - timestep: 352/364.0 (2010-12-19 00:00:00)\n"
     ]
    },
    {
     "name": "stdout",
     "output_type": "stream",
     "text": [
      "352\n"
     ]
    },
    {
     "name": "stderr",
     "output_type": "stream",
     "text": [
      "2020-04-30 14:45:09,374 - wflow_sbm.ini - wf_DynamicFramework - INFO - saving maps\n",
      "2020-04-30 14:45:09,381 - wflow_sbm.ini - wf_DynamicFramework - DEBUG - timestep: 353/364.0 (2010-12-20 00:00:00)\n"
     ]
    },
    {
     "name": "stdout",
     "output_type": "stream",
     "text": [
      "353\n"
     ]
    },
    {
     "name": "stderr",
     "output_type": "stream",
     "text": [
      "2020-04-30 14:45:10,587 - wflow_sbm.ini - wf_DynamicFramework - INFO - saving maps\n",
      "2020-04-30 14:45:10,596 - wflow_sbm.ini - wf_DynamicFramework - DEBUG - timestep: 354/364.0 (2010-12-21 00:00:00)\n"
     ]
    },
    {
     "name": "stdout",
     "output_type": "stream",
     "text": [
      "354\n"
     ]
    },
    {
     "name": "stderr",
     "output_type": "stream",
     "text": [
      "2020-04-30 14:45:11,962 - wflow_sbm.ini - wf_DynamicFramework - INFO - saving maps\n",
      "2020-04-30 14:45:11,969 - wflow_sbm.ini - wf_DynamicFramework - DEBUG - timestep: 355/364.0 (2010-12-22 00:00:00)\n"
     ]
    },
    {
     "name": "stdout",
     "output_type": "stream",
     "text": [
      "355\n"
     ]
    },
    {
     "name": "stderr",
     "output_type": "stream",
     "text": [
      "2020-04-30 14:45:13,379 - wflow_sbm.ini - wf_DynamicFramework - INFO - saving maps\n",
      "2020-04-30 14:45:13,387 - wflow_sbm.ini - wf_DynamicFramework - DEBUG - timestep: 356/364.0 (2010-12-23 00:00:00)\n"
     ]
    },
    {
     "name": "stdout",
     "output_type": "stream",
     "text": [
      "356\n"
     ]
    },
    {
     "name": "stderr",
     "output_type": "stream",
     "text": [
      "2020-04-30 14:45:14,890 - wflow_sbm.ini - wf_DynamicFramework - INFO - saving maps\n",
      "2020-04-30 14:45:14,897 - wflow_sbm.ini - wf_DynamicFramework - DEBUG - timestep: 357/364.0 (2010-12-24 00:00:00)\n"
     ]
    },
    {
     "name": "stdout",
     "output_type": "stream",
     "text": [
      "357\n"
     ]
    },
    {
     "name": "stderr",
     "output_type": "stream",
     "text": [
      "2020-04-30 14:45:16,216 - wflow_sbm.ini - wf_DynamicFramework - INFO - saving maps\n",
      "2020-04-30 14:45:16,224 - wflow_sbm.ini - wf_DynamicFramework - DEBUG - timestep: 358/364.0 (2010-12-25 00:00:00)\n"
     ]
    },
    {
     "name": "stdout",
     "output_type": "stream",
     "text": [
      "358\n"
     ]
    },
    {
     "name": "stderr",
     "output_type": "stream",
     "text": [
      "2020-04-30 14:45:17,416 - wflow_sbm.ini - wf_DynamicFramework - INFO - saving maps\n",
      "2020-04-30 14:45:17,423 - wflow_sbm.ini - wf_DynamicFramework - DEBUG - timestep: 359/364.0 (2010-12-26 00:00:00)\n"
     ]
    },
    {
     "name": "stdout",
     "output_type": "stream",
     "text": [
      "359\n"
     ]
    },
    {
     "name": "stderr",
     "output_type": "stream",
     "text": [
      "2020-04-30 14:45:18,741 - wflow_sbm.ini - wf_DynamicFramework - INFO - saving maps\n",
      "2020-04-30 14:45:18,751 - wflow_sbm.ini - wf_DynamicFramework - DEBUG - timestep: 360/364.0 (2010-12-27 00:00:00)\n"
     ]
    },
    {
     "name": "stdout",
     "output_type": "stream",
     "text": [
      "360\n"
     ]
    },
    {
     "name": "stderr",
     "output_type": "stream",
     "text": [
      "2020-04-30 14:45:20,098 - wflow_sbm.ini - wf_DynamicFramework - INFO - saving maps\n",
      "2020-04-30 14:45:20,110 - wflow_sbm.ini - wf_DynamicFramework - DEBUG - timestep: 361/364.0 (2010-12-28 00:00:00)\n"
     ]
    },
    {
     "name": "stdout",
     "output_type": "stream",
     "text": [
      "361\n"
     ]
    },
    {
     "name": "stderr",
     "output_type": "stream",
     "text": [
      "2020-04-30 14:45:21,448 - wflow_sbm.ini - wf_DynamicFramework - INFO - saving maps\n",
      "2020-04-30 14:45:21,455 - wflow_sbm.ini - wf_DynamicFramework - DEBUG - timestep: 362/364.0 (2010-12-29 00:00:00)\n"
     ]
    },
    {
     "name": "stdout",
     "output_type": "stream",
     "text": [
      "362\n"
     ]
    },
    {
     "name": "stderr",
     "output_type": "stream",
     "text": [
      "2020-04-30 14:45:22,809 - wflow_sbm.ini - wf_DynamicFramework - INFO - saving maps\n",
      "2020-04-30 14:45:22,819 - wflow_sbm.ini - wf_DynamicFramework - DEBUG - timestep: 363/364.0 (2010-12-30 00:00:00)\n"
     ]
    },
    {
     "name": "stdout",
     "output_type": "stream",
     "text": [
      "363\n"
     ]
    },
    {
     "name": "stderr",
     "output_type": "stream",
     "text": [
      "2020-04-30 14:45:24,173 - wflow_sbm.ini - wf_DynamicFramework - INFO - saving maps\n",
      "2020-04-30 14:45:24,174 - wflow_sbm.ini - wf_netcdfio - DEBUG - Writing buffer for AET to file at: 300 64 timesteps\n",
      "2020-04-30 14:45:24,203 - wflow_sbm.ini - wf_netcdfio - DEBUG - Writing buffer for run to file at: 300 64 timesteps\n",
      "2020-04-30 14:45:24,226 - wflow_sbm.ini - wf_netcdfio - DEBUG - Writing buffer for sno to file at: 300 64 timesteps\n",
      "2020-04-30 14:45:24,254 - wflow_sbm.ini - wf_DynamicFramework - DEBUG - timestep: 364/364.0 (2010-12-31 00:00:00)\n"
     ]
    },
    {
     "name": "stdout",
     "output_type": "stream",
     "text": [
      "364\n"
     ]
    },
    {
     "name": "stderr",
     "output_type": "stream",
     "text": [
      "2020-04-30 14:45:25,609 - wflow_sbm.ini - wf_DynamicFramework - INFO - saving maps\n",
      "2020-04-30 14:45:25,610 - wflow_sbm.ini - wf_netcdfio - DEBUG - Writing buffer for AET to file at: 300 65 timesteps\n",
      "2020-04-30 14:45:25,633 - wflow_sbm.ini - wf_netcdfio - DEBUG - Writing buffer for run to file at: 300 65 timesteps\n",
      "2020-04-30 14:45:25,656 - wflow_sbm.ini - wf_netcdfio - DEBUG - Writing buffer for sno to file at: 300 65 timesteps\n",
      "2020-04-30 14:45:25,683 - wflow_sbm.ini - wf_DynamicFramework - DEBUG - timestep: 365/364.0 (2011-01-01 00:00:00)\n",
      "2020-04-30 14:45:25,683 - wflow_sbm.ini - wflow_sbm - INFO - Saving initial conditions...\n",
      "2020-04-30 14:45:25,688 - wflow_sbm.ini - wf_DynamicFramework - INFO - Saving summary maps to disk...\n"
     ]
    }
   ],
   "source": [
    "ini_file = r'/home/hcwinsemius/Barotse/zambezi_4km/wflow_sbm.ini'\n",
    "\n",
    "bmimodel = wfbmi.wflowbmi_csdms()\n",
    "bmimodel.initialize_config(ini_file)\n",
    "bmimodel.initialize_model()\n",
    "\n",
    "for n in range(365):\n",
    "    print(n)\n",
    "    bmimodel.update()\n",
    "\n",
    "\n",
    "# extract (flow) data\n",
    "\n",
    "# plot result on map\n",
    "\n",
    "# finalize model\n",
    "bmimodel.finalize()\n"
   ]
  },
  {
   "cell_type": "markdown",
   "metadata": {},
   "source": [
    "2. Run 4km and 1km model for a couple of time steps, collect time series from both and plot in time series graph it and close (finalize) model."
   ]
  },
  {
   "cell_type": "markdown",
   "metadata": {},
   "source": [
    "3. Run 4km model and extract upstream boundary conditions in an array (time series) for use as forcing in LISFLOOD"
   ]
  },
  {
   "cell_type": "markdown",
   "metadata": {},
   "source": [
    "4. Run 4km model and update the infiltration layer as feedback forcing from LISFLOOD"
   ]
  },
  {
   "cell_type": "code",
   "execution_count": null,
   "metadata": {},
   "outputs": [],
   "source": []
  }
 ],
 "metadata": {
  "kernelspec": {
   "display_name": "Python 3",
   "language": "python",
   "name": "python3"
  },
  "language_info": {
   "codemirror_mode": {
    "name": "ipython",
    "version": 3
   },
   "file_extension": ".py",
   "mimetype": "text/x-python",
   "name": "python",
   "nbconvert_exporter": "python",
   "pygments_lexer": "ipython3",
   "version": "3.6.10"
  }
 },
 "nbformat": 4,
 "nbformat_minor": 4
}
