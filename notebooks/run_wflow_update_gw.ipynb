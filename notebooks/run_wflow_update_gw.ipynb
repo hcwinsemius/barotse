{
 "cells": [
  {
   "cell_type": "markdown",
   "metadata": {},
   "source": [
    "# Run WFlow upper Zambezi and see if we can add water to groundwater #\n",
    "\n",
    "- run model as is\n",
    "- run model, and in every step, update zi with additional water\n",
    "- plot\n"
   ]
  },
  {
   "cell_type": "code",
   "execution_count": null,
   "metadata": {},
   "outputs": [],
   "source": [
    "%matplotlib inline\n",
    "from bmi.wrapper import BMIWrapper\n",
    "import matplotlib.pyplot as plt\n",
    "import numpy as np\n",
    "import wflow.wflow_bmi as wfbmi\n",
    "import xarray as xr\n"
   ]
  },
  {
   "cell_type": "markdown",
   "metadata": {},
   "source": [
    "1. This step quoted, skip to the sensitivity test below. (Run 4km model for a couple of time steps, extract a spatial end result, plot it and close (finalize) model.)"
   ]
  },
  {
   "cell_type": "code",
   "execution_count": null,
   "metadata": {},
   "outputs": [],
   "source": [
    "# ini_file = r'/home/hcwinsemius/git/barotse/wflow/wflow_sbm_sensitivity.ini'\n",
    "\n",
    "# bmimodel = wfbmi.wflowbmi_csdms()\n",
    "# bmimodel.initialize_config(ini_file)\n",
    "# bmimodel.initialize_model()\n",
    "\n",
    "# for n in range(100):\n",
    "#     print(n)\n",
    "#     bmimodel.update()\n",
    "\n",
    "# # finalize model\n",
    "# bmimodel.finalize()\n"
   ]
  },
  {
   "cell_type": "code",
   "execution_count": null,
   "metadata": {},
   "outputs": [],
   "source": [
    "ini_file = r'/home/hcwinsemius/git/barotse/wflow/wflow_sbm_sensitivity.ini'\n",
    "\n",
    "bmimodel = wfbmi.wflowbmi_csdms()\n",
    "bmimodel.initialize_config(ini_file)\n",
    "bmimodel.initialize_model()"
   ]
  },
  {
   "cell_type": "markdown",
   "metadata": {},
   "source": [
    "### Run 4km model again but now add a lot of water to the saturated store"
   ]
  },
  {
   "cell_type": "code",
   "execution_count": null,
   "metadata": {},
   "outputs": [],
   "source": [
    "# we'll add water over a square box approximately covering Barotse\n",
    "xmin, xmax, ymin, ymax = 130, 150, 80, 125\n",
    "for n in range(100):\n",
    "    print(n)\n",
    "    bmimodel.update()\n",
    "    zi = bmimodel.get_value(\"zi\")\n",
    "    zi[ymin:ymax, xmin:xmax] = np.maximum(0, zi[ymin:ymax, xmin:xmax] - 100)\n",
    "    bmimodel.set_value(\"zi\", zi)\n",
    "\n",
    "# finalize model\n",
    "bmimodel.finalize()\n"
   ]
  },
  {
   "cell_type": "code",
   "execution_count": null,
   "metadata": {},
   "outputs": [],
   "source": [
    "zi = bmimodel.get_value(\"zi\")\n",
    "zi[ymin:ymax, xmin:xmax] = np.maximum(0, zi[ymin:ymax, xmin:xmax] - 2000)\n",
    "plt.imshow(zi, vmin=0, vmax=3000, origin='lower')\n",
    "plt.colorbar()\n",
    "bmimodel.set_value(\"zi\", zi)"
   ]
  },
  {
   "cell_type": "markdown",
   "metadata": {},
   "source": [
    "### Plot zi to see if it is persistent"
   ]
  },
  {
   "cell_type": "code",
   "execution_count": null,
   "metadata": {},
   "outputs": [],
   "source": [
    "import matplotlib.pyplot as plt\n",
    "import matplotlib as mpl\n",
    "from matplotlib import animation\n",
    "step = 5 # one frame every <step> hr\n",
    "# bmimodel.finalize()\n",
    "def update_plot(i, da_fld, cax_fld):\n",
    "    da0_fld = da_fld.isel(time=i)\n",
    "    t = da0_fld.time.dt.strftime(\"%d-%B-%Y %H:%M:%S\").item()\n",
    "    ax.set_title(f'Wflow water depth under surface {t}')\n",
    "    cax_fld.set_array(da0_fld.values)\n",
    "\n",
    "fn = \"/home/hcwinsemius/git/barotse/wflow/run_default/outmaps.nc\"\n",
    "ds = xr.open_dataset(fn)\n",
    "zi = ds[\"zi\"]\n",
    "fig = plt.figure(figsize=(13, 10))\n",
    "ax = plt.subplot(111)\n",
    "cax_zi = zi.isel(time=0).plot(ax=ax, vmin=0, vmax=6000, cmap=plt.cm.Blues_r, cbar_kwargs=dict(aspect=30, fraction=.1))\n",
    "\n",
    "ani = animation.FuncAnimation(\n",
    "    fig,\n",
    "    update_plot,\n",
    "    frames=np.arange(0, 100, step),\n",
    "    interval=250,     # ms between frames\n",
    "    fargs=(zi, cax_zi)\n",
    ")\n",
    "from IPython.display import HTML\n",
    "HTML(ani.to_html5_video())\n",
    "# ani.save('zi.mp4', fps=4, dpi=200)"
   ]
  }
 ],
 "metadata": {
  "kernelspec": {
   "display_name": "Python 3",
   "language": "python",
   "name": "python3"
  },
  "language_info": {
   "codemirror_mode": {
    "name": "ipython",
    "version": 3
   },
   "file_extension": ".py",
   "mimetype": "text/x-python",
   "name": "python",
   "nbconvert_exporter": "python",
   "pygments_lexer": "ipython3",
   "version": "3.8.6"
  }
 },
 "nbformat": 4,
 "nbformat_minor": 4
}
