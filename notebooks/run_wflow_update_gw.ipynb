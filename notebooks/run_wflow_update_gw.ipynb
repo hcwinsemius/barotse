{
 "cells": [
  {
   "cell_type": "markdown",
   "metadata": {},
   "source": [
    "# Run WFlow upper Zambezi and see if we can add water to groundwater #\n",
    "\n",
    "- run model as is\n",
    "- run model, and in every step, update zi with additional water\n",
    "- plot\n"
   ]
  },
  {
   "cell_type": "code",
   "execution_count": 1,
   "metadata": {},
   "outputs": [],
   "source": [
    "%matplotlib inline\n",
    "from bmi.wrapper import BMIWrapper\n",
    "import matplotlib.pyplot as plt\n",
    "import numpy as np\n",
    "import wflow.wflow_bmi as wfbmi\n",
    "import xarray as xr\n"
   ]
  },
  {
   "cell_type": "markdown",
   "metadata": {},
   "source": [
    "1. This step quoted, skip to the sensitivity test below. (Run 4km model for a couple of time steps, extract a spatial end result, plot it and close (finalize) model.)"
   ]
  },
  {
   "cell_type": "code",
   "execution_count": 2,
   "metadata": {},
   "outputs": [],
   "source": [
    "# ini_file = r'/home/hcwinsemius/git/barotse/wflow/wflow_sbm_sensitivity.ini'\n",
    "\n",
    "# bmimodel = wfbmi.wflowbmi_csdms()\n",
    "# bmimodel.initialize_config(ini_file)\n",
    "# bmimodel.initialize_model()\n",
    "\n",
    "# for n in range(100):\n",
    "#     print(n)\n",
    "#     bmimodel.update()\n",
    "\n",
    "# # finalize model\n",
    "# bmimodel.finalize()\n"
   ]
  },
  {
   "cell_type": "code",
   "execution_count": 3,
   "metadata": {},
   "outputs": [
    {
     "name": "stderr",
     "output_type": "stream",
     "text": [
      "2021-12-29 09:31:51,673 - wflow_sbm_sensitivity.ini - pcrut - DEBUG - File logging to /home/hcwinsemius/git/barotse/wflow/run_default/wflow.log\n",
      "2021-12-29 09:31:51,675 - wflow_sbm_sensitivity.ini - wf_DynamicFramework - INFO - wflow_sbm_sensitivity.ini 2020.1.2 Case: /home/hcwinsemius/git/barotse/wflow Runid: run_default\n",
      "2021-12-29 09:31:51,676 - wflow_sbm_sensitivity.ini - wf_DynamicFramework - INFO - Initialise framework version: 2020.1.2\n",
      "2021-12-29 09:31:51,680 - wflow_sbm_sensitivity.ini - wf_DynamicFramework - WARNING - Ini file made for wflow_sbm but found wflow.wflow_sbm in code.\n",
      "2021-12-29 09:31:51,682 - wflow_sbm_sensitivity.ini - wf_DynamicFramework - DEBUG - Found following input variables to get from netcdf file: ['P', 'PET', 'TEMP', 'IF', 'P', 'TEMP', 'PET', 'IF']\n",
      "2021-12-29 09:31:51,690 - wflow_sbm_sensitivity.ini - wf_netcdfio - INFO - Reading input from netCDF file: /home/hcwinsemius/git/barotse/wflow/inmaps/forcing-2000_2018.nc\n",
      "2021-12-29 09:31:51,721 - wflow_sbm_sensitivity.ini - wf_netcdfio - WARNING - Variable IF not found in netcdf file: /home/hcwinsemius/git/barotse/wflow/inmaps/forcing-2000_2018.nc\n",
      "2021-12-29 09:31:51,722 - wflow_sbm_sensitivity.ini - wf_netcdfio - WARNING - Variable IF not found in netcdf file: /home/hcwinsemius/git/barotse/wflow/inmaps/forcing-2000_2018.nc\n",
      "2021-12-29 09:31:51,726 - wflow_sbm_sensitivity.ini - wf_netcdfio - INFO - Setting up netcdf output: /home/hcwinsemius/git/barotse/wflow/run_default/outmaps.nc\n",
      "2021-12-29 09:31:51,729 - wflow_sbm_sensitivity.ini - wf_netcdfio - INFO - Setting up dimensions and attributes. Steps: 1003 lat: 241 lon: 239\n",
      "2021-12-29 09:31:51,745 - wflow_sbm_sensitivity.ini - wf_DynamicFramework - DEBUG - Creating parameter specification for par: Sl (['staticmaps/Sl.map', 'staticmap', '0.1', '1'])\n",
      "2021-12-29 09:31:51,746 - wflow_sbm_sensitivity.ini - wf_DynamicFramework - DEBUG - Creating parameter specification for par: Kext (['staticmaps/Kext.map', 'staticmap', '0.6', '1'])\n",
      "2021-12-29 09:31:51,747 - wflow_sbm_sensitivity.ini - wf_DynamicFramework - DEBUG - Creating parameter specification for par: Swood (['staticmaps/Swood.map', 'staticmap', '0.5', '1'])\n",
      "2021-12-29 09:31:51,747 - wflow_sbm_sensitivity.ini - wf_DynamicFramework - DEBUG - Creating parameter specification for par: LAI (['staticmaps/clim/LAI', 'monthlyclim', '1.0', '1'])\n",
      "2021-12-29 09:31:51,748 - wflow_sbm_sensitivity.ini - wf_DynamicFramework - DEBUG - Creating parameter specification for par: LakeLocs (['staticmaps/wflow_lakelocs.map', 'staticmap', '0.0', '0'])\n",
      "2021-12-29 09:31:51,748 - wflow_sbm_sensitivity.ini - wf_DynamicFramework - DEBUG - Creating parameter specification for par: LakeAreasMap (['staticmaps/wflow_lakeareas.map', 'staticmap', '0.0', '0'])\n",
      "2021-12-29 09:31:51,749 - wflow_sbm_sensitivity.ini - wf_DynamicFramework - DEBUG - Creating parameter specification for par: LinkedLakeLocs (['intbl/LinkedLakeLocs.tbl', 'tbl', '0', '0', 'staticmaps/wflow_lakelocs.map'])\n",
      "2021-12-29 09:31:51,750 - wflow_sbm_sensitivity.ini - wf_DynamicFramework - DEBUG - Creating parameter specification for par: LakeStorFunc (['intbl/LakeStorFunc.tbl', 'tbl', '1', '0', 'staticmaps/wflow_lakelocs.map'])\n",
      "2021-12-29 09:31:51,750 - wflow_sbm_sensitivity.ini - wf_DynamicFramework - DEBUG - Creating parameter specification for par: LakeOutflowFunc (['intbl/LakeOutflowFunc.tbl', 'tbl', '3', '0', 'staticmaps/wflow_lakelocs.map'])\n",
      "2021-12-29 09:31:51,751 - wflow_sbm_sensitivity.ini - wf_DynamicFramework - DEBUG - Creating parameter specification for par: LakeArea (['intbl/LakeArea.tbl', 'tbl', '1', '0', 'staticmaps/wflow_lakelocs.map'])\n",
      "2021-12-29 09:31:51,751 - wflow_sbm_sensitivity.ini - wf_DynamicFramework - DEBUG - Creating parameter specification for par: LakeAvgLevel (['intbl/LakeAvgLevel.tbl', 'tbl', '1', '0', 'staticmaps/wflow_lakelocs.map'])\n",
      "2021-12-29 09:31:51,752 - wflow_sbm_sensitivity.ini - wf_DynamicFramework - DEBUG - Creating parameter specification for par: LakeAvgOut (['intbl/LakeAvgOut.tbl', 'tbl', '1', '0', 'staticmaps/wflow_lakelocs.map'])\n",
      "2021-12-29 09:31:51,752 - wflow_sbm_sensitivity.ini - wf_DynamicFramework - DEBUG - Creating parameter specification for par: LakeThreshold (['intbl/LakeThreshold.tbl', 'tbl', '0', '0', 'staticmaps/wflow_lakelocs.map'])\n",
      "2021-12-29 09:31:51,753 - wflow_sbm_sensitivity.ini - wf_DynamicFramework - DEBUG - Creating parameter specification for par: Lake_b (['intbl/Lake_b.tbl', 'tbl', '50', '0', 'staticmaps/wflow_lakelocs.map'])\n",
      "2021-12-29 09:31:51,753 - wflow_sbm_sensitivity.ini - wf_DynamicFramework - DEBUG - Creating parameter specification for par: Lake_e (['intbl/Lake_e.tbl', 'tbl', '2.0', '0', 'staticmaps/wflow_lakelocs.map'])\n",
      "2021-12-29 09:31:51,756 - wflow_sbm_sensitivity.ini - wf_DynamicFramework - INFO - Adding csv output at /home/hcwinsemius/git/barotse/wflow/staticmaps/wflow_gauges.map function: average\n",
      "2021-12-29 09:31:51,759 - wflow_sbm_sensitivity.ini - wf_DynamicFramework - INFO - Adding csv output at /home/hcwinsemius/git/barotse/wflow/staticmaps/wflow_subcatch.map function: average\n",
      "2021-12-29 09:31:51,764 - wflow_sbm_sensitivity.ini - wf_DynamicFramework - INFO - Adding csv output at /home/hcwinsemius/git/barotse/wflow/staticmaps/wflow_landuse.map function: average\n",
      "2021-12-29 09:31:51,765 - wflow_sbm_sensitivity.ini - wf_DynamicFramework - INFO - Adding tss output at /home/hcwinsemius/git/barotse/wflow/staticmaps/wflow_gauges.map function: average\n",
      "2021-12-29 09:31:51,766 - wflow_sbm_sensitivity.ini - wflow_sbm - INFO - running for 1003 timesteps\n",
      "2021-12-29 09:31:51,767 - wflow_sbm_sensitivity.ini - wflow_sbm - INFO - Using sub timestep for kinematic wave (iterate)\n",
      "2021-12-29 09:31:51,767 - wflow_sbm_sensitivity.ini - wflow_sbm - INFO - Applying the original topog_sbm vertical transfer formulation\n",
      "2021-12-29 09:31:51,772 - wflow_sbm_sensitivity.ini - wf_DynamicFramework - DEBUG - Static input data (/home/hcwinsemius/git/barotse/wflow/staticmaps/wflow_riverlength_fact.map)  not present, returning 1.0\n",
      "2021-12-29 09:31:51,775 - wflow_sbm_sensitivity.ini - wf_DynamicFramework - DEBUG - Static input data (/home/hcwinsemius/git/barotse/wflow/staticmaps/wflow_inflow.map)  not present, returning 0.0\n",
      "2021-12-29 09:31:51,777 - wflow_sbm_sensitivity.ini - wf_DynamicFramework - DEBUG - Static input data (/home/hcwinsemius/git/barotse/wflow\\staticmaps/wflow_tempcor.map)  not present, returning 0.0\n",
      "2021-12-29 09:31:51,780 - wflow_sbm_sensitivity.ini - wflow_sbm - INFO - Linking parameters to landuse, catchment and soil...\n",
      "2021-12-29 09:31:51,780 - wflow_sbm_sensitivity.ini - wf_DynamicFramework - INFO - Adding Precipitation to model.\n",
      "2021-12-29 09:31:51,781 - wflow_sbm_sensitivity.ini - wf_DynamicFramework - DEBUG - Static input data (/home/hcwinsemius/git/barotse/wflow/inmaps/P.map)  not present, returning 0.0\n",
      "2021-12-29 09:31:51,782 - wflow_sbm_sensitivity.ini - wf_DynamicFramework - INFO - Adding PotenEvap to model.\n",
      "2021-12-29 09:31:51,782 - wflow_sbm_sensitivity.ini - wf_DynamicFramework - DEBUG - Static input data (/home/hcwinsemius/git/barotse/wflow/inmaps/PET.map)  not present, returning 0.0\n",
      "2021-12-29 09:31:51,783 - wflow_sbm_sensitivity.ini - wf_DynamicFramework - INFO - Adding Temperature to model.\n",
      "2021-12-29 09:31:51,783 - wflow_sbm_sensitivity.ini - wf_DynamicFramework - DEBUG - Static input data (/home/hcwinsemius/git/barotse/wflow/inmaps/TEMP.map)  not present, returning 10.0\n",
      "2021-12-29 09:31:51,784 - wflow_sbm_sensitivity.ini - wf_DynamicFramework - INFO - Adding Inflow to model.\n",
      "2021-12-29 09:31:51,785 - wflow_sbm_sensitivity.ini - wf_DynamicFramework - INFO - Adding IrrigationAreas to model.\n",
      "2021-12-29 09:31:51,786 - wflow_sbm_sensitivity.ini - wf_DynamicFramework - DEBUG - Static input data (/home/hcwinsemius/git/barotse/wflow/staticmaps/wflow_irrigationareas.map)  not present, returning 0.0\n",
      "2021-12-29 09:31:51,786 - wflow_sbm_sensitivity.ini - wf_DynamicFramework - INFO - Adding IrrigationSurfaceIntakes to model.\n",
      "2021-12-29 09:31:51,787 - wflow_sbm_sensitivity.ini - wf_DynamicFramework - DEBUG - Static input data (/home/hcwinsemius/git/barotse/wflow/staticmaps/wflow_irrisurfaceintake.map)  not present, returning 0.0\n",
      "2021-12-29 09:31:51,788 - wflow_sbm_sensitivity.ini - wf_DynamicFramework - INFO - Adding IrrigationPaddyAreas to model.\n"
     ]
    },
    {
     "name": "stderr",
     "output_type": "stream",
     "text": [
      "2021-12-29 09:31:51,789 - wflow_sbm_sensitivity.ini - wf_DynamicFramework - DEBUG - Static input data (/home/hcwinsemius/git/barotse/wflow/staticmaps/wflow_irrigationpaddyareas.map)  not present, returning 0.0\n",
      "2021-12-29 09:31:51,791 - wflow_sbm_sensitivity.ini - wf_DynamicFramework - INFO - Adding IrrigationSurfaceReturn to model.\n",
      "2021-12-29 09:31:51,794 - wflow_sbm_sensitivity.ini - wf_DynamicFramework - DEBUG - Static input data (/home/hcwinsemius/git/barotse/wflow/staticmaps/wflow_irrisurfacereturns.map)  not present, returning 0.0\n",
      "2021-12-29 09:31:51,794 - wflow_sbm_sensitivity.ini - wf_DynamicFramework - INFO - Adding h_max to model.\n",
      "2021-12-29 09:31:51,795 - wflow_sbm_sensitivity.ini - wf_DynamicFramework - DEBUG - Static input data (/home/hcwinsemius/git/barotse/wflow/staticmaps/wflow_hmax.map)  not present, returning 0.0\n",
      "2021-12-29 09:31:51,796 - wflow_sbm_sensitivity.ini - wf_DynamicFramework - INFO - Adding h_min to model.\n",
      "2021-12-29 09:31:51,797 - wflow_sbm_sensitivity.ini - wf_DynamicFramework - DEBUG - Static input data (/home/hcwinsemius/git/barotse/wflow/staticmaps/wflow_hmin.map)  not present, returning 0.0\n",
      "2021-12-29 09:31:51,797 - wflow_sbm_sensitivity.ini - wf_DynamicFramework - INFO - Adding h_p to model.\n",
      "2021-12-29 09:31:51,800 - wflow_sbm_sensitivity.ini - wf_DynamicFramework - DEBUG - Static input data (/home/hcwinsemius/git/barotse/wflow/staticmaps/wflow_hp.map)  not present, returning 0.0\n",
      "2021-12-29 09:31:51,801 - wflow_sbm_sensitivity.ini - wf_DynamicFramework - INFO - Adding Sl to model.\n",
      "2021-12-29 09:31:51,804 - wflow_sbm_sensitivity.ini - wf_DynamicFramework - INFO - Adding Kext to model.\n",
      "2021-12-29 09:31:51,805 - wflow_sbm_sensitivity.ini - wf_DynamicFramework - INFO - Adding Swood to model.\n",
      "2021-12-29 09:31:51,806 - wflow_sbm_sensitivity.ini - wf_DynamicFramework - INFO - Adding LAI to model.\n",
      "2021-12-29 09:31:51,808 - wflow_sbm_sensitivity.ini - wf_DynamicFramework - INFO - Adding LakeLocs to model.\n",
      "2021-12-29 09:31:51,809 - wflow_sbm_sensitivity.ini - wf_DynamicFramework - INFO - Adding LakeAreasMap to model.\n",
      "2021-12-29 09:31:51,812 - wflow_sbm_sensitivity.ini - wf_DynamicFramework - INFO - Initial: Adding LinkedLakeLocs to model.\n",
      "2021-12-29 09:31:51,813 - wflow_sbm_sensitivity.ini - wf_DynamicFramework - DEBUG - tbl file not found (/home/hcwinsemius/git/barotse/wflow/intbl/LinkedLakeLocs.tbl) returning default value: 0.0\n",
      "2021-12-29 09:31:51,813 - wflow_sbm_sensitivity.ini - wf_DynamicFramework - INFO - Initial: Adding LakeStorFunc to model.\n",
      "2021-12-29 09:31:51,814 - wflow_sbm_sensitivity.ini - wf_DynamicFramework - DEBUG - tbl file not found (/home/hcwinsemius/git/barotse/wflow/intbl/LakeStorFunc.tbl) returning default value: 1.0\n",
      "2021-12-29 09:31:51,815 - wflow_sbm_sensitivity.ini - wf_DynamicFramework - INFO - Initial: Adding LakeOutflowFunc to model.\n",
      "2021-12-29 09:31:51,816 - wflow_sbm_sensitivity.ini - wf_DynamicFramework - DEBUG - tbl file not found (/home/hcwinsemius/git/barotse/wflow/intbl/LakeOutflowFunc.tbl) returning default value: 3.0\n",
      "2021-12-29 09:31:51,816 - wflow_sbm_sensitivity.ini - wf_DynamicFramework - INFO - Initial: Adding LakeArea to model.\n",
      "2021-12-29 09:31:51,819 - wflow_sbm_sensitivity.ini - wf_DynamicFramework - INFO - Initial: Adding LakeAvgLevel to model.\n",
      "2021-12-29 09:31:51,821 - wflow_sbm_sensitivity.ini - wf_DynamicFramework - INFO - Initial: Adding LakeAvgOut to model.\n",
      "2021-12-29 09:31:51,823 - wflow_sbm_sensitivity.ini - wf_DynamicFramework - INFO - Initial: Adding LakeThreshold to model.\n",
      "2021-12-29 09:31:51,824 - wflow_sbm_sensitivity.ini - wf_DynamicFramework - DEBUG - tbl file not found (/home/hcwinsemius/git/barotse/wflow/intbl/LakeThreshold.tbl) returning default value: 0.0\n",
      "2021-12-29 09:31:51,825 - wflow_sbm_sensitivity.ini - wf_DynamicFramework - INFO - Initial: Adding Lake_b to model.\n",
      "2021-12-29 09:31:51,827 - wflow_sbm_sensitivity.ini - wf_DynamicFramework - INFO - Initial: Adding Lake_e to model.\n",
      "2021-12-29 09:31:51,828 - wflow_sbm_sensitivity.ini - wf_DynamicFramework - DEBUG - tbl file not found (/home/hcwinsemius/git/barotse/wflow/intbl/Lake_e.tbl) returning default value: 2.0\n",
      "2021-12-29 09:31:51,831 - wflow_sbm_sensitivity.ini - wf_DynamicFramework - INFO - reading map parameter file: /home/hcwinsemius/git/barotse/wflow/intbl/../staticmaps/RootingDepth.map\n",
      "2021-12-29 09:31:51,833 - wflow_sbm_sensitivity.ini - wf_DynamicFramework - WARNING - tbl file not found (/home/hcwinsemius/git/barotse/wflow/intbl/AirEntryPressure.tbl) returning default value: 10.0\n",
      "2021-12-29 09:31:51,838 - wflow_sbm_sensitivity.ini - wf_DynamicFramework - INFO - Creating map from table: /home/hcwinsemius/git/barotse/wflow/intbl/rootdistpar.tbl\n",
      "2021-12-29 09:31:51,842 - wflow_sbm_sensitivity.ini - wf_DynamicFramework - INFO - Creating map from table: /home/hcwinsemius/git/barotse/wflow/intbl/InfiltCapSoil.tbl\n",
      "2021-12-29 09:31:51,846 - wflow_sbm_sensitivity.ini - wf_DynamicFramework - WARNING - tbl file not found (/home/hcwinsemius/git/barotse/wflow/intbl/CapScale.tbl) returning default value: 100.0\n",
      "2021-12-29 09:31:51,851 - wflow_sbm_sensitivity.ini - wf_DynamicFramework - INFO - Creating map from table: /home/hcwinsemius/git/barotse/wflow/intbl/InfiltCapPath.tbl\n",
      "2021-12-29 09:31:51,856 - wflow_sbm_sensitivity.ini - wf_DynamicFramework - INFO - Creating map from table: /home/hcwinsemius/git/barotse/wflow/intbl/MaxLeakage.tbl\n",
      "2021-12-29 09:31:51,860 - wflow_sbm_sensitivity.ini - wf_DynamicFramework - WARNING - tbl file not found (/home/hcwinsemius/git/barotse/wflow/intbl/MaxPercolation.tbl) returning default value: 0.0\n",
      "2021-12-29 09:31:51,863 - wflow_sbm_sensitivity.ini - wf_DynamicFramework - INFO - reading map parameter file: /home/hcwinsemius/git/barotse/wflow/intbl/../staticmaps/PathFrac.map\n",
      "2021-12-29 09:31:51,865 - wflow_sbm_sensitivity.ini - wf_DynamicFramework - INFO - reading map parameter file: /home/hcwinsemius/git/barotse/wflow/intbl/../staticmaps/SoilThickness.map\n",
      "2021-12-29 09:31:51,867 - wflow_sbm_sensitivity.ini - wf_DynamicFramework - WARNING - tbl file not found (/home/hcwinsemius/git/barotse/wflow/intbl/thetaR.tbl) returning default value: 0.01\n",
      "2021-12-29 09:31:51,870 - wflow_sbm_sensitivity.ini - wf_DynamicFramework - WARNING - tbl file not found (/home/hcwinsemius/git/barotse/wflow/intbl/thetaS.tbl) returning default value: 0.6\n",
      "2021-12-29 09:31:51,873 - wflow_sbm_sensitivity.ini - wf_DynamicFramework - INFO - reading map parameter file: /home/hcwinsemius/git/barotse/wflow/intbl/../staticmaps/SoilMinThickness.map\n",
      "2021-12-29 09:31:51,876 - wflow_sbm_sensitivity.ini - wf_DynamicFramework - INFO - reading map parameter file: /home/hcwinsemius/git/barotse/wflow/intbl/../staticmaps/KsatVer.map\n",
      "2021-12-29 09:31:51,878 - wflow_sbm_sensitivity.ini - wf_DynamicFramework - WARNING - tbl file not found (/home/hcwinsemius/git/barotse/wflow/intbl/MporeFrac.tbl) returning default value: 0.0\n",
      "2021-12-29 09:31:51,884 - wflow_sbm_sensitivity.ini - wf_DynamicFramework - INFO - Creating map from table: /home/hcwinsemius/git/barotse/wflow/intbl/KsatHorFrac.tbl\n",
      "2021-12-29 09:31:51,887 - wflow_sbm_sensitivity.ini - wf_DynamicFramework - INFO - reading map parameter file: /home/hcwinsemius/git/barotse/wflow/intbl/../staticmaps/M.map\n",
      "2021-12-29 09:31:51,889 - wflow_sbm_sensitivity.ini - wf_DynamicFramework - INFO - reading map parameter file: /home/hcwinsemius/git/barotse/wflow/intbl/../staticmaps/N.map\n",
      "2021-12-29 09:31:51,893 - wflow_sbm_sensitivity.ini - wf_DynamicFramework - INFO - reading map parameter file: /home/hcwinsemius/git/barotse/wflow/intbl/../staticmaps/WaterFrac.map\n",
      "2021-12-29 09:31:51,895 - wflow_sbm_sensitivity.ini - wf_DynamicFramework - WARNING - tbl file not found (/home/hcwinsemius/git/barotse/wflow/intbl/et_reftopot.tbl) returning default value: 1.0\n",
      "2021-12-29 09:31:51,901 - wflow_sbm_sensitivity.ini - wf_DynamicFramework - INFO - Creating map from table: /home/hcwinsemius/git/barotse/wflow/intbl/TTI.tbl\n",
      "2021-12-29 09:31:51,906 - wflow_sbm_sensitivity.ini - wf_DynamicFramework - INFO - Creating map from table: /home/hcwinsemius/git/barotse/wflow/intbl/TT.tbl\n",
      "2021-12-29 09:31:51,913 - wflow_sbm_sensitivity.ini - wf_DynamicFramework - INFO - Creating map from table: /home/hcwinsemius/git/barotse/wflow/intbl/TTM.tbl\n"
     ]
    },
    {
     "name": "stderr",
     "output_type": "stream",
     "text": [
      "2021-12-29 09:31:51,920 - wflow_sbm_sensitivity.ini - wf_DynamicFramework - INFO - Creating map from table: /home/hcwinsemius/git/barotse/wflow/intbl/Cfmax.tbl\n",
      "2021-12-29 09:31:51,925 - wflow_sbm_sensitivity.ini - wf_DynamicFramework - INFO - Creating map from table: /home/hcwinsemius/git/barotse/wflow/intbl/WHC.tbl\n",
      "2021-12-29 09:31:51,928 - wflow_sbm_sensitivity.ini - wf_DynamicFramework - WARNING - tbl file not found (/home/hcwinsemius/git/barotse/wflow/intbl/w_soil.tbl) returning default value: 0.1125\n",
      "2021-12-29 09:31:51,953 - wflow_sbm_sensitivity.ini - wflow_sbm - INFO - A total of 0 simple reservoirs and 1 lakes found.\n",
      "2021-12-29 09:31:51,977 - wflow_sbm_sensitivity.ini - wf_DynamicFramework - WARNING - tbl file not found (/home/hcwinsemius/git/barotse/wflow/intbl/KsatVerFrac.tbl) returning default value: 1.0\n",
      "2021-12-29 09:31:51,980 - wflow_sbm_sensitivity.ini - wf_DynamicFramework - INFO - reading map parameter file: /home/hcwinsemius/git/barotse/wflow/intbl/../staticmaps/c_0.map\n",
      "2021-12-29 09:31:51,982 - wflow_sbm_sensitivity.ini - wflow_sbm - INFO - Initializing of model variables..\n",
      "2021-12-29 09:31:52,068 - wflow_sbm_sensitivity.ini - wf_DynamicFramework - WARNING - Variable change (apply_once) applied to SoilThickness with factor 4\n",
      "2021-12-29 09:31:52,069 - wflow_sbm_sensitivity.ini - wf_DynamicFramework - WARNING - Variable change (apply_once) applied to SoilWaterCapacity with factor 4\n",
      "2021-12-29 09:31:52,069 - wflow_sbm_sensitivity.ini - wf_DynamicFramework - WARNING - Variable change (apply_once) applied to RootingDepth with factor 4\n",
      "2021-12-29 09:31:52,070 - wflow_sbm_sensitivity.ini - wf_DynamicFramework - WARNING - Variable change (apply_once) applied to KsatHorFrac with factor 1000\n",
      "2021-12-29 09:31:52,071 - wflow_sbm_sensitivity.ini - wf_DynamicFramework - WARNING - Variable change (apply_once) applied to M with factor 1000\n",
      "2021-12-29 09:31:53,871 - wflow_sbm_sensitivity.ini - wflow_sbm - INFO - Saving summary maps...\n",
      "2021-12-29 09:31:53,872 - wflow_sbm_sensitivity.ini - wflow_sbm - INFO - End of initial section\n",
      "2021-12-29 09:31:53,872 - wflow_sbm_sensitivity.ini - wflow_sbm - INFO - Setting initial conditions from state files\n",
      "2021-12-29 09:31:53,880 - wflow_sbm_sensitivity.ini - wf_DynamicFramework - INFO - state variable UStoreLayerDepth contains 1 state files (stack)\n"
     ]
    }
   ],
   "source": [
    "ini_file = r'/home/hcwinsemius/git/barotse/wflow/wflow_sbm_sensitivity.ini'\n",
    "\n",
    "bmimodel = wfbmi.wflowbmi_csdms()\n",
    "bmimodel.initialize_config(ini_file)\n",
    "bmimodel.initialize_model()"
   ]
  },
  {
   "cell_type": "markdown",
   "metadata": {},
   "source": [
    "### Run 4km model again but now add a lot of water to the saturated store"
   ]
  },
  {
   "cell_type": "code",
   "execution_count": 4,
   "metadata": {},
   "outputs": [
    {
     "name": "stderr",
     "output_type": "stream",
     "text": [
      "2021-12-29 09:32:02,097 - wflow_sbm_sensitivity.ini - wf_netcdfio - WARNING - Date/time does not match. Wanted 2010-01-02 00:00:00 got 2000-01-02 00:00:00\n",
      "2021-12-29 09:32:02,099 - wflow_sbm_sensitivity.ini - wf_netcdfio - WARNING - Adjusting to the date/time at index and setting offset: 3654:3653:2010-01-02 00:00:00\n"
     ]
    },
    {
     "name": "stdout",
     "output_type": "stream",
     "text": [
      "0\n"
     ]
    },
    {
     "name": "stderr",
     "output_type": "stream",
     "text": [
      "2021-12-29 09:32:20,544 - wflow_sbm_sensitivity.ini - wf_DynamicFramework - INFO - saving maps\n",
      "2021-12-29 09:32:20,548 - wflow_sbm_sensitivity.ini - wf_netcdfio - DEBUG - Creating variable P in netcdf file. Format: NETCDF4\n",
      "2021-12-29 09:32:20,570 - wflow_sbm_sensitivity.ini - wf_netcdfio - DEBUG - Creating variable AET in netcdf file. Format: NETCDF4\n",
      "2021-12-29 09:32:20,583 - wflow_sbm_sensitivity.ini - wf_netcdfio - DEBUG - Creating variable run in netcdf file. Format: NETCDF4\n",
      "2021-12-29 09:32:20,595 - wflow_sbm_sensitivity.ini - wf_netcdfio - DEBUG - Creating variable qo_riv in netcdf file. Format: NETCDF4\n",
      "2021-12-29 09:32:20,606 - wflow_sbm_sensitivity.ini - wf_netcdfio - DEBUG - Creating variable ssf_riv in netcdf file. Format: NETCDF4\n",
      "2021-12-29 09:32:20,619 - wflow_sbm_sensitivity.ini - wf_netcdfio - DEBUG - Creating variable ex_us in netcdf file. Format: NETCDF4\n",
      "2021-12-29 09:32:20,631 - wflow_sbm_sensitivity.ini - wf_netcdfio - DEBUG - Creating variable ex_ss in netcdf file. Format: NETCDF4\n",
      "2021-12-29 09:32:20,643 - wflow_sbm_sensitivity.ini - wf_netcdfio - DEBUG - Creating variable ustore in netcdf file. Format: NETCDF4\n",
      "2021-12-29 09:32:20,656 - wflow_sbm_sensitivity.ini - wf_netcdfio - DEBUG - Creating variable SWD in netcdf file. Format: NETCDF4\n",
      "2021-12-29 09:32:20,667 - wflow_sbm_sensitivity.ini - wf_netcdfio - DEBUG - Creating variable SWC in netcdf file. Format: NETCDF4\n",
      "2021-12-29 09:32:20,679 - wflow_sbm_sensitivity.ini - wf_netcdfio - DEBUG - Creating variable trans in netcdf file. Format: NETCDF4\n",
      "2021-12-29 09:32:20,691 - wflow_sbm_sensitivity.ini - wf_netcdfio - DEBUG - Creating variable capflux in netcdf file. Format: NETCDF4\n",
      "2021-12-29 09:32:20,704 - wflow_sbm_sensitivity.ini - wf_netcdfio - DEBUG - Creating variable in_ex_s in netcdf file. Format: NETCDF4\n",
      "2021-12-29 09:32:20,716 - wflow_sbm_sensitivity.ini - wf_netcdfio - DEBUG - Creating variable inw in netcdf file. Format: NETCDF4\n",
      "2021-12-29 09:32:20,727 - wflow_sbm_sensitivity.ini - wf_netcdfio - DEBUG - Creating variable sno in netcdf file. Format: NETCDF4\n",
      "2021-12-29 09:32:20,738 - wflow_sbm_sensitivity.ini - wf_netcdfio - DEBUG - Creating variable zi in netcdf file. Format: NETCDF4\n",
      "2021-12-29 09:32:20,769 - wflow_sbm_sensitivity.ini - wf_DynamicFramework - DEBUG - timestep: 1/1003.0 (2010-01-02 00:00:00)\n"
     ]
    },
    {
     "name": "stdout",
     "output_type": "stream",
     "text": [
      "1\n"
     ]
    },
    {
     "name": "stderr",
     "output_type": "stream",
     "text": [
      "2021-12-29 09:32:22,575 - wflow_sbm_sensitivity.ini - wf_DynamicFramework - INFO - saving maps\n",
      "2021-12-29 09:32:22,587 - wflow_sbm_sensitivity.ini - wf_DynamicFramework - DEBUG - timestep: 2/1003.0 (2010-01-03 00:00:00)\n"
     ]
    },
    {
     "name": "stdout",
     "output_type": "stream",
     "text": [
      "2\n"
     ]
    },
    {
     "name": "stderr",
     "output_type": "stream",
     "text": [
      "2021-12-29 09:32:26,034 - wflow_sbm_sensitivity.ini - wf_DynamicFramework - INFO - saving maps\n",
      "2021-12-29 09:32:26,046 - wflow_sbm_sensitivity.ini - wf_DynamicFramework - DEBUG - timestep: 3/1003.0 (2010-01-04 00:00:00)\n"
     ]
    },
    {
     "name": "stdout",
     "output_type": "stream",
     "text": [
      "3\n"
     ]
    },
    {
     "name": "stderr",
     "output_type": "stream",
     "text": [
      "2021-12-29 09:32:30,526 - wflow_sbm_sensitivity.ini - wf_DynamicFramework - INFO - saving maps\n",
      "2021-12-29 09:32:30,541 - wflow_sbm_sensitivity.ini - wf_DynamicFramework - DEBUG - timestep: 4/1003.0 (2010-01-05 00:00:00)\n"
     ]
    },
    {
     "name": "stdout",
     "output_type": "stream",
     "text": [
      "4\n"
     ]
    },
    {
     "name": "stderr",
     "output_type": "stream",
     "text": [
      "2021-12-29 09:32:35,496 - wflow_sbm_sensitivity.ini - wf_DynamicFramework - INFO - saving maps\n",
      "2021-12-29 09:32:35,511 - wflow_sbm_sensitivity.ini - wf_DynamicFramework - DEBUG - timestep: 5/1003.0 (2010-01-06 00:00:00)\n"
     ]
    },
    {
     "name": "stdout",
     "output_type": "stream",
     "text": [
      "5\n"
     ]
    },
    {
     "name": "stderr",
     "output_type": "stream",
     "text": [
      "2021-12-29 09:32:40,544 - wflow_sbm_sensitivity.ini - wf_DynamicFramework - INFO - saving maps\n",
      "2021-12-29 09:32:40,557 - wflow_sbm_sensitivity.ini - wf_DynamicFramework - DEBUG - timestep: 6/1003.0 (2010-01-07 00:00:00)\n"
     ]
    },
    {
     "name": "stdout",
     "output_type": "stream",
     "text": [
      "6\n"
     ]
    },
    {
     "name": "stderr",
     "output_type": "stream",
     "text": [
      "2021-12-29 09:32:45,625 - wflow_sbm_sensitivity.ini - wf_DynamicFramework - INFO - saving maps\n",
      "2021-12-29 09:32:45,638 - wflow_sbm_sensitivity.ini - wf_DynamicFramework - DEBUG - timestep: 7/1003.0 (2010-01-08 00:00:00)\n"
     ]
    },
    {
     "name": "stdout",
     "output_type": "stream",
     "text": [
      "7\n"
     ]
    },
    {
     "name": "stderr",
     "output_type": "stream",
     "text": [
      "2021-12-29 09:32:49,857 - wflow_sbm_sensitivity.ini - wf_DynamicFramework - INFO - saving maps\n",
      "2021-12-29 09:32:49,870 - wflow_sbm_sensitivity.ini - wf_DynamicFramework - DEBUG - timestep: 8/1003.0 (2010-01-09 00:00:00)\n"
     ]
    },
    {
     "name": "stdout",
     "output_type": "stream",
     "text": [
      "8\n"
     ]
    },
    {
     "name": "stderr",
     "output_type": "stream",
     "text": [
      "2021-12-29 09:32:54,614 - wflow_sbm_sensitivity.ini - wf_DynamicFramework - INFO - saving maps\n",
      "2021-12-29 09:32:54,626 - wflow_sbm_sensitivity.ini - wf_DynamicFramework - DEBUG - timestep: 9/1003.0 (2010-01-10 00:00:00)\n"
     ]
    },
    {
     "name": "stdout",
     "output_type": "stream",
     "text": [
      "9\n"
     ]
    },
    {
     "name": "stderr",
     "output_type": "stream",
     "text": [
      "2021-12-29 09:32:59,348 - wflow_sbm_sensitivity.ini - wf_DynamicFramework - INFO - saving maps\n",
      "2021-12-29 09:32:59,362 - wflow_sbm_sensitivity.ini - wf_DynamicFramework - DEBUG - timestep: 10/1003.0 (2010-01-11 00:00:00)\n"
     ]
    },
    {
     "name": "stdout",
     "output_type": "stream",
     "text": [
      "10\n"
     ]
    },
    {
     "name": "stderr",
     "output_type": "stream",
     "text": [
      "2021-12-29 09:33:03,887 - wflow_sbm_sensitivity.ini - wf_DynamicFramework - INFO - saving maps\n",
      "2021-12-29 09:33:03,902 - wflow_sbm_sensitivity.ini - wf_DynamicFramework - DEBUG - timestep: 11/1003.0 (2010-01-12 00:00:00)\n"
     ]
    },
    {
     "name": "stdout",
     "output_type": "stream",
     "text": [
      "11\n"
     ]
    },
    {
     "name": "stderr",
     "output_type": "stream",
     "text": [
      "2021-12-29 09:33:08,363 - wflow_sbm_sensitivity.ini - wf_DynamicFramework - INFO - saving maps\n",
      "2021-12-29 09:33:08,377 - wflow_sbm_sensitivity.ini - wf_DynamicFramework - DEBUG - timestep: 12/1003.0 (2010-01-13 00:00:00)\n"
     ]
    },
    {
     "name": "stdout",
     "output_type": "stream",
     "text": [
      "12\n"
     ]
    },
    {
     "name": "stderr",
     "output_type": "stream",
     "text": [
      "2021-12-29 09:33:12,801 - wflow_sbm_sensitivity.ini - wf_DynamicFramework - INFO - saving maps\n",
      "2021-12-29 09:33:12,813 - wflow_sbm_sensitivity.ini - wf_DynamicFramework - DEBUG - timestep: 13/1003.0 (2010-01-14 00:00:00)\n"
     ]
    },
    {
     "name": "stdout",
     "output_type": "stream",
     "text": [
      "13\n"
     ]
    },
    {
     "name": "stderr",
     "output_type": "stream",
     "text": [
      "2021-12-29 09:33:17,233 - wflow_sbm_sensitivity.ini - wf_DynamicFramework - INFO - saving maps\n",
      "2021-12-29 09:33:17,246 - wflow_sbm_sensitivity.ini - wf_DynamicFramework - DEBUG - timestep: 14/1003.0 (2010-01-15 00:00:00)\n"
     ]
    },
    {
     "name": "stdout",
     "output_type": "stream",
     "text": [
      "14\n"
     ]
    },
    {
     "name": "stderr",
     "output_type": "stream",
     "text": [
      "2021-12-29 09:33:21,883 - wflow_sbm_sensitivity.ini - wf_DynamicFramework - INFO - saving maps\n",
      "2021-12-29 09:33:21,900 - wflow_sbm_sensitivity.ini - wf_DynamicFramework - DEBUG - timestep: 15/1003.0 (2010-01-16 00:00:00)\n"
     ]
    },
    {
     "name": "stdout",
     "output_type": "stream",
     "text": [
      "15\n"
     ]
    },
    {
     "name": "stderr",
     "output_type": "stream",
     "text": [
      "2021-12-29 09:33:26,547 - wflow_sbm_sensitivity.ini - wf_DynamicFramework - INFO - saving maps\n",
      "2021-12-29 09:33:26,560 - wflow_sbm_sensitivity.ini - wf_DynamicFramework - DEBUG - timestep: 16/1003.0 (2010-01-17 00:00:00)\n"
     ]
    },
    {
     "name": "stdout",
     "output_type": "stream",
     "text": [
      "16\n"
     ]
    },
    {
     "name": "stderr",
     "output_type": "stream",
     "text": [
      "2021-12-29 09:33:30,761 - wflow_sbm_sensitivity.ini - wf_DynamicFramework - INFO - saving maps\n",
      "2021-12-29 09:33:30,774 - wflow_sbm_sensitivity.ini - wf_DynamicFramework - DEBUG - timestep: 17/1003.0 (2010-01-18 00:00:00)\n"
     ]
    },
    {
     "name": "stdout",
     "output_type": "stream",
     "text": [
      "17\n"
     ]
    },
    {
     "name": "stderr",
     "output_type": "stream",
     "text": [
      "2021-12-29 09:33:34,394 - wflow_sbm_sensitivity.ini - wf_DynamicFramework - INFO - saving maps\n",
      "2021-12-29 09:33:34,409 - wflow_sbm_sensitivity.ini - wf_DynamicFramework - DEBUG - timestep: 18/1003.0 (2010-01-19 00:00:00)\n"
     ]
    },
    {
     "name": "stdout",
     "output_type": "stream",
     "text": [
      "18\n"
     ]
    },
    {
     "name": "stderr",
     "output_type": "stream",
     "text": [
      "2021-12-29 09:33:38,023 - wflow_sbm_sensitivity.ini - wf_DynamicFramework - INFO - saving maps\n",
      "2021-12-29 09:33:38,036 - wflow_sbm_sensitivity.ini - wf_DynamicFramework - DEBUG - timestep: 19/1003.0 (2010-01-20 00:00:00)\n"
     ]
    },
    {
     "name": "stdout",
     "output_type": "stream",
     "text": [
      "19\n"
     ]
    },
    {
     "name": "stderr",
     "output_type": "stream",
     "text": [
      "2021-12-29 09:33:41,987 - wflow_sbm_sensitivity.ini - wf_DynamicFramework - INFO - saving maps\n",
      "2021-12-29 09:33:42,005 - wflow_sbm_sensitivity.ini - wf_DynamicFramework - DEBUG - timestep: 20/1003.0 (2010-01-21 00:00:00)\n"
     ]
    },
    {
     "name": "stdout",
     "output_type": "stream",
     "text": [
      "20\n"
     ]
    },
    {
     "name": "stderr",
     "output_type": "stream",
     "text": [
      "2021-12-29 09:33:45,913 - wflow_sbm_sensitivity.ini - wf_DynamicFramework - INFO - saving maps\n",
      "2021-12-29 09:33:45,925 - wflow_sbm_sensitivity.ini - wf_DynamicFramework - DEBUG - timestep: 21/1003.0 (2010-01-22 00:00:00)\n"
     ]
    },
    {
     "name": "stdout",
     "output_type": "stream",
     "text": [
      "21\n"
     ]
    },
    {
     "name": "stderr",
     "output_type": "stream",
     "text": [
      "2021-12-29 09:33:49,863 - wflow_sbm_sensitivity.ini - wf_DynamicFramework - INFO - saving maps\n",
      "2021-12-29 09:33:49,876 - wflow_sbm_sensitivity.ini - wf_DynamicFramework - DEBUG - timestep: 22/1003.0 (2010-01-23 00:00:00)\n"
     ]
    },
    {
     "name": "stdout",
     "output_type": "stream",
     "text": [
      "22\n"
     ]
    },
    {
     "name": "stderr",
     "output_type": "stream",
     "text": [
      "2021-12-29 09:33:53,827 - wflow_sbm_sensitivity.ini - wf_DynamicFramework - INFO - saving maps\n",
      "2021-12-29 09:33:53,840 - wflow_sbm_sensitivity.ini - wf_DynamicFramework - DEBUG - timestep: 23/1003.0 (2010-01-24 00:00:00)\n"
     ]
    },
    {
     "name": "stdout",
     "output_type": "stream",
     "text": [
      "23\n"
     ]
    },
    {
     "name": "stderr",
     "output_type": "stream",
     "text": [
      "2021-12-29 09:33:57,676 - wflow_sbm_sensitivity.ini - wf_DynamicFramework - INFO - saving maps\n",
      "2021-12-29 09:33:57,690 - wflow_sbm_sensitivity.ini - wf_DynamicFramework - DEBUG - timestep: 24/1003.0 (2010-01-25 00:00:00)\n"
     ]
    },
    {
     "name": "stdout",
     "output_type": "stream",
     "text": [
      "24\n"
     ]
    },
    {
     "name": "stderr",
     "output_type": "stream",
     "text": [
      "2021-12-29 09:34:01,461 - wflow_sbm_sensitivity.ini - wf_DynamicFramework - INFO - saving maps\n",
      "2021-12-29 09:34:01,473 - wflow_sbm_sensitivity.ini - wf_DynamicFramework - DEBUG - timestep: 25/1003.0 (2010-01-26 00:00:00)\n"
     ]
    },
    {
     "name": "stdout",
     "output_type": "stream",
     "text": [
      "25\n"
     ]
    },
    {
     "name": "stderr",
     "output_type": "stream",
     "text": [
      "2021-12-29 09:34:05,130 - wflow_sbm_sensitivity.ini - wf_DynamicFramework - INFO - saving maps\n",
      "2021-12-29 09:34:05,144 - wflow_sbm_sensitivity.ini - wf_DynamicFramework - DEBUG - timestep: 26/1003.0 (2010-01-27 00:00:00)\n"
     ]
    },
    {
     "name": "stdout",
     "output_type": "stream",
     "text": [
      "26\n"
     ]
    },
    {
     "name": "stderr",
     "output_type": "stream",
     "text": [
      "2021-12-29 09:34:08,720 - wflow_sbm_sensitivity.ini - wf_DynamicFramework - INFO - saving maps\n",
      "2021-12-29 09:34:08,733 - wflow_sbm_sensitivity.ini - wf_DynamicFramework - DEBUG - timestep: 27/1003.0 (2010-01-28 00:00:00)\n"
     ]
    },
    {
     "name": "stdout",
     "output_type": "stream",
     "text": [
      "27\n"
     ]
    },
    {
     "name": "stderr",
     "output_type": "stream",
     "text": [
      "2021-12-29 09:34:12,237 - wflow_sbm_sensitivity.ini - wf_DynamicFramework - INFO - saving maps\n",
      "2021-12-29 09:34:12,250 - wflow_sbm_sensitivity.ini - wf_DynamicFramework - DEBUG - timestep: 28/1003.0 (2010-01-29 00:00:00)\n"
     ]
    },
    {
     "name": "stdout",
     "output_type": "stream",
     "text": [
      "28\n"
     ]
    },
    {
     "name": "stderr",
     "output_type": "stream",
     "text": [
      "2021-12-29 09:34:15,620 - wflow_sbm_sensitivity.ini - wf_DynamicFramework - INFO - saving maps\n",
      "2021-12-29 09:34:15,632 - wflow_sbm_sensitivity.ini - wf_DynamicFramework - DEBUG - timestep: 29/1003.0 (2010-01-30 00:00:00)\n"
     ]
    },
    {
     "name": "stdout",
     "output_type": "stream",
     "text": [
      "29\n"
     ]
    },
    {
     "name": "stderr",
     "output_type": "stream",
     "text": [
      "2021-12-29 09:34:19,048 - wflow_sbm_sensitivity.ini - wf_DynamicFramework - INFO - saving maps\n",
      "2021-12-29 09:34:19,061 - wflow_sbm_sensitivity.ini - wf_DynamicFramework - DEBUG - timestep: 30/1003.0 (2010-01-31 00:00:00)\n"
     ]
    },
    {
     "name": "stdout",
     "output_type": "stream",
     "text": [
      "30\n"
     ]
    },
    {
     "name": "stderr",
     "output_type": "stream",
     "text": [
      "2021-12-29 09:34:22,428 - wflow_sbm_sensitivity.ini - wf_DynamicFramework - INFO - saving maps\n",
      "2021-12-29 09:34:22,442 - wflow_sbm_sensitivity.ini - wf_DynamicFramework - DEBUG - timestep: 31/1003.0 (2010-02-01 00:00:00)\n"
     ]
    },
    {
     "name": "stdout",
     "output_type": "stream",
     "text": [
      "31\n"
     ]
    },
    {
     "name": "stderr",
     "output_type": "stream",
     "text": [
      "2021-12-29 09:34:25,757 - wflow_sbm_sensitivity.ini - wf_DynamicFramework - INFO - saving maps\n",
      "2021-12-29 09:34:25,771 - wflow_sbm_sensitivity.ini - wf_DynamicFramework - DEBUG - timestep: 32/1003.0 (2010-02-02 00:00:00)\n"
     ]
    },
    {
     "name": "stdout",
     "output_type": "stream",
     "text": [
      "32\n"
     ]
    },
    {
     "name": "stderr",
     "output_type": "stream",
     "text": [
      "2021-12-29 09:34:29,028 - wflow_sbm_sensitivity.ini - wf_DynamicFramework - INFO - saving maps\n",
      "2021-12-29 09:34:29,040 - wflow_sbm_sensitivity.ini - wf_DynamicFramework - DEBUG - timestep: 33/1003.0 (2010-02-03 00:00:00)\n"
     ]
    },
    {
     "name": "stdout",
     "output_type": "stream",
     "text": [
      "33\n"
     ]
    },
    {
     "name": "stderr",
     "output_type": "stream",
     "text": [
      "2021-12-29 09:34:32,508 - wflow_sbm_sensitivity.ini - wf_DynamicFramework - INFO - saving maps\n",
      "2021-12-29 09:34:32,524 - wflow_sbm_sensitivity.ini - wf_DynamicFramework - DEBUG - timestep: 34/1003.0 (2010-02-04 00:00:00)\n"
     ]
    },
    {
     "name": "stdout",
     "output_type": "stream",
     "text": [
      "34\n"
     ]
    },
    {
     "name": "stderr",
     "output_type": "stream",
     "text": [
      "2021-12-29 09:34:36,180 - wflow_sbm_sensitivity.ini - wf_DynamicFramework - INFO - saving maps\n",
      "2021-12-29 09:34:36,194 - wflow_sbm_sensitivity.ini - wf_DynamicFramework - DEBUG - timestep: 35/1003.0 (2010-02-05 00:00:00)\n"
     ]
    },
    {
     "name": "stdout",
     "output_type": "stream",
     "text": [
      "35\n"
     ]
    },
    {
     "name": "stderr",
     "output_type": "stream",
     "text": [
      "2021-12-29 09:34:39,620 - wflow_sbm_sensitivity.ini - wf_DynamicFramework - INFO - saving maps\n",
      "2021-12-29 09:34:39,633 - wflow_sbm_sensitivity.ini - wf_DynamicFramework - DEBUG - timestep: 36/1003.0 (2010-02-06 00:00:00)\n"
     ]
    },
    {
     "name": "stdout",
     "output_type": "stream",
     "text": [
      "36\n"
     ]
    },
    {
     "name": "stderr",
     "output_type": "stream",
     "text": [
      "2021-12-29 09:34:42,828 - wflow_sbm_sensitivity.ini - wf_DynamicFramework - INFO - saving maps\n",
      "2021-12-29 09:34:42,840 - wflow_sbm_sensitivity.ini - wf_DynamicFramework - DEBUG - timestep: 37/1003.0 (2010-02-07 00:00:00)\n"
     ]
    },
    {
     "name": "stdout",
     "output_type": "stream",
     "text": [
      "37\n"
     ]
    },
    {
     "name": "stderr",
     "output_type": "stream",
     "text": [
      "2021-12-29 09:34:45,979 - wflow_sbm_sensitivity.ini - wf_DynamicFramework - INFO - saving maps\n",
      "2021-12-29 09:34:45,995 - wflow_sbm_sensitivity.ini - wf_DynamicFramework - DEBUG - timestep: 38/1003.0 (2010-02-08 00:00:00)\n"
     ]
    },
    {
     "name": "stdout",
     "output_type": "stream",
     "text": [
      "38\n"
     ]
    },
    {
     "name": "stderr",
     "output_type": "stream",
     "text": [
      "2021-12-29 09:34:49,225 - wflow_sbm_sensitivity.ini - wf_DynamicFramework - INFO - saving maps\n",
      "2021-12-29 09:34:49,242 - wflow_sbm_sensitivity.ini - wf_DynamicFramework - DEBUG - timestep: 39/1003.0 (2010-02-09 00:00:00)\n"
     ]
    },
    {
     "name": "stdout",
     "output_type": "stream",
     "text": [
      "39\n"
     ]
    },
    {
     "name": "stderr",
     "output_type": "stream",
     "text": [
      "2021-12-29 09:34:52,445 - wflow_sbm_sensitivity.ini - wf_DynamicFramework - INFO - saving maps\n",
      "2021-12-29 09:34:52,458 - wflow_sbm_sensitivity.ini - wf_DynamicFramework - DEBUG - timestep: 40/1003.0 (2010-02-10 00:00:00)\n"
     ]
    },
    {
     "name": "stdout",
     "output_type": "stream",
     "text": [
      "40\n"
     ]
    },
    {
     "name": "stderr",
     "output_type": "stream",
     "text": [
      "2021-12-29 09:34:55,529 - wflow_sbm_sensitivity.ini - wf_DynamicFramework - INFO - saving maps\n",
      "2021-12-29 09:34:55,545 - wflow_sbm_sensitivity.ini - wf_DynamicFramework - DEBUG - timestep: 41/1003.0 (2010-02-11 00:00:00)\n"
     ]
    },
    {
     "name": "stdout",
     "output_type": "stream",
     "text": [
      "41\n"
     ]
    },
    {
     "name": "stderr",
     "output_type": "stream",
     "text": [
      "2021-12-29 09:34:58,196 - wflow_sbm_sensitivity.ini - wf_DynamicFramework - INFO - saving maps\n",
      "2021-12-29 09:34:58,211 - wflow_sbm_sensitivity.ini - wf_DynamicFramework - DEBUG - timestep: 42/1003.0 (2010-02-12 00:00:00)\n"
     ]
    },
    {
     "name": "stdout",
     "output_type": "stream",
     "text": [
      "42\n"
     ]
    },
    {
     "name": "stderr",
     "output_type": "stream",
     "text": [
      "2021-12-29 09:35:01,186 - wflow_sbm_sensitivity.ini - wf_DynamicFramework - INFO - saving maps\n",
      "2021-12-29 09:35:01,202 - wflow_sbm_sensitivity.ini - wf_DynamicFramework - DEBUG - timestep: 43/1003.0 (2010-02-13 00:00:00)\n"
     ]
    },
    {
     "name": "stdout",
     "output_type": "stream",
     "text": [
      "43\n"
     ]
    },
    {
     "name": "stderr",
     "output_type": "stream",
     "text": [
      "2021-12-29 09:35:04,140 - wflow_sbm_sensitivity.ini - wf_DynamicFramework - INFO - saving maps\n",
      "2021-12-29 09:35:04,156 - wflow_sbm_sensitivity.ini - wf_DynamicFramework - DEBUG - timestep: 44/1003.0 (2010-02-14 00:00:00)\n"
     ]
    },
    {
     "name": "stdout",
     "output_type": "stream",
     "text": [
      "44\n"
     ]
    },
    {
     "name": "stderr",
     "output_type": "stream",
     "text": [
      "2021-12-29 09:35:06,995 - wflow_sbm_sensitivity.ini - wf_DynamicFramework - INFO - saving maps\n",
      "2021-12-29 09:35:07,012 - wflow_sbm_sensitivity.ini - wf_DynamicFramework - DEBUG - timestep: 45/1003.0 (2010-02-15 00:00:00)\n"
     ]
    },
    {
     "name": "stdout",
     "output_type": "stream",
     "text": [
      "45\n"
     ]
    },
    {
     "name": "stderr",
     "output_type": "stream",
     "text": [
      "2021-12-29 09:35:09,907 - wflow_sbm_sensitivity.ini - wf_DynamicFramework - INFO - saving maps\n",
      "2021-12-29 09:35:09,923 - wflow_sbm_sensitivity.ini - wf_DynamicFramework - DEBUG - timestep: 46/1003.0 (2010-02-16 00:00:00)\n"
     ]
    },
    {
     "name": "stdout",
     "output_type": "stream",
     "text": [
      "46\n"
     ]
    },
    {
     "name": "stderr",
     "output_type": "stream",
     "text": [
      "2021-12-29 09:35:12,804 - wflow_sbm_sensitivity.ini - wf_DynamicFramework - INFO - saving maps\n",
      "2021-12-29 09:35:12,817 - wflow_sbm_sensitivity.ini - wf_DynamicFramework - DEBUG - timestep: 47/1003.0 (2010-02-17 00:00:00)\n"
     ]
    },
    {
     "name": "stdout",
     "output_type": "stream",
     "text": [
      "47\n"
     ]
    },
    {
     "name": "stderr",
     "output_type": "stream",
     "text": [
      "2021-12-29 09:35:15,757 - wflow_sbm_sensitivity.ini - wf_DynamicFramework - INFO - saving maps\n",
      "2021-12-29 09:35:15,770 - wflow_sbm_sensitivity.ini - wf_DynamicFramework - DEBUG - timestep: 48/1003.0 (2010-02-18 00:00:00)\n"
     ]
    },
    {
     "name": "stdout",
     "output_type": "stream",
     "text": [
      "48\n"
     ]
    },
    {
     "name": "stderr",
     "output_type": "stream",
     "text": [
      "2021-12-29 09:35:18,531 - wflow_sbm_sensitivity.ini - wf_DynamicFramework - INFO - saving maps\n",
      "2021-12-29 09:35:18,547 - wflow_sbm_sensitivity.ini - wf_DynamicFramework - DEBUG - timestep: 49/1003.0 (2010-02-19 00:00:00)\n"
     ]
    },
    {
     "name": "stdout",
     "output_type": "stream",
     "text": [
      "49\n"
     ]
    },
    {
     "name": "stderr",
     "output_type": "stream",
     "text": [
      "2021-12-29 09:35:21,475 - wflow_sbm_sensitivity.ini - wf_DynamicFramework - INFO - saving maps\n",
      "2021-12-29 09:35:21,488 - wflow_sbm_sensitivity.ini - wf_DynamicFramework - DEBUG - timestep: 50/1003.0 (2010-02-20 00:00:00)\n"
     ]
    },
    {
     "name": "stdout",
     "output_type": "stream",
     "text": [
      "50\n"
     ]
    },
    {
     "name": "stderr",
     "output_type": "stream",
     "text": [
      "2021-12-29 09:35:24,384 - wflow_sbm_sensitivity.ini - wf_DynamicFramework - INFO - saving maps\n",
      "2021-12-29 09:35:24,397 - wflow_sbm_sensitivity.ini - wf_DynamicFramework - DEBUG - timestep: 51/1003.0 (2010-02-21 00:00:00)\n"
     ]
    },
    {
     "name": "stdout",
     "output_type": "stream",
     "text": [
      "51\n"
     ]
    },
    {
     "name": "stderr",
     "output_type": "stream",
     "text": [
      "2021-12-29 09:35:27,313 - wflow_sbm_sensitivity.ini - wf_DynamicFramework - INFO - saving maps\n",
      "2021-12-29 09:35:27,326 - wflow_sbm_sensitivity.ini - wf_DynamicFramework - DEBUG - timestep: 52/1003.0 (2010-02-22 00:00:00)\n"
     ]
    },
    {
     "name": "stdout",
     "output_type": "stream",
     "text": [
      "52\n"
     ]
    },
    {
     "name": "stderr",
     "output_type": "stream",
     "text": [
      "2021-12-29 09:35:30,158 - wflow_sbm_sensitivity.ini - wf_DynamicFramework - INFO - saving maps\n",
      "2021-12-29 09:35:30,171 - wflow_sbm_sensitivity.ini - wf_DynamicFramework - DEBUG - timestep: 53/1003.0 (2010-02-23 00:00:00)\n"
     ]
    },
    {
     "name": "stdout",
     "output_type": "stream",
     "text": [
      "53\n"
     ]
    },
    {
     "name": "stderr",
     "output_type": "stream",
     "text": [
      "2021-12-29 09:35:33,052 - wflow_sbm_sensitivity.ini - wf_DynamicFramework - INFO - saving maps\n",
      "2021-12-29 09:35:33,069 - wflow_sbm_sensitivity.ini - wf_DynamicFramework - DEBUG - timestep: 54/1003.0 (2010-02-24 00:00:00)\n"
     ]
    },
    {
     "name": "stdout",
     "output_type": "stream",
     "text": [
      "54\n"
     ]
    },
    {
     "name": "stderr",
     "output_type": "stream",
     "text": [
      "2021-12-29 09:35:36,005 - wflow_sbm_sensitivity.ini - wf_DynamicFramework - INFO - saving maps\n",
      "2021-12-29 09:35:36,022 - wflow_sbm_sensitivity.ini - wf_DynamicFramework - DEBUG - timestep: 55/1003.0 (2010-02-25 00:00:00)\n"
     ]
    },
    {
     "name": "stdout",
     "output_type": "stream",
     "text": [
      "55\n"
     ]
    },
    {
     "name": "stderr",
     "output_type": "stream",
     "text": [
      "2021-12-29 09:35:39,042 - wflow_sbm_sensitivity.ini - wf_DynamicFramework - INFO - saving maps\n",
      "2021-12-29 09:35:39,055 - wflow_sbm_sensitivity.ini - wf_DynamicFramework - DEBUG - timestep: 56/1003.0 (2010-02-26 00:00:00)\n"
     ]
    },
    {
     "name": "stdout",
     "output_type": "stream",
     "text": [
      "56\n"
     ]
    },
    {
     "name": "stderr",
     "output_type": "stream",
     "text": [
      "2021-12-29 09:35:42,154 - wflow_sbm_sensitivity.ini - wf_DynamicFramework - INFO - saving maps\n",
      "2021-12-29 09:35:42,169 - wflow_sbm_sensitivity.ini - wf_DynamicFramework - DEBUG - timestep: 57/1003.0 (2010-02-27 00:00:00)\n"
     ]
    },
    {
     "name": "stdout",
     "output_type": "stream",
     "text": [
      "57\n"
     ]
    },
    {
     "name": "stderr",
     "output_type": "stream",
     "text": [
      "2021-12-29 09:35:45,034 - wflow_sbm_sensitivity.ini - wf_DynamicFramework - INFO - saving maps\n",
      "2021-12-29 09:35:45,048 - wflow_sbm_sensitivity.ini - wf_DynamicFramework - DEBUG - timestep: 58/1003.0 (2010-02-28 00:00:00)\n"
     ]
    },
    {
     "name": "stdout",
     "output_type": "stream",
     "text": [
      "58\n"
     ]
    },
    {
     "name": "stderr",
     "output_type": "stream",
     "text": [
      "2021-12-29 09:35:47,849 - wflow_sbm_sensitivity.ini - wf_DynamicFramework - INFO - saving maps\n",
      "2021-12-29 09:35:47,862 - wflow_sbm_sensitivity.ini - wf_DynamicFramework - DEBUG - timestep: 59/1003.0 (2010-03-01 00:00:00)\n"
     ]
    },
    {
     "name": "stdout",
     "output_type": "stream",
     "text": [
      "59\n"
     ]
    },
    {
     "name": "stderr",
     "output_type": "stream",
     "text": [
      "2021-12-29 09:35:50,287 - wflow_sbm_sensitivity.ini - wf_DynamicFramework - INFO - saving maps\n",
      "2021-12-29 09:35:50,305 - wflow_sbm_sensitivity.ini - wf_DynamicFramework - DEBUG - timestep: 60/1003.0 (2010-03-02 00:00:00)\n"
     ]
    },
    {
     "name": "stdout",
     "output_type": "stream",
     "text": [
      "60\n"
     ]
    },
    {
     "name": "stderr",
     "output_type": "stream",
     "text": [
      "2021-12-29 09:35:53,047 - wflow_sbm_sensitivity.ini - wf_DynamicFramework - INFO - saving maps\n",
      "2021-12-29 09:35:53,060 - wflow_sbm_sensitivity.ini - wf_DynamicFramework - DEBUG - timestep: 61/1003.0 (2010-03-03 00:00:00)\n"
     ]
    },
    {
     "name": "stdout",
     "output_type": "stream",
     "text": [
      "61\n"
     ]
    },
    {
     "name": "stderr",
     "output_type": "stream",
     "text": [
      "2021-12-29 09:35:55,818 - wflow_sbm_sensitivity.ini - wf_DynamicFramework - INFO - saving maps\n",
      "2021-12-29 09:35:55,831 - wflow_sbm_sensitivity.ini - wf_DynamicFramework - DEBUG - timestep: 62/1003.0 (2010-03-04 00:00:00)\n"
     ]
    },
    {
     "name": "stdout",
     "output_type": "stream",
     "text": [
      "62\n"
     ]
    },
    {
     "name": "stderr",
     "output_type": "stream",
     "text": [
      "2021-12-29 09:35:58,561 - wflow_sbm_sensitivity.ini - wf_DynamicFramework - INFO - saving maps\n",
      "2021-12-29 09:35:58,574 - wflow_sbm_sensitivity.ini - wf_DynamicFramework - DEBUG - timestep: 63/1003.0 (2010-03-05 00:00:00)\n"
     ]
    },
    {
     "name": "stdout",
     "output_type": "stream",
     "text": [
      "63\n"
     ]
    },
    {
     "name": "stderr",
     "output_type": "stream",
     "text": [
      "2021-12-29 09:36:01,010 - wflow_sbm_sensitivity.ini - wf_DynamicFramework - INFO - saving maps\n",
      "2021-12-29 09:36:01,023 - wflow_sbm_sensitivity.ini - wf_DynamicFramework - DEBUG - timestep: 64/1003.0 (2010-03-06 00:00:00)\n"
     ]
    },
    {
     "name": "stdout",
     "output_type": "stream",
     "text": [
      "64\n"
     ]
    },
    {
     "name": "stderr",
     "output_type": "stream",
     "text": [
      "2021-12-29 09:36:03,455 - wflow_sbm_sensitivity.ini - wf_DynamicFramework - INFO - saving maps\n",
      "2021-12-29 09:36:03,470 - wflow_sbm_sensitivity.ini - wf_DynamicFramework - DEBUG - timestep: 65/1003.0 (2010-03-07 00:00:00)\n"
     ]
    },
    {
     "name": "stdout",
     "output_type": "stream",
     "text": [
      "65\n"
     ]
    },
    {
     "name": "stderr",
     "output_type": "stream",
     "text": [
      "2021-12-29 09:36:06,258 - wflow_sbm_sensitivity.ini - wf_DynamicFramework - INFO - saving maps\n",
      "2021-12-29 09:36:06,273 - wflow_sbm_sensitivity.ini - wf_DynamicFramework - DEBUG - timestep: 66/1003.0 (2010-03-08 00:00:00)\n"
     ]
    },
    {
     "name": "stdout",
     "output_type": "stream",
     "text": [
      "66\n"
     ]
    },
    {
     "name": "stderr",
     "output_type": "stream",
     "text": [
      "2021-12-29 09:36:08,995 - wflow_sbm_sensitivity.ini - wf_DynamicFramework - INFO - saving maps\n",
      "2021-12-29 09:36:09,008 - wflow_sbm_sensitivity.ini - wf_DynamicFramework - DEBUG - timestep: 67/1003.0 (2010-03-09 00:00:00)\n"
     ]
    },
    {
     "name": "stdout",
     "output_type": "stream",
     "text": [
      "67\n"
     ]
    },
    {
     "name": "stderr",
     "output_type": "stream",
     "text": [
      "2021-12-29 09:36:11,720 - wflow_sbm_sensitivity.ini - wf_DynamicFramework - INFO - saving maps\n",
      "2021-12-29 09:36:11,733 - wflow_sbm_sensitivity.ini - wf_DynamicFramework - DEBUG - timestep: 68/1003.0 (2010-03-10 00:00:00)\n"
     ]
    },
    {
     "name": "stdout",
     "output_type": "stream",
     "text": [
      "68\n"
     ]
    },
    {
     "name": "stderr",
     "output_type": "stream",
     "text": [
      "2021-12-29 09:36:14,335 - wflow_sbm_sensitivity.ini - wf_DynamicFramework - INFO - saving maps\n",
      "2021-12-29 09:36:14,350 - wflow_sbm_sensitivity.ini - wf_DynamicFramework - DEBUG - timestep: 69/1003.0 (2010-03-11 00:00:00)\n"
     ]
    },
    {
     "name": "stdout",
     "output_type": "stream",
     "text": [
      "69\n"
     ]
    },
    {
     "name": "stderr",
     "output_type": "stream",
     "text": [
      "2021-12-29 09:36:16,905 - wflow_sbm_sensitivity.ini - wf_DynamicFramework - INFO - saving maps\n",
      "2021-12-29 09:36:16,917 - wflow_sbm_sensitivity.ini - wf_DynamicFramework - DEBUG - timestep: 70/1003.0 (2010-03-12 00:00:00)\n"
     ]
    },
    {
     "name": "stdout",
     "output_type": "stream",
     "text": [
      "70\n"
     ]
    },
    {
     "name": "stderr",
     "output_type": "stream",
     "text": [
      "2021-12-29 09:36:19,492 - wflow_sbm_sensitivity.ini - wf_DynamicFramework - INFO - saving maps\n",
      "2021-12-29 09:36:19,505 - wflow_sbm_sensitivity.ini - wf_DynamicFramework - DEBUG - timestep: 71/1003.0 (2010-03-13 00:00:00)\n"
     ]
    },
    {
     "name": "stdout",
     "output_type": "stream",
     "text": [
      "71\n"
     ]
    },
    {
     "name": "stderr",
     "output_type": "stream",
     "text": [
      "2021-12-29 09:36:22,073 - wflow_sbm_sensitivity.ini - wf_DynamicFramework - INFO - saving maps\n",
      "2021-12-29 09:36:22,086 - wflow_sbm_sensitivity.ini - wf_DynamicFramework - DEBUG - timestep: 72/1003.0 (2010-03-14 00:00:00)\n"
     ]
    },
    {
     "name": "stdout",
     "output_type": "stream",
     "text": [
      "72\n"
     ]
    },
    {
     "name": "stderr",
     "output_type": "stream",
     "text": [
      "2021-12-29 09:36:24,628 - wflow_sbm_sensitivity.ini - wf_DynamicFramework - INFO - saving maps\n",
      "2021-12-29 09:36:24,644 - wflow_sbm_sensitivity.ini - wf_DynamicFramework - DEBUG - timestep: 73/1003.0 (2010-03-15 00:00:00)\n"
     ]
    },
    {
     "name": "stdout",
     "output_type": "stream",
     "text": [
      "73\n"
     ]
    },
    {
     "name": "stderr",
     "output_type": "stream",
     "text": [
      "2021-12-29 09:36:27,117 - wflow_sbm_sensitivity.ini - wf_DynamicFramework - INFO - saving maps\n",
      "2021-12-29 09:36:27,131 - wflow_sbm_sensitivity.ini - wf_DynamicFramework - DEBUG - timestep: 74/1003.0 (2010-03-16 00:00:00)\n"
     ]
    },
    {
     "name": "stdout",
     "output_type": "stream",
     "text": [
      "74\n"
     ]
    },
    {
     "name": "stderr",
     "output_type": "stream",
     "text": [
      "2021-12-29 09:36:29,544 - wflow_sbm_sensitivity.ini - wf_DynamicFramework - INFO - saving maps\n",
      "2021-12-29 09:36:29,558 - wflow_sbm_sensitivity.ini - wf_DynamicFramework - DEBUG - timestep: 75/1003.0 (2010-03-17 00:00:00)\n"
     ]
    },
    {
     "name": "stdout",
     "output_type": "stream",
     "text": [
      "75\n"
     ]
    },
    {
     "name": "stderr",
     "output_type": "stream",
     "text": [
      "2021-12-29 09:36:32,008 - wflow_sbm_sensitivity.ini - wf_DynamicFramework - INFO - saving maps\n",
      "2021-12-29 09:36:32,021 - wflow_sbm_sensitivity.ini - wf_DynamicFramework - DEBUG - timestep: 76/1003.0 (2010-03-18 00:00:00)\n"
     ]
    },
    {
     "name": "stdout",
     "output_type": "stream",
     "text": [
      "76\n"
     ]
    },
    {
     "name": "stderr",
     "output_type": "stream",
     "text": [
      "2021-12-29 09:36:34,499 - wflow_sbm_sensitivity.ini - wf_DynamicFramework - INFO - saving maps\n",
      "2021-12-29 09:36:34,511 - wflow_sbm_sensitivity.ini - wf_DynamicFramework - DEBUG - timestep: 77/1003.0 (2010-03-19 00:00:00)\n"
     ]
    },
    {
     "name": "stdout",
     "output_type": "stream",
     "text": [
      "77\n"
     ]
    },
    {
     "name": "stderr",
     "output_type": "stream",
     "text": [
      "2021-12-29 09:36:36,935 - wflow_sbm_sensitivity.ini - wf_DynamicFramework - INFO - saving maps\n",
      "2021-12-29 09:36:36,947 - wflow_sbm_sensitivity.ini - wf_DynamicFramework - DEBUG - timestep: 78/1003.0 (2010-03-20 00:00:00)\n"
     ]
    },
    {
     "name": "stdout",
     "output_type": "stream",
     "text": [
      "78\n"
     ]
    },
    {
     "name": "stderr",
     "output_type": "stream",
     "text": [
      "2021-12-29 09:36:39,396 - wflow_sbm_sensitivity.ini - wf_DynamicFramework - INFO - saving maps\n",
      "2021-12-29 09:36:39,412 - wflow_sbm_sensitivity.ini - wf_DynamicFramework - DEBUG - timestep: 79/1003.0 (2010-03-21 00:00:00)\n"
     ]
    },
    {
     "name": "stdout",
     "output_type": "stream",
     "text": [
      "79\n"
     ]
    },
    {
     "name": "stderr",
     "output_type": "stream",
     "text": [
      "2021-12-29 09:36:41,955 - wflow_sbm_sensitivity.ini - wf_DynamicFramework - INFO - saving maps\n",
      "2021-12-29 09:36:41,970 - wflow_sbm_sensitivity.ini - wf_DynamicFramework - DEBUG - timestep: 80/1003.0 (2010-03-22 00:00:00)\n"
     ]
    },
    {
     "name": "stdout",
     "output_type": "stream",
     "text": [
      "80\n"
     ]
    },
    {
     "name": "stderr",
     "output_type": "stream",
     "text": [
      "2021-12-29 09:36:44,485 - wflow_sbm_sensitivity.ini - wf_DynamicFramework - INFO - saving maps\n",
      "2021-12-29 09:36:44,499 - wflow_sbm_sensitivity.ini - wf_DynamicFramework - DEBUG - timestep: 81/1003.0 (2010-03-23 00:00:00)\n"
     ]
    },
    {
     "name": "stdout",
     "output_type": "stream",
     "text": [
      "81\n"
     ]
    },
    {
     "name": "stderr",
     "output_type": "stream",
     "text": [
      "2021-12-29 09:36:46,972 - wflow_sbm_sensitivity.ini - wf_DynamicFramework - INFO - saving maps\n",
      "2021-12-29 09:36:46,986 - wflow_sbm_sensitivity.ini - wf_DynamicFramework - DEBUG - timestep: 82/1003.0 (2010-03-24 00:00:00)\n"
     ]
    },
    {
     "name": "stdout",
     "output_type": "stream",
     "text": [
      "82\n"
     ]
    },
    {
     "name": "stderr",
     "output_type": "stream",
     "text": [
      "2021-12-29 09:36:49,427 - wflow_sbm_sensitivity.ini - wf_DynamicFramework - INFO - saving maps\n",
      "2021-12-29 09:36:49,439 - wflow_sbm_sensitivity.ini - wf_DynamicFramework - DEBUG - timestep: 83/1003.0 (2010-03-25 00:00:00)\n"
     ]
    },
    {
     "name": "stdout",
     "output_type": "stream",
     "text": [
      "83\n"
     ]
    },
    {
     "name": "stderr",
     "output_type": "stream",
     "text": [
      "2021-12-29 09:36:51,978 - wflow_sbm_sensitivity.ini - wf_DynamicFramework - INFO - saving maps\n",
      "2021-12-29 09:36:51,991 - wflow_sbm_sensitivity.ini - wf_DynamicFramework - DEBUG - timestep: 84/1003.0 (2010-03-26 00:00:00)\n"
     ]
    },
    {
     "name": "stdout",
     "output_type": "stream",
     "text": [
      "84\n"
     ]
    },
    {
     "name": "stderr",
     "output_type": "stream",
     "text": [
      "2021-12-29 09:36:54,416 - wflow_sbm_sensitivity.ini - wf_DynamicFramework - INFO - saving maps\n",
      "2021-12-29 09:36:54,430 - wflow_sbm_sensitivity.ini - wf_DynamicFramework - DEBUG - timestep: 85/1003.0 (2010-03-27 00:00:00)\n"
     ]
    },
    {
     "name": "stdout",
     "output_type": "stream",
     "text": [
      "85\n"
     ]
    },
    {
     "name": "stderr",
     "output_type": "stream",
     "text": [
      "2021-12-29 09:36:56,844 - wflow_sbm_sensitivity.ini - wf_DynamicFramework - INFO - saving maps\n",
      "2021-12-29 09:36:56,856 - wflow_sbm_sensitivity.ini - wf_DynamicFramework - DEBUG - timestep: 86/1003.0 (2010-03-28 00:00:00)\n"
     ]
    },
    {
     "name": "stdout",
     "output_type": "stream",
     "text": [
      "86\n"
     ]
    },
    {
     "name": "stderr",
     "output_type": "stream",
     "text": [
      "2021-12-29 09:36:59,448 - wflow_sbm_sensitivity.ini - wf_DynamicFramework - INFO - saving maps\n",
      "2021-12-29 09:36:59,461 - wflow_sbm_sensitivity.ini - wf_DynamicFramework - DEBUG - timestep: 87/1003.0 (2010-03-29 00:00:00)\n"
     ]
    },
    {
     "name": "stdout",
     "output_type": "stream",
     "text": [
      "87\n"
     ]
    },
    {
     "name": "stderr",
     "output_type": "stream",
     "text": [
      "2021-12-29 09:37:01,859 - wflow_sbm_sensitivity.ini - wf_DynamicFramework - INFO - saving maps\n",
      "2021-12-29 09:37:01,872 - wflow_sbm_sensitivity.ini - wf_DynamicFramework - DEBUG - timestep: 88/1003.0 (2010-03-30 00:00:00)\n"
     ]
    },
    {
     "name": "stdout",
     "output_type": "stream",
     "text": [
      "88\n"
     ]
    },
    {
     "name": "stderr",
     "output_type": "stream",
     "text": [
      "2021-12-29 09:37:04,221 - wflow_sbm_sensitivity.ini - wf_DynamicFramework - INFO - saving maps\n",
      "2021-12-29 09:37:04,235 - wflow_sbm_sensitivity.ini - wf_DynamicFramework - DEBUG - timestep: 89/1003.0 (2010-03-31 00:00:00)\n"
     ]
    },
    {
     "name": "stdout",
     "output_type": "stream",
     "text": [
      "89\n"
     ]
    },
    {
     "name": "stderr",
     "output_type": "stream",
     "text": [
      "2021-12-29 09:37:06,567 - wflow_sbm_sensitivity.ini - wf_DynamicFramework - INFO - saving maps\n",
      "2021-12-29 09:37:06,581 - wflow_sbm_sensitivity.ini - wf_DynamicFramework - DEBUG - timestep: 90/1003.0 (2010-04-01 00:00:00)\n"
     ]
    },
    {
     "name": "stdout",
     "output_type": "stream",
     "text": [
      "90\n"
     ]
    },
    {
     "name": "stderr",
     "output_type": "stream",
     "text": [
      "2021-12-29 09:37:08,804 - wflow_sbm_sensitivity.ini - wf_DynamicFramework - INFO - saving maps\n",
      "2021-12-29 09:37:08,817 - wflow_sbm_sensitivity.ini - wf_DynamicFramework - DEBUG - timestep: 91/1003.0 (2010-04-02 00:00:00)\n"
     ]
    },
    {
     "name": "stdout",
     "output_type": "stream",
     "text": [
      "91\n"
     ]
    },
    {
     "name": "stderr",
     "output_type": "stream",
     "text": [
      "2021-12-29 09:37:10,837 - wflow_sbm_sensitivity.ini - wf_DynamicFramework - INFO - saving maps\n",
      "2021-12-29 09:37:10,855 - wflow_sbm_sensitivity.ini - wf_DynamicFramework - DEBUG - timestep: 92/1003.0 (2010-04-03 00:00:00)\n"
     ]
    },
    {
     "name": "stdout",
     "output_type": "stream",
     "text": [
      "92\n"
     ]
    },
    {
     "name": "stderr",
     "output_type": "stream",
     "text": [
      "2021-12-29 09:37:12,960 - wflow_sbm_sensitivity.ini - wf_DynamicFramework - INFO - saving maps\n",
      "2021-12-29 09:37:12,972 - wflow_sbm_sensitivity.ini - wf_DynamicFramework - DEBUG - timestep: 93/1003.0 (2010-04-04 00:00:00)\n"
     ]
    },
    {
     "name": "stdout",
     "output_type": "stream",
     "text": [
      "93\n"
     ]
    },
    {
     "name": "stderr",
     "output_type": "stream",
     "text": [
      "2021-12-29 09:37:15,242 - wflow_sbm_sensitivity.ini - wf_DynamicFramework - INFO - saving maps\n",
      "2021-12-29 09:37:15,257 - wflow_sbm_sensitivity.ini - wf_DynamicFramework - DEBUG - timestep: 94/1003.0 (2010-04-05 00:00:00)\n"
     ]
    },
    {
     "name": "stdout",
     "output_type": "stream",
     "text": [
      "94\n"
     ]
    },
    {
     "name": "stderr",
     "output_type": "stream",
     "text": [
      "2021-12-29 09:37:17,552 - wflow_sbm_sensitivity.ini - wf_DynamicFramework - INFO - saving maps\n",
      "2021-12-29 09:37:17,565 - wflow_sbm_sensitivity.ini - wf_DynamicFramework - DEBUG - timestep: 95/1003.0 (2010-04-06 00:00:00)\n"
     ]
    },
    {
     "name": "stdout",
     "output_type": "stream",
     "text": [
      "95\n"
     ]
    },
    {
     "name": "stderr",
     "output_type": "stream",
     "text": [
      "2021-12-29 09:37:19,806 - wflow_sbm_sensitivity.ini - wf_DynamicFramework - INFO - saving maps\n",
      "2021-12-29 09:37:19,820 - wflow_sbm_sensitivity.ini - wf_DynamicFramework - DEBUG - timestep: 96/1003.0 (2010-04-07 00:00:00)\n"
     ]
    },
    {
     "name": "stdout",
     "output_type": "stream",
     "text": [
      "96\n"
     ]
    },
    {
     "name": "stderr",
     "output_type": "stream",
     "text": [
      "2021-12-29 09:37:22,111 - wflow_sbm_sensitivity.ini - wf_DynamicFramework - INFO - saving maps\n",
      "2021-12-29 09:37:22,126 - wflow_sbm_sensitivity.ini - wf_DynamicFramework - DEBUG - timestep: 97/1003.0 (2010-04-08 00:00:00)\n"
     ]
    },
    {
     "name": "stdout",
     "output_type": "stream",
     "text": [
      "97\n"
     ]
    },
    {
     "name": "stderr",
     "output_type": "stream",
     "text": [
      "2021-12-29 09:37:24,378 - wflow_sbm_sensitivity.ini - wf_DynamicFramework - INFO - saving maps\n",
      "2021-12-29 09:37:24,393 - wflow_sbm_sensitivity.ini - wf_DynamicFramework - DEBUG - timestep: 98/1003.0 (2010-04-09 00:00:00)\n"
     ]
    },
    {
     "name": "stdout",
     "output_type": "stream",
     "text": [
      "98\n"
     ]
    },
    {
     "name": "stderr",
     "output_type": "stream",
     "text": [
      "2021-12-29 09:37:26,765 - wflow_sbm_sensitivity.ini - wf_DynamicFramework - INFO - saving maps\n",
      "2021-12-29 09:37:26,779 - wflow_sbm_sensitivity.ini - wf_DynamicFramework - DEBUG - timestep: 99/1003.0 (2010-04-10 00:00:00)\n"
     ]
    },
    {
     "name": "stdout",
     "output_type": "stream",
     "text": [
      "99\n"
     ]
    },
    {
     "name": "stderr",
     "output_type": "stream",
     "text": [
      "2021-12-29 09:37:28,959 - wflow_sbm_sensitivity.ini - wf_DynamicFramework - INFO - saving maps\n",
      "2021-12-29 09:37:28,960 - wflow_sbm_sensitivity.ini - wf_netcdfio - DEBUG - Writing buffer for P to file at: 0 100 timesteps\n",
      "2021-12-29 09:37:34,002 - wflow_sbm_sensitivity.ini - wf_netcdfio - DEBUG - Writing buffer for AET to file at: 0 100 timesteps\n",
      "2021-12-29 09:37:45,395 - wflow_sbm_sensitivity.ini - wf_netcdfio - DEBUG - Writing buffer for run to file at: 0 100 timesteps\n",
      "2021-12-29 09:37:59,931 - wflow_sbm_sensitivity.ini - wf_netcdfio - DEBUG - Writing buffer for qo_riv to file at: 0 100 timesteps\n",
      "2021-12-29 09:38:10,647 - wflow_sbm_sensitivity.ini - wf_netcdfio - DEBUG - Writing buffer for ssf_riv to file at: 0 100 timesteps\n",
      "2021-12-29 09:38:23,609 - wflow_sbm_sensitivity.ini - wf_netcdfio - DEBUG - Writing buffer for ex_us to file at: 0 100 timesteps\n",
      "2021-12-29 09:38:23,796 - wflow_sbm_sensitivity.ini - wf_netcdfio - DEBUG - Writing buffer for ex_ss to file at: 0 100 timesteps\n",
      "2021-12-29 09:38:39,062 - wflow_sbm_sensitivity.ini - wf_netcdfio - DEBUG - Writing buffer for ustore to file at: 0 100 timesteps\n",
      "2021-12-29 09:38:44,476 - wflow_sbm_sensitivity.ini - wf_netcdfio - DEBUG - Writing buffer for SWD to file at: 0 100 timesteps\n",
      "2021-12-29 09:38:53,299 - wflow_sbm_sensitivity.ini - wf_netcdfio - DEBUG - Writing buffer for SWC to file at: 0 100 timesteps\n",
      "2021-12-29 09:38:59,030 - wflow_sbm_sensitivity.ini - wf_netcdfio - DEBUG - Writing buffer for trans to file at: 0 100 timesteps\n",
      "2021-12-29 09:39:10,225 - wflow_sbm_sensitivity.ini - wf_netcdfio - DEBUG - Writing buffer for capflux to file at: 0 100 timesteps\n",
      "2021-12-29 09:39:10,406 - wflow_sbm_sensitivity.ini - wf_netcdfio - DEBUG - Writing buffer for in_ex_s to file at: 0 100 timesteps\n",
      "2021-12-29 09:39:22,875 - wflow_sbm_sensitivity.ini - wf_netcdfio - DEBUG - Writing buffer for inw to file at: 0 100 timesteps\n",
      "2021-12-29 09:39:39,425 - wflow_sbm_sensitivity.ini - wf_netcdfio - DEBUG - Writing buffer for sno to file at: 0 100 timesteps\n",
      "2021-12-29 09:39:41,829 - wflow_sbm_sensitivity.ini - wf_netcdfio - DEBUG - Writing buffer for zi to file at: 0 100 timesteps\n",
      "2021-12-29 09:39:53,920 - wflow_sbm_sensitivity.ini - wf_DynamicFramework - DEBUG - timestep: 100/1003.0 (2010-04-11 00:00:00)\n",
      "2021-12-29 09:39:53,922 - wflow_sbm_sensitivity.ini - wflow_sbm - INFO - Saving initial conditions...\n",
      "2021-12-29 09:39:53,934 - wflow_sbm_sensitivity.ini - wf_DynamicFramework - INFO - Saving summary maps to disk...\n"
     ]
    }
   ],
   "source": [
    "# we'll add water over a square box approximately covering Barotse\n",
    "xmin, xmax, ymin, ymax = 130, 150, 80, 125\n",
    "for n in range(100):\n",
    "    print(n)\n",
    "    bmimodel.update()\n",
    "    zi = bmimodel.get_value(\"zi\")\n",
    "    zi[ymin:ymax, xmin:xmax] = np.maximum(0, zi[ymin:ymax, xmin:xmax] - 100)\n",
    "    bmimodel.set_value(\"zi\", zi)\n",
    "\n",
    "# finalize model\n",
    "bmimodel.finalize()\n"
   ]
  },
  {
   "cell_type": "code",
   "execution_count": null,
   "metadata": {},
   "outputs": [],
   "source": [
    "zi = bmimodel.get_value(\"zi\")\n",
    "zi[ymin:ymax, xmin:xmax] = np.maximum(0, zi[ymin:ymax, xmin:xmax] - 2000)\n",
    "plt.imshow(zi, vmin=0, vmax=3000, origin='lower')\n",
    "plt.colorbar()\n",
    "bmimodel.set_value(\"zi\", zi)"
   ]
  },
  {
   "cell_type": "markdown",
   "metadata": {},
   "source": [
    "### Plot zi to see if it is persistent"
   ]
  },
  {
   "cell_type": "code",
   "execution_count": null,
   "metadata": {},
   "outputs": [],
   "source": [
    "import matplotlib.pyplot as plt\n",
    "import matplotlib as mpl\n",
    "from matplotlib import animation\n",
    "step = 5 # one frame every <step> hr\n",
    "# bmimodel.finalize()\n",
    "def update_plot(i, da_fld, cax_fld):\n",
    "    da0_fld = da_fld.isel(time=i)\n",
    "    t = da0_fld.time.dt.strftime(\"%d-%B-%Y %H:%M:%S\").item()\n",
    "    ax.set_title(f'Wflow water depth under surface {t}')\n",
    "    cax_fld.set_array(da0_fld.values)\n",
    "\n",
    "fn = \"/home/hcwinsemius/git/barotse/wflow/run_default/outmaps.nc\"\n",
    "ds = xr.open_dataset(fn)\n",
    "zi = ds[\"zi\"]\n",
    "fig = plt.figure(figsize=(13, 10))\n",
    "ax = plt.subplot(111)\n",
    "cax_zi = zi.isel(time=0).plot(ax=ax, vmin=0, vmax=6000, cmap=plt.cm.Blues_r, cbar_kwargs=dict(aspect=30, fraction=.1))\n",
    "\n",
    "ani = animation.FuncAnimation(\n",
    "    fig,\n",
    "    update_plot,\n",
    "    frames=np.arange(0, 100, step),\n",
    "    interval=250,     # ms between frames\n",
    "    fargs=(zi, cax_zi)\n",
    ")\n",
    "from IPython.display import HTML\n",
    "HTML(ani.to_html5_video())\n",
    "# ani.save('zi.mp4', fps=4, dpi=200)"
   ]
  }
 ],
 "metadata": {
  "kernelspec": {
   "display_name": "Python 3",
   "language": "python",
   "name": "python3"
  },
  "language_info": {
   "codemirror_mode": {
    "name": "ipython",
    "version": 3
   },
   "file_extension": ".py",
   "mimetype": "text/x-python",
   "name": "python",
   "nbconvert_exporter": "python",
   "pygments_lexer": "ipython3",
   "version": "3.8.6"
  }
 },
 "nbformat": 4,
 "nbformat_minor": 4
}
